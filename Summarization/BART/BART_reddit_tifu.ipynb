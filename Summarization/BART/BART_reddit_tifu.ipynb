{
  "nbformat": 4,
  "nbformat_minor": 0,
  "metadata": {
    "colab": {
      "name": "BART reddit_tifu.ipynb",
      "provenance": [],
      "collapsed_sections": [
        "8uvWS0px8qLy",
        "un-jQLfNAsC6",
        "eNoUqKPjmXwa",
        "YSz914k7EWU8"
      ],
      "machine_shape": "hm"
    },
    "kernelspec": {
      "name": "python3",
      "display_name": "Python 3"
    },
    "accelerator": "GPU",
    "widgets": {
      "application/vnd.jupyter.widget-state+json": {
        "462c15a21d094df6a4ff8a5cd00721e5": {
          "model_module": "@jupyter-widgets/controls",
          "model_name": "HBoxModel",
          "state": {
            "_view_name": "HBoxView",
            "_dom_classes": [],
            "_model_name": "HBoxModel",
            "_view_module": "@jupyter-widgets/controls",
            "_model_module_version": "1.5.0",
            "_view_count": null,
            "_view_module_version": "1.5.0",
            "box_style": "",
            "layout": "IPY_MODEL_115e5b82085146eca82d295d04068be5",
            "_model_module": "@jupyter-widgets/controls",
            "children": [
              "IPY_MODEL_973dfde3cb9d4840a02618627dc730e6",
              "IPY_MODEL_ecc41bd6c0a545488d657e9434ae5131"
            ]
          }
        },
        "115e5b82085146eca82d295d04068be5": {
          "model_module": "@jupyter-widgets/base",
          "model_name": "LayoutModel",
          "state": {
            "_view_name": "LayoutView",
            "grid_template_rows": null,
            "right": null,
            "justify_content": null,
            "_view_module": "@jupyter-widgets/base",
            "overflow": null,
            "_model_module_version": "1.2.0",
            "_view_count": null,
            "flex_flow": null,
            "width": null,
            "min_width": null,
            "border": null,
            "align_items": null,
            "bottom": null,
            "_model_module": "@jupyter-widgets/base",
            "top": null,
            "grid_column": null,
            "overflow_y": null,
            "overflow_x": null,
            "grid_auto_flow": null,
            "grid_area": null,
            "grid_template_columns": null,
            "flex": null,
            "_model_name": "LayoutModel",
            "justify_items": null,
            "grid_row": null,
            "max_height": null,
            "align_content": null,
            "visibility": null,
            "align_self": null,
            "height": null,
            "min_height": null,
            "padding": null,
            "grid_auto_rows": null,
            "grid_gap": null,
            "max_width": null,
            "order": null,
            "_view_module_version": "1.2.0",
            "grid_template_areas": null,
            "object_position": null,
            "object_fit": null,
            "grid_auto_columns": null,
            "margin": null,
            "display": null,
            "left": null
          }
        },
        "973dfde3cb9d4840a02618627dc730e6": {
          "model_module": "@jupyter-widgets/controls",
          "model_name": "FloatProgressModel",
          "state": {
            "_view_name": "ProgressView",
            "style": "IPY_MODEL_59a33556704a43a690fbe502c9dc8057",
            "_dom_classes": [],
            "description": "Downloading: 100%",
            "_model_name": "FloatProgressModel",
            "bar_style": "success",
            "max": 1399,
            "_view_module": "@jupyter-widgets/controls",
            "_model_module_version": "1.5.0",
            "value": 1399,
            "_view_count": null,
            "_view_module_version": "1.5.0",
            "orientation": "horizontal",
            "min": 0,
            "description_tooltip": null,
            "_model_module": "@jupyter-widgets/controls",
            "layout": "IPY_MODEL_6aebe9979db9410ba175feedec05bd3d"
          }
        },
        "ecc41bd6c0a545488d657e9434ae5131": {
          "model_module": "@jupyter-widgets/controls",
          "model_name": "HTMLModel",
          "state": {
            "_view_name": "HTMLView",
            "style": "IPY_MODEL_d645983397474ed1a631e5af8e17b14c",
            "_dom_classes": [],
            "description": "",
            "_model_name": "HTMLModel",
            "placeholder": "​",
            "_view_module": "@jupyter-widgets/controls",
            "_model_module_version": "1.5.0",
            "value": " 1.40k/1.40k [01:16&lt;00:00, 18.4B/s]",
            "_view_count": null,
            "_view_module_version": "1.5.0",
            "description_tooltip": null,
            "_model_module": "@jupyter-widgets/controls",
            "layout": "IPY_MODEL_6414277bf2734192915584cb8b12625d"
          }
        },
        "59a33556704a43a690fbe502c9dc8057": {
          "model_module": "@jupyter-widgets/controls",
          "model_name": "ProgressStyleModel",
          "state": {
            "_view_name": "StyleView",
            "_model_name": "ProgressStyleModel",
            "description_width": "initial",
            "_view_module": "@jupyter-widgets/base",
            "_model_module_version": "1.5.0",
            "_view_count": null,
            "_view_module_version": "1.2.0",
            "bar_color": null,
            "_model_module": "@jupyter-widgets/controls"
          }
        },
        "6aebe9979db9410ba175feedec05bd3d": {
          "model_module": "@jupyter-widgets/base",
          "model_name": "LayoutModel",
          "state": {
            "_view_name": "LayoutView",
            "grid_template_rows": null,
            "right": null,
            "justify_content": null,
            "_view_module": "@jupyter-widgets/base",
            "overflow": null,
            "_model_module_version": "1.2.0",
            "_view_count": null,
            "flex_flow": null,
            "width": null,
            "min_width": null,
            "border": null,
            "align_items": null,
            "bottom": null,
            "_model_module": "@jupyter-widgets/base",
            "top": null,
            "grid_column": null,
            "overflow_y": null,
            "overflow_x": null,
            "grid_auto_flow": null,
            "grid_area": null,
            "grid_template_columns": null,
            "flex": null,
            "_model_name": "LayoutModel",
            "justify_items": null,
            "grid_row": null,
            "max_height": null,
            "align_content": null,
            "visibility": null,
            "align_self": null,
            "height": null,
            "min_height": null,
            "padding": null,
            "grid_auto_rows": null,
            "grid_gap": null,
            "max_width": null,
            "order": null,
            "_view_module_version": "1.2.0",
            "grid_template_areas": null,
            "object_position": null,
            "object_fit": null,
            "grid_auto_columns": null,
            "margin": null,
            "display": null,
            "left": null
          }
        },
        "d645983397474ed1a631e5af8e17b14c": {
          "model_module": "@jupyter-widgets/controls",
          "model_name": "DescriptionStyleModel",
          "state": {
            "_view_name": "StyleView",
            "_model_name": "DescriptionStyleModel",
            "description_width": "",
            "_view_module": "@jupyter-widgets/base",
            "_model_module_version": "1.5.0",
            "_view_count": null,
            "_view_module_version": "1.2.0",
            "_model_module": "@jupyter-widgets/controls"
          }
        },
        "6414277bf2734192915584cb8b12625d": {
          "model_module": "@jupyter-widgets/base",
          "model_name": "LayoutModel",
          "state": {
            "_view_name": "LayoutView",
            "grid_template_rows": null,
            "right": null,
            "justify_content": null,
            "_view_module": "@jupyter-widgets/base",
            "overflow": null,
            "_model_module_version": "1.2.0",
            "_view_count": null,
            "flex_flow": null,
            "width": null,
            "min_width": null,
            "border": null,
            "align_items": null,
            "bottom": null,
            "_model_module": "@jupyter-widgets/base",
            "top": null,
            "grid_column": null,
            "overflow_y": null,
            "overflow_x": null,
            "grid_auto_flow": null,
            "grid_area": null,
            "grid_template_columns": null,
            "flex": null,
            "_model_name": "LayoutModel",
            "justify_items": null,
            "grid_row": null,
            "max_height": null,
            "align_content": null,
            "visibility": null,
            "align_self": null,
            "height": null,
            "min_height": null,
            "padding": null,
            "grid_auto_rows": null,
            "grid_gap": null,
            "max_width": null,
            "order": null,
            "_view_module_version": "1.2.0",
            "grid_template_areas": null,
            "object_position": null,
            "object_fit": null,
            "grid_auto_columns": null,
            "margin": null,
            "display": null,
            "left": null
          }
        },
        "45bb5e184bdb4d00ab36924916d7f358": {
          "model_module": "@jupyter-widgets/controls",
          "model_name": "HBoxModel",
          "state": {
            "_view_name": "HBoxView",
            "_dom_classes": [],
            "_model_name": "HBoxModel",
            "_view_module": "@jupyter-widgets/controls",
            "_model_module_version": "1.5.0",
            "_view_count": null,
            "_view_module_version": "1.5.0",
            "box_style": "",
            "layout": "IPY_MODEL_c631fce79b604945944e75ac02f96dbe",
            "_model_module": "@jupyter-widgets/controls",
            "children": [
              "IPY_MODEL_7fc2190979b04ccfa42d1ee1a78c0679",
              "IPY_MODEL_16ef8a473fbd496a90c31341761247dc"
            ]
          }
        },
        "c631fce79b604945944e75ac02f96dbe": {
          "model_module": "@jupyter-widgets/base",
          "model_name": "LayoutModel",
          "state": {
            "_view_name": "LayoutView",
            "grid_template_rows": null,
            "right": null,
            "justify_content": null,
            "_view_module": "@jupyter-widgets/base",
            "overflow": null,
            "_model_module_version": "1.2.0",
            "_view_count": null,
            "flex_flow": null,
            "width": null,
            "min_width": null,
            "border": null,
            "align_items": null,
            "bottom": null,
            "_model_module": "@jupyter-widgets/base",
            "top": null,
            "grid_column": null,
            "overflow_y": null,
            "overflow_x": null,
            "grid_auto_flow": null,
            "grid_area": null,
            "grid_template_columns": null,
            "flex": null,
            "_model_name": "LayoutModel",
            "justify_items": null,
            "grid_row": null,
            "max_height": null,
            "align_content": null,
            "visibility": null,
            "align_self": null,
            "height": null,
            "min_height": null,
            "padding": null,
            "grid_auto_rows": null,
            "grid_gap": null,
            "max_width": null,
            "order": null,
            "_view_module_version": "1.2.0",
            "grid_template_areas": null,
            "object_position": null,
            "object_fit": null,
            "grid_auto_columns": null,
            "margin": null,
            "display": null,
            "left": null
          }
        },
        "7fc2190979b04ccfa42d1ee1a78c0679": {
          "model_module": "@jupyter-widgets/controls",
          "model_name": "FloatProgressModel",
          "state": {
            "_view_name": "ProgressView",
            "style": "IPY_MODEL_b0196596ca3d4cbbb8c9f57d5b715cae",
            "_dom_classes": [],
            "description": "Downloading: 100%",
            "_model_name": "FloatProgressModel",
            "bar_style": "success",
            "max": 1625270765,
            "_view_module": "@jupyter-widgets/controls",
            "_model_module_version": "1.5.0",
            "value": 1625270765,
            "_view_count": null,
            "_view_module_version": "1.5.0",
            "orientation": "horizontal",
            "min": 0,
            "description_tooltip": null,
            "_model_module": "@jupyter-widgets/controls",
            "layout": "IPY_MODEL_03105d027a7a48f49c3139669b1b4d1a"
          }
        },
        "16ef8a473fbd496a90c31341761247dc": {
          "model_module": "@jupyter-widgets/controls",
          "model_name": "HTMLModel",
          "state": {
            "_view_name": "HTMLView",
            "style": "IPY_MODEL_9659a4f6f0964b2c8485c935861521f0",
            "_dom_classes": [],
            "description": "",
            "_model_name": "HTMLModel",
            "placeholder": "​",
            "_view_module": "@jupyter-widgets/controls",
            "_model_module_version": "1.5.0",
            "value": " 1.63G/1.63G [01:00&lt;00:00, 26.8MB/s]",
            "_view_count": null,
            "_view_module_version": "1.5.0",
            "description_tooltip": null,
            "_model_module": "@jupyter-widgets/controls",
            "layout": "IPY_MODEL_c01fb4ac014d42f8af687eaaafed4954"
          }
        },
        "b0196596ca3d4cbbb8c9f57d5b715cae": {
          "model_module": "@jupyter-widgets/controls",
          "model_name": "ProgressStyleModel",
          "state": {
            "_view_name": "StyleView",
            "_model_name": "ProgressStyleModel",
            "description_width": "initial",
            "_view_module": "@jupyter-widgets/base",
            "_model_module_version": "1.5.0",
            "_view_count": null,
            "_view_module_version": "1.2.0",
            "bar_color": null,
            "_model_module": "@jupyter-widgets/controls"
          }
        },
        "03105d027a7a48f49c3139669b1b4d1a": {
          "model_module": "@jupyter-widgets/base",
          "model_name": "LayoutModel",
          "state": {
            "_view_name": "LayoutView",
            "grid_template_rows": null,
            "right": null,
            "justify_content": null,
            "_view_module": "@jupyter-widgets/base",
            "overflow": null,
            "_model_module_version": "1.2.0",
            "_view_count": null,
            "flex_flow": null,
            "width": null,
            "min_width": null,
            "border": null,
            "align_items": null,
            "bottom": null,
            "_model_module": "@jupyter-widgets/base",
            "top": null,
            "grid_column": null,
            "overflow_y": null,
            "overflow_x": null,
            "grid_auto_flow": null,
            "grid_area": null,
            "grid_template_columns": null,
            "flex": null,
            "_model_name": "LayoutModel",
            "justify_items": null,
            "grid_row": null,
            "max_height": null,
            "align_content": null,
            "visibility": null,
            "align_self": null,
            "height": null,
            "min_height": null,
            "padding": null,
            "grid_auto_rows": null,
            "grid_gap": null,
            "max_width": null,
            "order": null,
            "_view_module_version": "1.2.0",
            "grid_template_areas": null,
            "object_position": null,
            "object_fit": null,
            "grid_auto_columns": null,
            "margin": null,
            "display": null,
            "left": null
          }
        },
        "9659a4f6f0964b2c8485c935861521f0": {
          "model_module": "@jupyter-widgets/controls",
          "model_name": "DescriptionStyleModel",
          "state": {
            "_view_name": "StyleView",
            "_model_name": "DescriptionStyleModel",
            "description_width": "",
            "_view_module": "@jupyter-widgets/base",
            "_model_module_version": "1.5.0",
            "_view_count": null,
            "_view_module_version": "1.2.0",
            "_model_module": "@jupyter-widgets/controls"
          }
        },
        "c01fb4ac014d42f8af687eaaafed4954": {
          "model_module": "@jupyter-widgets/base",
          "model_name": "LayoutModel",
          "state": {
            "_view_name": "LayoutView",
            "grid_template_rows": null,
            "right": null,
            "justify_content": null,
            "_view_module": "@jupyter-widgets/base",
            "overflow": null,
            "_model_module_version": "1.2.0",
            "_view_count": null,
            "flex_flow": null,
            "width": null,
            "min_width": null,
            "border": null,
            "align_items": null,
            "bottom": null,
            "_model_module": "@jupyter-widgets/base",
            "top": null,
            "grid_column": null,
            "overflow_y": null,
            "overflow_x": null,
            "grid_auto_flow": null,
            "grid_area": null,
            "grid_template_columns": null,
            "flex": null,
            "_model_name": "LayoutModel",
            "justify_items": null,
            "grid_row": null,
            "max_height": null,
            "align_content": null,
            "visibility": null,
            "align_self": null,
            "height": null,
            "min_height": null,
            "padding": null,
            "grid_auto_rows": null,
            "grid_gap": null,
            "max_width": null,
            "order": null,
            "_view_module_version": "1.2.0",
            "grid_template_areas": null,
            "object_position": null,
            "object_fit": null,
            "grid_auto_columns": null,
            "margin": null,
            "display": null,
            "left": null
          }
        },
        "68022418b822466596fb472d0d3a418d": {
          "model_module": "@jupyter-widgets/controls",
          "model_name": "HBoxModel",
          "state": {
            "_view_name": "HBoxView",
            "_dom_classes": [],
            "_model_name": "HBoxModel",
            "_view_module": "@jupyter-widgets/controls",
            "_model_module_version": "1.5.0",
            "_view_count": null,
            "_view_module_version": "1.5.0",
            "box_style": "",
            "layout": "IPY_MODEL_a70ef36997e240ffab30d776af49ecce",
            "_model_module": "@jupyter-widgets/controls",
            "children": [
              "IPY_MODEL_7c9f385e34b84610beb69bcee0cf664b",
              "IPY_MODEL_ad3f85324b5f4ec8a05f2cafc8c1edc9"
            ]
          }
        },
        "a70ef36997e240ffab30d776af49ecce": {
          "model_module": "@jupyter-widgets/base",
          "model_name": "LayoutModel",
          "state": {
            "_view_name": "LayoutView",
            "grid_template_rows": null,
            "right": null,
            "justify_content": null,
            "_view_module": "@jupyter-widgets/base",
            "overflow": null,
            "_model_module_version": "1.2.0",
            "_view_count": null,
            "flex_flow": null,
            "width": null,
            "min_width": null,
            "border": null,
            "align_items": null,
            "bottom": null,
            "_model_module": "@jupyter-widgets/base",
            "top": null,
            "grid_column": null,
            "overflow_y": null,
            "overflow_x": null,
            "grid_auto_flow": null,
            "grid_area": null,
            "grid_template_columns": null,
            "flex": null,
            "_model_name": "LayoutModel",
            "justify_items": null,
            "grid_row": null,
            "max_height": null,
            "align_content": null,
            "visibility": null,
            "align_self": null,
            "height": null,
            "min_height": null,
            "padding": null,
            "grid_auto_rows": null,
            "grid_gap": null,
            "max_width": null,
            "order": null,
            "_view_module_version": "1.2.0",
            "grid_template_areas": null,
            "object_position": null,
            "object_fit": null,
            "grid_auto_columns": null,
            "margin": null,
            "display": null,
            "left": null
          }
        },
        "7c9f385e34b84610beb69bcee0cf664b": {
          "model_module": "@jupyter-widgets/controls",
          "model_name": "FloatProgressModel",
          "state": {
            "_view_name": "ProgressView",
            "style": "IPY_MODEL_ea0af3f61eed4aceaf9c24db0e3e667a",
            "_dom_classes": [],
            "description": "Downloading: 100%",
            "_model_name": "FloatProgressModel",
            "bar_style": "success",
            "max": 898823,
            "_view_module": "@jupyter-widgets/controls",
            "_model_module_version": "1.5.0",
            "value": 898823,
            "_view_count": null,
            "_view_module_version": "1.5.0",
            "orientation": "horizontal",
            "min": 0,
            "description_tooltip": null,
            "_model_module": "@jupyter-widgets/controls",
            "layout": "IPY_MODEL_c152ec0e0b754ddd810a05f54fe5a176"
          }
        },
        "ad3f85324b5f4ec8a05f2cafc8c1edc9": {
          "model_module": "@jupyter-widgets/controls",
          "model_name": "HTMLModel",
          "state": {
            "_view_name": "HTMLView",
            "style": "IPY_MODEL_67e138525be34dfd93fb40af54e1338a",
            "_dom_classes": [],
            "description": "",
            "_model_name": "HTMLModel",
            "placeholder": "​",
            "_view_module": "@jupyter-widgets/controls",
            "_model_module_version": "1.5.0",
            "value": " 899k/899k [00:01&lt;00:00, 454kB/s]",
            "_view_count": null,
            "_view_module_version": "1.5.0",
            "description_tooltip": null,
            "_model_module": "@jupyter-widgets/controls",
            "layout": "IPY_MODEL_0932b0a60dfd4046a0fbbbf8603b394b"
          }
        },
        "ea0af3f61eed4aceaf9c24db0e3e667a": {
          "model_module": "@jupyter-widgets/controls",
          "model_name": "ProgressStyleModel",
          "state": {
            "_view_name": "StyleView",
            "_model_name": "ProgressStyleModel",
            "description_width": "initial",
            "_view_module": "@jupyter-widgets/base",
            "_model_module_version": "1.5.0",
            "_view_count": null,
            "_view_module_version": "1.2.0",
            "bar_color": null,
            "_model_module": "@jupyter-widgets/controls"
          }
        },
        "c152ec0e0b754ddd810a05f54fe5a176": {
          "model_module": "@jupyter-widgets/base",
          "model_name": "LayoutModel",
          "state": {
            "_view_name": "LayoutView",
            "grid_template_rows": null,
            "right": null,
            "justify_content": null,
            "_view_module": "@jupyter-widgets/base",
            "overflow": null,
            "_model_module_version": "1.2.0",
            "_view_count": null,
            "flex_flow": null,
            "width": null,
            "min_width": null,
            "border": null,
            "align_items": null,
            "bottom": null,
            "_model_module": "@jupyter-widgets/base",
            "top": null,
            "grid_column": null,
            "overflow_y": null,
            "overflow_x": null,
            "grid_auto_flow": null,
            "grid_area": null,
            "grid_template_columns": null,
            "flex": null,
            "_model_name": "LayoutModel",
            "justify_items": null,
            "grid_row": null,
            "max_height": null,
            "align_content": null,
            "visibility": null,
            "align_self": null,
            "height": null,
            "min_height": null,
            "padding": null,
            "grid_auto_rows": null,
            "grid_gap": null,
            "max_width": null,
            "order": null,
            "_view_module_version": "1.2.0",
            "grid_template_areas": null,
            "object_position": null,
            "object_fit": null,
            "grid_auto_columns": null,
            "margin": null,
            "display": null,
            "left": null
          }
        },
        "67e138525be34dfd93fb40af54e1338a": {
          "model_module": "@jupyter-widgets/controls",
          "model_name": "DescriptionStyleModel",
          "state": {
            "_view_name": "StyleView",
            "_model_name": "DescriptionStyleModel",
            "description_width": "",
            "_view_module": "@jupyter-widgets/base",
            "_model_module_version": "1.5.0",
            "_view_count": null,
            "_view_module_version": "1.2.0",
            "_model_module": "@jupyter-widgets/controls"
          }
        },
        "0932b0a60dfd4046a0fbbbf8603b394b": {
          "model_module": "@jupyter-widgets/base",
          "model_name": "LayoutModel",
          "state": {
            "_view_name": "LayoutView",
            "grid_template_rows": null,
            "right": null,
            "justify_content": null,
            "_view_module": "@jupyter-widgets/base",
            "overflow": null,
            "_model_module_version": "1.2.0",
            "_view_count": null,
            "flex_flow": null,
            "width": null,
            "min_width": null,
            "border": null,
            "align_items": null,
            "bottom": null,
            "_model_module": "@jupyter-widgets/base",
            "top": null,
            "grid_column": null,
            "overflow_y": null,
            "overflow_x": null,
            "grid_auto_flow": null,
            "grid_area": null,
            "grid_template_columns": null,
            "flex": null,
            "_model_name": "LayoutModel",
            "justify_items": null,
            "grid_row": null,
            "max_height": null,
            "align_content": null,
            "visibility": null,
            "align_self": null,
            "height": null,
            "min_height": null,
            "padding": null,
            "grid_auto_rows": null,
            "grid_gap": null,
            "max_width": null,
            "order": null,
            "_view_module_version": "1.2.0",
            "grid_template_areas": null,
            "object_position": null,
            "object_fit": null,
            "grid_auto_columns": null,
            "margin": null,
            "display": null,
            "left": null
          }
        },
        "ae85913cec5b41638d40eee5e1f747c0": {
          "model_module": "@jupyter-widgets/controls",
          "model_name": "HBoxModel",
          "state": {
            "_view_name": "HBoxView",
            "_dom_classes": [],
            "_model_name": "HBoxModel",
            "_view_module": "@jupyter-widgets/controls",
            "_model_module_version": "1.5.0",
            "_view_count": null,
            "_view_module_version": "1.5.0",
            "box_style": "",
            "layout": "IPY_MODEL_95bd852cb7044ca7b1c2ac9906ada35b",
            "_model_module": "@jupyter-widgets/controls",
            "children": [
              "IPY_MODEL_c42084fcef924566a7e69e6bf0bced6e",
              "IPY_MODEL_a397ca8c6ef34d7fa352b1a27dce1fdb"
            ]
          }
        },
        "95bd852cb7044ca7b1c2ac9906ada35b": {
          "model_module": "@jupyter-widgets/base",
          "model_name": "LayoutModel",
          "state": {
            "_view_name": "LayoutView",
            "grid_template_rows": null,
            "right": null,
            "justify_content": null,
            "_view_module": "@jupyter-widgets/base",
            "overflow": null,
            "_model_module_version": "1.2.0",
            "_view_count": null,
            "flex_flow": null,
            "width": null,
            "min_width": null,
            "border": null,
            "align_items": null,
            "bottom": null,
            "_model_module": "@jupyter-widgets/base",
            "top": null,
            "grid_column": null,
            "overflow_y": null,
            "overflow_x": null,
            "grid_auto_flow": null,
            "grid_area": null,
            "grid_template_columns": null,
            "flex": null,
            "_model_name": "LayoutModel",
            "justify_items": null,
            "grid_row": null,
            "max_height": null,
            "align_content": null,
            "visibility": null,
            "align_self": null,
            "height": null,
            "min_height": null,
            "padding": null,
            "grid_auto_rows": null,
            "grid_gap": null,
            "max_width": null,
            "order": null,
            "_view_module_version": "1.2.0",
            "grid_template_areas": null,
            "object_position": null,
            "object_fit": null,
            "grid_auto_columns": null,
            "margin": null,
            "display": null,
            "left": null
          }
        },
        "c42084fcef924566a7e69e6bf0bced6e": {
          "model_module": "@jupyter-widgets/controls",
          "model_name": "FloatProgressModel",
          "state": {
            "_view_name": "ProgressView",
            "style": "IPY_MODEL_2d80b1a7a2b14766a14cc959c50448bb",
            "_dom_classes": [],
            "description": "Downloading: 100%",
            "_model_name": "FloatProgressModel",
            "bar_style": "success",
            "max": 456318,
            "_view_module": "@jupyter-widgets/controls",
            "_model_module_version": "1.5.0",
            "value": 456318,
            "_view_count": null,
            "_view_module_version": "1.5.0",
            "orientation": "horizontal",
            "min": 0,
            "description_tooltip": null,
            "_model_module": "@jupyter-widgets/controls",
            "layout": "IPY_MODEL_3375fb459c794cb4ac16bba06ce94ca4"
          }
        },
        "a397ca8c6ef34d7fa352b1a27dce1fdb": {
          "model_module": "@jupyter-widgets/controls",
          "model_name": "HTMLModel",
          "state": {
            "_view_name": "HTMLView",
            "style": "IPY_MODEL_fd39c73e93b44551a690d19f69eb44e1",
            "_dom_classes": [],
            "description": "",
            "_model_name": "HTMLModel",
            "placeholder": "​",
            "_view_module": "@jupyter-widgets/controls",
            "_model_module_version": "1.5.0",
            "value": " 456k/456k [00:00&lt;00:00, 476kB/s]",
            "_view_count": null,
            "_view_module_version": "1.5.0",
            "description_tooltip": null,
            "_model_module": "@jupyter-widgets/controls",
            "layout": "IPY_MODEL_0205cb54c9054bdda6472b127eaaeb6f"
          }
        },
        "2d80b1a7a2b14766a14cc959c50448bb": {
          "model_module": "@jupyter-widgets/controls",
          "model_name": "ProgressStyleModel",
          "state": {
            "_view_name": "StyleView",
            "_model_name": "ProgressStyleModel",
            "description_width": "initial",
            "_view_module": "@jupyter-widgets/base",
            "_model_module_version": "1.5.0",
            "_view_count": null,
            "_view_module_version": "1.2.0",
            "bar_color": null,
            "_model_module": "@jupyter-widgets/controls"
          }
        },
        "3375fb459c794cb4ac16bba06ce94ca4": {
          "model_module": "@jupyter-widgets/base",
          "model_name": "LayoutModel",
          "state": {
            "_view_name": "LayoutView",
            "grid_template_rows": null,
            "right": null,
            "justify_content": null,
            "_view_module": "@jupyter-widgets/base",
            "overflow": null,
            "_model_module_version": "1.2.0",
            "_view_count": null,
            "flex_flow": null,
            "width": null,
            "min_width": null,
            "border": null,
            "align_items": null,
            "bottom": null,
            "_model_module": "@jupyter-widgets/base",
            "top": null,
            "grid_column": null,
            "overflow_y": null,
            "overflow_x": null,
            "grid_auto_flow": null,
            "grid_area": null,
            "grid_template_columns": null,
            "flex": null,
            "_model_name": "LayoutModel",
            "justify_items": null,
            "grid_row": null,
            "max_height": null,
            "align_content": null,
            "visibility": null,
            "align_self": null,
            "height": null,
            "min_height": null,
            "padding": null,
            "grid_auto_rows": null,
            "grid_gap": null,
            "max_width": null,
            "order": null,
            "_view_module_version": "1.2.0",
            "grid_template_areas": null,
            "object_position": null,
            "object_fit": null,
            "grid_auto_columns": null,
            "margin": null,
            "display": null,
            "left": null
          }
        },
        "fd39c73e93b44551a690d19f69eb44e1": {
          "model_module": "@jupyter-widgets/controls",
          "model_name": "DescriptionStyleModel",
          "state": {
            "_view_name": "StyleView",
            "_model_name": "DescriptionStyleModel",
            "description_width": "",
            "_view_module": "@jupyter-widgets/base",
            "_model_module_version": "1.5.0",
            "_view_count": null,
            "_view_module_version": "1.2.0",
            "_model_module": "@jupyter-widgets/controls"
          }
        },
        "0205cb54c9054bdda6472b127eaaeb6f": {
          "model_module": "@jupyter-widgets/base",
          "model_name": "LayoutModel",
          "state": {
            "_view_name": "LayoutView",
            "grid_template_rows": null,
            "right": null,
            "justify_content": null,
            "_view_module": "@jupyter-widgets/base",
            "overflow": null,
            "_model_module_version": "1.2.0",
            "_view_count": null,
            "flex_flow": null,
            "width": null,
            "min_width": null,
            "border": null,
            "align_items": null,
            "bottom": null,
            "_model_module": "@jupyter-widgets/base",
            "top": null,
            "grid_column": null,
            "overflow_y": null,
            "overflow_x": null,
            "grid_auto_flow": null,
            "grid_area": null,
            "grid_template_columns": null,
            "flex": null,
            "_model_name": "LayoutModel",
            "justify_items": null,
            "grid_row": null,
            "max_height": null,
            "align_content": null,
            "visibility": null,
            "align_self": null,
            "height": null,
            "min_height": null,
            "padding": null,
            "grid_auto_rows": null,
            "grid_gap": null,
            "max_width": null,
            "order": null,
            "_view_module_version": "1.2.0",
            "grid_template_areas": null,
            "object_position": null,
            "object_fit": null,
            "grid_auto_columns": null,
            "margin": null,
            "display": null,
            "left": null
          }
        },
        "8f44aabb98de48b086396eec252e447c": {
          "model_module": "@jupyter-widgets/controls",
          "model_name": "HBoxModel",
          "state": {
            "_view_name": "HBoxView",
            "_dom_classes": [],
            "_model_name": "HBoxModel",
            "_view_module": "@jupyter-widgets/controls",
            "_model_module_version": "1.5.0",
            "_view_count": null,
            "_view_module_version": "1.5.0",
            "box_style": "",
            "layout": "IPY_MODEL_0aa924253ba349eabaef82c35e22b41d",
            "_model_module": "@jupyter-widgets/controls",
            "children": [
              "IPY_MODEL_279c7c9975d04c07bb73516cd881d2c9",
              "IPY_MODEL_05b076f1c08642cbb9f3256eccddd6c1"
            ]
          }
        },
        "0aa924253ba349eabaef82c35e22b41d": {
          "model_module": "@jupyter-widgets/base",
          "model_name": "LayoutModel",
          "state": {
            "_view_name": "LayoutView",
            "grid_template_rows": null,
            "right": null,
            "justify_content": null,
            "_view_module": "@jupyter-widgets/base",
            "overflow": null,
            "_model_module_version": "1.2.0",
            "_view_count": null,
            "flex_flow": null,
            "width": null,
            "min_width": null,
            "border": null,
            "align_items": null,
            "bottom": null,
            "_model_module": "@jupyter-widgets/base",
            "top": null,
            "grid_column": null,
            "overflow_y": null,
            "overflow_x": null,
            "grid_auto_flow": null,
            "grid_area": null,
            "grid_template_columns": null,
            "flex": null,
            "_model_name": "LayoutModel",
            "justify_items": null,
            "grid_row": null,
            "max_height": null,
            "align_content": null,
            "visibility": null,
            "align_self": null,
            "height": null,
            "min_height": null,
            "padding": null,
            "grid_auto_rows": null,
            "grid_gap": null,
            "max_width": null,
            "order": null,
            "_view_module_version": "1.2.0",
            "grid_template_areas": null,
            "object_position": null,
            "object_fit": null,
            "grid_auto_columns": null,
            "margin": null,
            "display": null,
            "left": null
          }
        },
        "279c7c9975d04c07bb73516cd881d2c9": {
          "model_module": "@jupyter-widgets/controls",
          "model_name": "FloatProgressModel",
          "state": {
            "_view_name": "ProgressView",
            "style": "IPY_MODEL_ba4df13ad1494af6ab699e2a5364430b",
            "_dom_classes": [],
            "description": "Downloading: 100%",
            "_model_name": "FloatProgressModel",
            "bar_style": "success",
            "max": 1355863,
            "_view_module": "@jupyter-widgets/controls",
            "_model_module_version": "1.5.0",
            "value": 1355863,
            "_view_count": null,
            "_view_module_version": "1.5.0",
            "orientation": "horizontal",
            "min": 0,
            "description_tooltip": null,
            "_model_module": "@jupyter-widgets/controls",
            "layout": "IPY_MODEL_27b9bab6c1a749989c32d780d5097dd1"
          }
        },
        "05b076f1c08642cbb9f3256eccddd6c1": {
          "model_module": "@jupyter-widgets/controls",
          "model_name": "HTMLModel",
          "state": {
            "_view_name": "HTMLView",
            "style": "IPY_MODEL_3ce6c86b39694a80a4942483343f5925",
            "_dom_classes": [],
            "description": "",
            "_model_name": "HTMLModel",
            "placeholder": "​",
            "_view_module": "@jupyter-widgets/controls",
            "_model_module_version": "1.5.0",
            "value": " 1.36M/1.36M [00:10&lt;00:00, 125kB/s]",
            "_view_count": null,
            "_view_module_version": "1.5.0",
            "description_tooltip": null,
            "_model_module": "@jupyter-widgets/controls",
            "layout": "IPY_MODEL_e70b8569c2314385bcd743adc453ad11"
          }
        },
        "ba4df13ad1494af6ab699e2a5364430b": {
          "model_module": "@jupyter-widgets/controls",
          "model_name": "ProgressStyleModel",
          "state": {
            "_view_name": "StyleView",
            "_model_name": "ProgressStyleModel",
            "description_width": "initial",
            "_view_module": "@jupyter-widgets/base",
            "_model_module_version": "1.5.0",
            "_view_count": null,
            "_view_module_version": "1.2.0",
            "bar_color": null,
            "_model_module": "@jupyter-widgets/controls"
          }
        },
        "27b9bab6c1a749989c32d780d5097dd1": {
          "model_module": "@jupyter-widgets/base",
          "model_name": "LayoutModel",
          "state": {
            "_view_name": "LayoutView",
            "grid_template_rows": null,
            "right": null,
            "justify_content": null,
            "_view_module": "@jupyter-widgets/base",
            "overflow": null,
            "_model_module_version": "1.2.0",
            "_view_count": null,
            "flex_flow": null,
            "width": null,
            "min_width": null,
            "border": null,
            "align_items": null,
            "bottom": null,
            "_model_module": "@jupyter-widgets/base",
            "top": null,
            "grid_column": null,
            "overflow_y": null,
            "overflow_x": null,
            "grid_auto_flow": null,
            "grid_area": null,
            "grid_template_columns": null,
            "flex": null,
            "_model_name": "LayoutModel",
            "justify_items": null,
            "grid_row": null,
            "max_height": null,
            "align_content": null,
            "visibility": null,
            "align_self": null,
            "height": null,
            "min_height": null,
            "padding": null,
            "grid_auto_rows": null,
            "grid_gap": null,
            "max_width": null,
            "order": null,
            "_view_module_version": "1.2.0",
            "grid_template_areas": null,
            "object_position": null,
            "object_fit": null,
            "grid_auto_columns": null,
            "margin": null,
            "display": null,
            "left": null
          }
        },
        "3ce6c86b39694a80a4942483343f5925": {
          "model_module": "@jupyter-widgets/controls",
          "model_name": "DescriptionStyleModel",
          "state": {
            "_view_name": "StyleView",
            "_model_name": "DescriptionStyleModel",
            "description_width": "",
            "_view_module": "@jupyter-widgets/base",
            "_model_module_version": "1.5.0",
            "_view_count": null,
            "_view_module_version": "1.2.0",
            "_model_module": "@jupyter-widgets/controls"
          }
        },
        "e70b8569c2314385bcd743adc453ad11": {
          "model_module": "@jupyter-widgets/base",
          "model_name": "LayoutModel",
          "state": {
            "_view_name": "LayoutView",
            "grid_template_rows": null,
            "right": null,
            "justify_content": null,
            "_view_module": "@jupyter-widgets/base",
            "overflow": null,
            "_model_module_version": "1.2.0",
            "_view_count": null,
            "flex_flow": null,
            "width": null,
            "min_width": null,
            "border": null,
            "align_items": null,
            "bottom": null,
            "_model_module": "@jupyter-widgets/base",
            "top": null,
            "grid_column": null,
            "overflow_y": null,
            "overflow_x": null,
            "grid_auto_flow": null,
            "grid_area": null,
            "grid_template_columns": null,
            "flex": null,
            "_model_name": "LayoutModel",
            "justify_items": null,
            "grid_row": null,
            "max_height": null,
            "align_content": null,
            "visibility": null,
            "align_self": null,
            "height": null,
            "min_height": null,
            "padding": null,
            "grid_auto_rows": null,
            "grid_gap": null,
            "max_width": null,
            "order": null,
            "_view_module_version": "1.2.0",
            "grid_template_areas": null,
            "object_position": null,
            "object_fit": null,
            "grid_auto_columns": null,
            "margin": null,
            "display": null,
            "left": null
          }
        },
        "523222b456ad409f9ef6412e8dee1c9f": {
          "model_module": "@jupyter-widgets/controls",
          "model_name": "HBoxModel",
          "state": {
            "_view_name": "HBoxView",
            "_dom_classes": [],
            "_model_name": "HBoxModel",
            "_view_module": "@jupyter-widgets/controls",
            "_model_module_version": "1.5.0",
            "_view_count": null,
            "_view_module_version": "1.5.0",
            "box_style": "",
            "layout": "IPY_MODEL_5ab60bcac1b54433b6c467ed1f5086e1",
            "_model_module": "@jupyter-widgets/controls",
            "children": [
              "IPY_MODEL_ed41065e06784405bc108537b0b38230",
              "IPY_MODEL_2d9838c5ac804a32afc963d90ec53a43"
            ]
          }
        },
        "5ab60bcac1b54433b6c467ed1f5086e1": {
          "model_module": "@jupyter-widgets/base",
          "model_name": "LayoutModel",
          "state": {
            "_view_name": "LayoutView",
            "grid_template_rows": null,
            "right": null,
            "justify_content": null,
            "_view_module": "@jupyter-widgets/base",
            "overflow": null,
            "_model_module_version": "1.2.0",
            "_view_count": null,
            "flex_flow": null,
            "width": null,
            "min_width": null,
            "border": null,
            "align_items": null,
            "bottom": null,
            "_model_module": "@jupyter-widgets/base",
            "top": null,
            "grid_column": null,
            "overflow_y": null,
            "overflow_x": null,
            "grid_auto_flow": null,
            "grid_area": null,
            "grid_template_columns": null,
            "flex": null,
            "_model_name": "LayoutModel",
            "justify_items": null,
            "grid_row": null,
            "max_height": null,
            "align_content": null,
            "visibility": null,
            "align_self": null,
            "height": null,
            "min_height": null,
            "padding": null,
            "grid_auto_rows": null,
            "grid_gap": null,
            "max_width": null,
            "order": null,
            "_view_module_version": "1.2.0",
            "grid_template_areas": null,
            "object_position": null,
            "object_fit": null,
            "grid_auto_columns": null,
            "margin": null,
            "display": null,
            "left": null
          }
        },
        "ed41065e06784405bc108537b0b38230": {
          "model_module": "@jupyter-widgets/controls",
          "model_name": "FloatProgressModel",
          "state": {
            "_view_name": "ProgressView",
            "style": "IPY_MODEL_44e781165f054ef48e59c705adec3a9b",
            "_dom_classes": [],
            "description": "Downloading: ",
            "_model_name": "FloatProgressModel",
            "bar_style": "success",
            "max": 1936,
            "_view_module": "@jupyter-widgets/controls",
            "_model_module_version": "1.5.0",
            "value": 1936,
            "_view_count": null,
            "_view_module_version": "1.5.0",
            "orientation": "horizontal",
            "min": 0,
            "description_tooltip": null,
            "_model_module": "@jupyter-widgets/controls",
            "layout": "IPY_MODEL_4401d7b3619e4cbfa56e203acd68c6a2"
          }
        },
        "2d9838c5ac804a32afc963d90ec53a43": {
          "model_module": "@jupyter-widgets/controls",
          "model_name": "HTMLModel",
          "state": {
            "_view_name": "HTMLView",
            "style": "IPY_MODEL_96b58178d7724269b62a46432bbdbbc6",
            "_dom_classes": [],
            "description": "",
            "_model_name": "HTMLModel",
            "placeholder": "​",
            "_view_module": "@jupyter-widgets/controls",
            "_model_module_version": "1.5.0",
            "value": " 4.65k/? [00:13&lt;00:00, 333B/s]",
            "_view_count": null,
            "_view_module_version": "1.5.0",
            "description_tooltip": null,
            "_model_module": "@jupyter-widgets/controls",
            "layout": "IPY_MODEL_766b1b4465f040888a332e46002628c5"
          }
        },
        "44e781165f054ef48e59c705adec3a9b": {
          "model_module": "@jupyter-widgets/controls",
          "model_name": "ProgressStyleModel",
          "state": {
            "_view_name": "StyleView",
            "_model_name": "ProgressStyleModel",
            "description_width": "initial",
            "_view_module": "@jupyter-widgets/base",
            "_model_module_version": "1.5.0",
            "_view_count": null,
            "_view_module_version": "1.2.0",
            "bar_color": null,
            "_model_module": "@jupyter-widgets/controls"
          }
        },
        "4401d7b3619e4cbfa56e203acd68c6a2": {
          "model_module": "@jupyter-widgets/base",
          "model_name": "LayoutModel",
          "state": {
            "_view_name": "LayoutView",
            "grid_template_rows": null,
            "right": null,
            "justify_content": null,
            "_view_module": "@jupyter-widgets/base",
            "overflow": null,
            "_model_module_version": "1.2.0",
            "_view_count": null,
            "flex_flow": null,
            "width": null,
            "min_width": null,
            "border": null,
            "align_items": null,
            "bottom": null,
            "_model_module": "@jupyter-widgets/base",
            "top": null,
            "grid_column": null,
            "overflow_y": null,
            "overflow_x": null,
            "grid_auto_flow": null,
            "grid_area": null,
            "grid_template_columns": null,
            "flex": null,
            "_model_name": "LayoutModel",
            "justify_items": null,
            "grid_row": null,
            "max_height": null,
            "align_content": null,
            "visibility": null,
            "align_self": null,
            "height": null,
            "min_height": null,
            "padding": null,
            "grid_auto_rows": null,
            "grid_gap": null,
            "max_width": null,
            "order": null,
            "_view_module_version": "1.2.0",
            "grid_template_areas": null,
            "object_position": null,
            "object_fit": null,
            "grid_auto_columns": null,
            "margin": null,
            "display": null,
            "left": null
          }
        },
        "96b58178d7724269b62a46432bbdbbc6": {
          "model_module": "@jupyter-widgets/controls",
          "model_name": "DescriptionStyleModel",
          "state": {
            "_view_name": "StyleView",
            "_model_name": "DescriptionStyleModel",
            "description_width": "",
            "_view_module": "@jupyter-widgets/base",
            "_model_module_version": "1.5.0",
            "_view_count": null,
            "_view_module_version": "1.2.0",
            "_model_module": "@jupyter-widgets/controls"
          }
        },
        "766b1b4465f040888a332e46002628c5": {
          "model_module": "@jupyter-widgets/base",
          "model_name": "LayoutModel",
          "state": {
            "_view_name": "LayoutView",
            "grid_template_rows": null,
            "right": null,
            "justify_content": null,
            "_view_module": "@jupyter-widgets/base",
            "overflow": null,
            "_model_module_version": "1.2.0",
            "_view_count": null,
            "flex_flow": null,
            "width": null,
            "min_width": null,
            "border": null,
            "align_items": null,
            "bottom": null,
            "_model_module": "@jupyter-widgets/base",
            "top": null,
            "grid_column": null,
            "overflow_y": null,
            "overflow_x": null,
            "grid_auto_flow": null,
            "grid_area": null,
            "grid_template_columns": null,
            "flex": null,
            "_model_name": "LayoutModel",
            "justify_items": null,
            "grid_row": null,
            "max_height": null,
            "align_content": null,
            "visibility": null,
            "align_self": null,
            "height": null,
            "min_height": null,
            "padding": null,
            "grid_auto_rows": null,
            "grid_gap": null,
            "max_width": null,
            "order": null,
            "_view_module_version": "1.2.0",
            "grid_template_areas": null,
            "object_position": null,
            "object_fit": null,
            "grid_auto_columns": null,
            "margin": null,
            "display": null,
            "left": null
          }
        },
        "2f92a5e9bef44d018fc7061d7766c25f": {
          "model_module": "@jupyter-widgets/controls",
          "model_name": "HBoxModel",
          "state": {
            "_view_name": "HBoxView",
            "_dom_classes": [],
            "_model_name": "HBoxModel",
            "_view_module": "@jupyter-widgets/controls",
            "_model_module_version": "1.5.0",
            "_view_count": null,
            "_view_module_version": "1.5.0",
            "box_style": "",
            "layout": "IPY_MODEL_acf79051ad4841559113726ec6f22d0d",
            "_model_module": "@jupyter-widgets/controls",
            "children": [
              "IPY_MODEL_541ba67a0a9a4541bfd74ca8bbdbd38f",
              "IPY_MODEL_9fceb196e4e64345915ab59717c2b4e9"
            ]
          }
        },
        "acf79051ad4841559113726ec6f22d0d": {
          "model_module": "@jupyter-widgets/base",
          "model_name": "LayoutModel",
          "state": {
            "_view_name": "LayoutView",
            "grid_template_rows": null,
            "right": null,
            "justify_content": null,
            "_view_module": "@jupyter-widgets/base",
            "overflow": null,
            "_model_module_version": "1.2.0",
            "_view_count": null,
            "flex_flow": null,
            "width": null,
            "min_width": null,
            "border": null,
            "align_items": null,
            "bottom": null,
            "_model_module": "@jupyter-widgets/base",
            "top": null,
            "grid_column": null,
            "overflow_y": null,
            "overflow_x": null,
            "grid_auto_flow": null,
            "grid_area": null,
            "grid_template_columns": null,
            "flex": null,
            "_model_name": "LayoutModel",
            "justify_items": null,
            "grid_row": null,
            "max_height": null,
            "align_content": null,
            "visibility": null,
            "align_self": null,
            "height": null,
            "min_height": null,
            "padding": null,
            "grid_auto_rows": null,
            "grid_gap": null,
            "max_width": null,
            "order": null,
            "_view_module_version": "1.2.0",
            "grid_template_areas": null,
            "object_position": null,
            "object_fit": null,
            "grid_auto_columns": null,
            "margin": null,
            "display": null,
            "left": null
          }
        },
        "541ba67a0a9a4541bfd74ca8bbdbd38f": {
          "model_module": "@jupyter-widgets/controls",
          "model_name": "FloatProgressModel",
          "state": {
            "_view_name": "ProgressView",
            "style": "IPY_MODEL_3a29b51ecd064cd1bebf4e5299a4feb4",
            "_dom_classes": [],
            "description": "Downloading: ",
            "_model_name": "FloatProgressModel",
            "bar_style": "success",
            "max": 950,
            "_view_module": "@jupyter-widgets/controls",
            "_model_module_version": "1.5.0",
            "value": 950,
            "_view_count": null,
            "_view_module_version": "1.5.0",
            "orientation": "horizontal",
            "min": 0,
            "description_tooltip": null,
            "_model_module": "@jupyter-widgets/controls",
            "layout": "IPY_MODEL_4978a803a02046699494e710bceb6c8e"
          }
        },
        "9fceb196e4e64345915ab59717c2b4e9": {
          "model_module": "@jupyter-widgets/controls",
          "model_name": "HTMLModel",
          "state": {
            "_view_name": "HTMLView",
            "style": "IPY_MODEL_b538cc246e5e4624923a3c7327cc4333",
            "_dom_classes": [],
            "description": "",
            "_model_name": "HTMLModel",
            "placeholder": "​",
            "_view_module": "@jupyter-widgets/controls",
            "_model_module_version": "1.5.0",
            "value": " 3.82k/? [00:00&lt;00:00, 83.3kB/s]",
            "_view_count": null,
            "_view_module_version": "1.5.0",
            "description_tooltip": null,
            "_model_module": "@jupyter-widgets/controls",
            "layout": "IPY_MODEL_d114edce57cd41f3878d19ced7895410"
          }
        },
        "3a29b51ecd064cd1bebf4e5299a4feb4": {
          "model_module": "@jupyter-widgets/controls",
          "model_name": "ProgressStyleModel",
          "state": {
            "_view_name": "StyleView",
            "_model_name": "ProgressStyleModel",
            "description_width": "initial",
            "_view_module": "@jupyter-widgets/base",
            "_model_module_version": "1.5.0",
            "_view_count": null,
            "_view_module_version": "1.2.0",
            "bar_color": null,
            "_model_module": "@jupyter-widgets/controls"
          }
        },
        "4978a803a02046699494e710bceb6c8e": {
          "model_module": "@jupyter-widgets/base",
          "model_name": "LayoutModel",
          "state": {
            "_view_name": "LayoutView",
            "grid_template_rows": null,
            "right": null,
            "justify_content": null,
            "_view_module": "@jupyter-widgets/base",
            "overflow": null,
            "_model_module_version": "1.2.0",
            "_view_count": null,
            "flex_flow": null,
            "width": null,
            "min_width": null,
            "border": null,
            "align_items": null,
            "bottom": null,
            "_model_module": "@jupyter-widgets/base",
            "top": null,
            "grid_column": null,
            "overflow_y": null,
            "overflow_x": null,
            "grid_auto_flow": null,
            "grid_area": null,
            "grid_template_columns": null,
            "flex": null,
            "_model_name": "LayoutModel",
            "justify_items": null,
            "grid_row": null,
            "max_height": null,
            "align_content": null,
            "visibility": null,
            "align_self": null,
            "height": null,
            "min_height": null,
            "padding": null,
            "grid_auto_rows": null,
            "grid_gap": null,
            "max_width": null,
            "order": null,
            "_view_module_version": "1.2.0",
            "grid_template_areas": null,
            "object_position": null,
            "object_fit": null,
            "grid_auto_columns": null,
            "margin": null,
            "display": null,
            "left": null
          }
        },
        "b538cc246e5e4624923a3c7327cc4333": {
          "model_module": "@jupyter-widgets/controls",
          "model_name": "DescriptionStyleModel",
          "state": {
            "_view_name": "StyleView",
            "_model_name": "DescriptionStyleModel",
            "description_width": "",
            "_view_module": "@jupyter-widgets/base",
            "_model_module_version": "1.5.0",
            "_view_count": null,
            "_view_module_version": "1.2.0",
            "_model_module": "@jupyter-widgets/controls"
          }
        },
        "d114edce57cd41f3878d19ced7895410": {
          "model_module": "@jupyter-widgets/base",
          "model_name": "LayoutModel",
          "state": {
            "_view_name": "LayoutView",
            "grid_template_rows": null,
            "right": null,
            "justify_content": null,
            "_view_module": "@jupyter-widgets/base",
            "overflow": null,
            "_model_module_version": "1.2.0",
            "_view_count": null,
            "flex_flow": null,
            "width": null,
            "min_width": null,
            "border": null,
            "align_items": null,
            "bottom": null,
            "_model_module": "@jupyter-widgets/base",
            "top": null,
            "grid_column": null,
            "overflow_y": null,
            "overflow_x": null,
            "grid_auto_flow": null,
            "grid_area": null,
            "grid_template_columns": null,
            "flex": null,
            "_model_name": "LayoutModel",
            "justify_items": null,
            "grid_row": null,
            "max_height": null,
            "align_content": null,
            "visibility": null,
            "align_self": null,
            "height": null,
            "min_height": null,
            "padding": null,
            "grid_auto_rows": null,
            "grid_gap": null,
            "max_width": null,
            "order": null,
            "_view_module_version": "1.2.0",
            "grid_template_areas": null,
            "object_position": null,
            "object_fit": null,
            "grid_auto_columns": null,
            "margin": null,
            "display": null,
            "left": null
          }
        },
        "f773e70e9c0f4630a1927feb27393a6d": {
          "model_module": "@jupyter-widgets/controls",
          "model_name": "HBoxModel",
          "state": {
            "_view_name": "HBoxView",
            "_dom_classes": [],
            "_model_name": "HBoxModel",
            "_view_module": "@jupyter-widgets/controls",
            "_model_module_version": "1.5.0",
            "_view_count": null,
            "_view_module_version": "1.5.0",
            "box_style": "",
            "layout": "IPY_MODEL_f20f4e7d4ad44b06a87ef006af808135",
            "_model_module": "@jupyter-widgets/controls",
            "children": [
              "IPY_MODEL_de8652d6349b48f7b0159610ca41edbc",
              "IPY_MODEL_04c4119560394a8f811999098cde3abf"
            ]
          }
        },
        "f20f4e7d4ad44b06a87ef006af808135": {
          "model_module": "@jupyter-widgets/base",
          "model_name": "LayoutModel",
          "state": {
            "_view_name": "LayoutView",
            "grid_template_rows": null,
            "right": null,
            "justify_content": null,
            "_view_module": "@jupyter-widgets/base",
            "overflow": null,
            "_model_module_version": "1.2.0",
            "_view_count": null,
            "flex_flow": null,
            "width": null,
            "min_width": null,
            "border": null,
            "align_items": null,
            "bottom": null,
            "_model_module": "@jupyter-widgets/base",
            "top": null,
            "grid_column": null,
            "overflow_y": null,
            "overflow_x": null,
            "grid_auto_flow": null,
            "grid_area": null,
            "grid_template_columns": null,
            "flex": null,
            "_model_name": "LayoutModel",
            "justify_items": null,
            "grid_row": null,
            "max_height": null,
            "align_content": null,
            "visibility": null,
            "align_self": null,
            "height": null,
            "min_height": null,
            "padding": null,
            "grid_auto_rows": null,
            "grid_gap": null,
            "max_width": null,
            "order": null,
            "_view_module_version": "1.2.0",
            "grid_template_areas": null,
            "object_position": null,
            "object_fit": null,
            "grid_auto_columns": null,
            "margin": null,
            "display": null,
            "left": null
          }
        },
        "de8652d6349b48f7b0159610ca41edbc": {
          "model_module": "@jupyter-widgets/controls",
          "model_name": "FloatProgressModel",
          "state": {
            "_view_name": "ProgressView",
            "style": "IPY_MODEL_80aaa1dc0670403aa445c291b8bc1d9c",
            "_dom_classes": [],
            "description": "Downloading: ",
            "_model_name": "FloatProgressModel",
            "bar_style": "success",
            "max": 1,
            "_view_module": "@jupyter-widgets/controls",
            "_model_module_version": "1.5.0",
            "value": 1,
            "_view_count": null,
            "_view_module_version": "1.5.0",
            "orientation": "horizontal",
            "min": 0,
            "description_tooltip": null,
            "_model_module": "@jupyter-widgets/controls",
            "layout": "IPY_MODEL_6b04076314334da394841dea1e29d92c"
          }
        },
        "04c4119560394a8f811999098cde3abf": {
          "model_module": "@jupyter-widgets/controls",
          "model_name": "HTMLModel",
          "state": {
            "_view_name": "HTMLView",
            "style": "IPY_MODEL_5fe3afc147fc46bca30e84b264632611",
            "_dom_classes": [],
            "description": "",
            "_model_name": "HTMLModel",
            "placeholder": "​",
            "_view_module": "@jupyter-widgets/controls",
            "_model_module_version": "1.5.0",
            "value": " 671M/? [00:11&lt;00:00, 57.9MB/s]",
            "_view_count": null,
            "_view_module_version": "1.5.0",
            "description_tooltip": null,
            "_model_module": "@jupyter-widgets/controls",
            "layout": "IPY_MODEL_3e02da5595794915854e3b8e4047e6c5"
          }
        },
        "80aaa1dc0670403aa445c291b8bc1d9c": {
          "model_module": "@jupyter-widgets/controls",
          "model_name": "ProgressStyleModel",
          "state": {
            "_view_name": "StyleView",
            "_model_name": "ProgressStyleModel",
            "description_width": "initial",
            "_view_module": "@jupyter-widgets/base",
            "_model_module_version": "1.5.0",
            "_view_count": null,
            "_view_module_version": "1.2.0",
            "bar_color": null,
            "_model_module": "@jupyter-widgets/controls"
          }
        },
        "6b04076314334da394841dea1e29d92c": {
          "model_module": "@jupyter-widgets/base",
          "model_name": "LayoutModel",
          "state": {
            "_view_name": "LayoutView",
            "grid_template_rows": null,
            "right": null,
            "justify_content": null,
            "_view_module": "@jupyter-widgets/base",
            "overflow": null,
            "_model_module_version": "1.2.0",
            "_view_count": null,
            "flex_flow": null,
            "width": null,
            "min_width": null,
            "border": null,
            "align_items": null,
            "bottom": null,
            "_model_module": "@jupyter-widgets/base",
            "top": null,
            "grid_column": null,
            "overflow_y": null,
            "overflow_x": null,
            "grid_auto_flow": null,
            "grid_area": null,
            "grid_template_columns": null,
            "flex": null,
            "_model_name": "LayoutModel",
            "justify_items": null,
            "grid_row": null,
            "max_height": null,
            "align_content": null,
            "visibility": null,
            "align_self": null,
            "height": null,
            "min_height": null,
            "padding": null,
            "grid_auto_rows": null,
            "grid_gap": null,
            "max_width": null,
            "order": null,
            "_view_module_version": "1.2.0",
            "grid_template_areas": null,
            "object_position": null,
            "object_fit": null,
            "grid_auto_columns": null,
            "margin": null,
            "display": null,
            "left": null
          }
        },
        "5fe3afc147fc46bca30e84b264632611": {
          "model_module": "@jupyter-widgets/controls",
          "model_name": "DescriptionStyleModel",
          "state": {
            "_view_name": "StyleView",
            "_model_name": "DescriptionStyleModel",
            "description_width": "",
            "_view_module": "@jupyter-widgets/base",
            "_model_module_version": "1.5.0",
            "_view_count": null,
            "_view_module_version": "1.2.0",
            "_model_module": "@jupyter-widgets/controls"
          }
        },
        "3e02da5595794915854e3b8e4047e6c5": {
          "model_module": "@jupyter-widgets/base",
          "model_name": "LayoutModel",
          "state": {
            "_view_name": "LayoutView",
            "grid_template_rows": null,
            "right": null,
            "justify_content": null,
            "_view_module": "@jupyter-widgets/base",
            "overflow": null,
            "_model_module_version": "1.2.0",
            "_view_count": null,
            "flex_flow": null,
            "width": null,
            "min_width": null,
            "border": null,
            "align_items": null,
            "bottom": null,
            "_model_module": "@jupyter-widgets/base",
            "top": null,
            "grid_column": null,
            "overflow_y": null,
            "overflow_x": null,
            "grid_auto_flow": null,
            "grid_area": null,
            "grid_template_columns": null,
            "flex": null,
            "_model_name": "LayoutModel",
            "justify_items": null,
            "grid_row": null,
            "max_height": null,
            "align_content": null,
            "visibility": null,
            "align_self": null,
            "height": null,
            "min_height": null,
            "padding": null,
            "grid_auto_rows": null,
            "grid_gap": null,
            "max_width": null,
            "order": null,
            "_view_module_version": "1.2.0",
            "grid_template_areas": null,
            "object_position": null,
            "object_fit": null,
            "grid_auto_columns": null,
            "margin": null,
            "display": null,
            "left": null
          }
        },
        "0b1805f8d0ac469fb89ac331256d9c38": {
          "model_module": "@jupyter-widgets/controls",
          "model_name": "HBoxModel",
          "state": {
            "_view_name": "HBoxView",
            "_dom_classes": [],
            "_model_name": "HBoxModel",
            "_view_module": "@jupyter-widgets/controls",
            "_model_module_version": "1.5.0",
            "_view_count": null,
            "_view_module_version": "1.5.0",
            "box_style": "",
            "layout": "IPY_MODEL_ba12f71159ea4d6e958a57796a777634",
            "_model_module": "@jupyter-widgets/controls",
            "children": [
              "IPY_MODEL_9fef97e08c2f4c93b67c63f1189a0109",
              "IPY_MODEL_eccfcd495de24f5c86d4715302ca62a5"
            ]
          }
        },
        "ba12f71159ea4d6e958a57796a777634": {
          "model_module": "@jupyter-widgets/base",
          "model_name": "LayoutModel",
          "state": {
            "_view_name": "LayoutView",
            "grid_template_rows": null,
            "right": null,
            "justify_content": null,
            "_view_module": "@jupyter-widgets/base",
            "overflow": null,
            "_model_module_version": "1.2.0",
            "_view_count": null,
            "flex_flow": null,
            "width": null,
            "min_width": null,
            "border": null,
            "align_items": null,
            "bottom": null,
            "_model_module": "@jupyter-widgets/base",
            "top": null,
            "grid_column": null,
            "overflow_y": null,
            "overflow_x": null,
            "grid_auto_flow": null,
            "grid_area": null,
            "grid_template_columns": null,
            "flex": null,
            "_model_name": "LayoutModel",
            "justify_items": null,
            "grid_row": null,
            "max_height": null,
            "align_content": null,
            "visibility": null,
            "align_self": null,
            "height": null,
            "min_height": null,
            "padding": null,
            "grid_auto_rows": null,
            "grid_gap": null,
            "max_width": null,
            "order": null,
            "_view_module_version": "1.2.0",
            "grid_template_areas": null,
            "object_position": null,
            "object_fit": null,
            "grid_auto_columns": null,
            "margin": null,
            "display": null,
            "left": null
          }
        },
        "9fef97e08c2f4c93b67c63f1189a0109": {
          "model_module": "@jupyter-widgets/controls",
          "model_name": "FloatProgressModel",
          "state": {
            "_view_name": "ProgressView",
            "style": "IPY_MODEL_8a0d9ef4951b4c86b021eef934de0bb0",
            "_dom_classes": [],
            "description": "",
            "_model_name": "FloatProgressModel",
            "bar_style": "info",
            "max": 1,
            "_view_module": "@jupyter-widgets/controls",
            "_model_module_version": "1.5.0",
            "value": 1,
            "_view_count": null,
            "_view_module_version": "1.5.0",
            "orientation": "horizontal",
            "min": 0,
            "description_tooltip": null,
            "_model_module": "@jupyter-widgets/controls",
            "layout": "IPY_MODEL_7c44debe18a5474393881a2af21c56a9"
          }
        },
        "eccfcd495de24f5c86d4715302ca62a5": {
          "model_module": "@jupyter-widgets/controls",
          "model_name": "HTMLModel",
          "state": {
            "_view_name": "HTMLView",
            "style": "IPY_MODEL_a9cdcf8510364cfcb69c2e1068c0f39e",
            "_dom_classes": [],
            "description": "",
            "_model_name": "HTMLModel",
            "placeholder": "​",
            "_view_module": "@jupyter-widgets/controls",
            "_model_module_version": "1.5.0",
            "value": " 42139/0 [00:08&lt;00:00, 5864.00 examples/s]",
            "_view_count": null,
            "_view_module_version": "1.5.0",
            "description_tooltip": null,
            "_model_module": "@jupyter-widgets/controls",
            "layout": "IPY_MODEL_a30872f138b441ad9a9e862028aa7b38"
          }
        },
        "8a0d9ef4951b4c86b021eef934de0bb0": {
          "model_module": "@jupyter-widgets/controls",
          "model_name": "ProgressStyleModel",
          "state": {
            "_view_name": "StyleView",
            "_model_name": "ProgressStyleModel",
            "description_width": "initial",
            "_view_module": "@jupyter-widgets/base",
            "_model_module_version": "1.5.0",
            "_view_count": null,
            "_view_module_version": "1.2.0",
            "bar_color": null,
            "_model_module": "@jupyter-widgets/controls"
          }
        },
        "7c44debe18a5474393881a2af21c56a9": {
          "model_module": "@jupyter-widgets/base",
          "model_name": "LayoutModel",
          "state": {
            "_view_name": "LayoutView",
            "grid_template_rows": null,
            "right": null,
            "justify_content": null,
            "_view_module": "@jupyter-widgets/base",
            "overflow": null,
            "_model_module_version": "1.2.0",
            "_view_count": null,
            "flex_flow": null,
            "width": null,
            "min_width": null,
            "border": null,
            "align_items": null,
            "bottom": null,
            "_model_module": "@jupyter-widgets/base",
            "top": null,
            "grid_column": null,
            "overflow_y": null,
            "overflow_x": null,
            "grid_auto_flow": null,
            "grid_area": null,
            "grid_template_columns": null,
            "flex": null,
            "_model_name": "LayoutModel",
            "justify_items": null,
            "grid_row": null,
            "max_height": null,
            "align_content": null,
            "visibility": null,
            "align_self": null,
            "height": null,
            "min_height": null,
            "padding": null,
            "grid_auto_rows": null,
            "grid_gap": null,
            "max_width": null,
            "order": null,
            "_view_module_version": "1.2.0",
            "grid_template_areas": null,
            "object_position": null,
            "object_fit": null,
            "grid_auto_columns": null,
            "margin": null,
            "display": null,
            "left": null
          }
        },
        "a9cdcf8510364cfcb69c2e1068c0f39e": {
          "model_module": "@jupyter-widgets/controls",
          "model_name": "DescriptionStyleModel",
          "state": {
            "_view_name": "StyleView",
            "_model_name": "DescriptionStyleModel",
            "description_width": "",
            "_view_module": "@jupyter-widgets/base",
            "_model_module_version": "1.5.0",
            "_view_count": null,
            "_view_module_version": "1.2.0",
            "_model_module": "@jupyter-widgets/controls"
          }
        },
        "a30872f138b441ad9a9e862028aa7b38": {
          "model_module": "@jupyter-widgets/base",
          "model_name": "LayoutModel",
          "state": {
            "_view_name": "LayoutView",
            "grid_template_rows": null,
            "right": null,
            "justify_content": null,
            "_view_module": "@jupyter-widgets/base",
            "overflow": null,
            "_model_module_version": "1.2.0",
            "_view_count": null,
            "flex_flow": null,
            "width": null,
            "min_width": null,
            "border": null,
            "align_items": null,
            "bottom": null,
            "_model_module": "@jupyter-widgets/base",
            "top": null,
            "grid_column": null,
            "overflow_y": null,
            "overflow_x": null,
            "grid_auto_flow": null,
            "grid_area": null,
            "grid_template_columns": null,
            "flex": null,
            "_model_name": "LayoutModel",
            "justify_items": null,
            "grid_row": null,
            "max_height": null,
            "align_content": null,
            "visibility": null,
            "align_self": null,
            "height": null,
            "min_height": null,
            "padding": null,
            "grid_auto_rows": null,
            "grid_gap": null,
            "max_width": null,
            "order": null,
            "_view_module_version": "1.2.0",
            "grid_template_areas": null,
            "object_position": null,
            "object_fit": null,
            "grid_auto_columns": null,
            "margin": null,
            "display": null,
            "left": null
          }
        },
        "f1dbec66644943d39cd4361be8d482a0": {
          "model_module": "@jupyter-widgets/controls",
          "model_name": "HBoxModel",
          "state": {
            "_view_name": "HBoxView",
            "_dom_classes": [],
            "_model_name": "HBoxModel",
            "_view_module": "@jupyter-widgets/controls",
            "_model_module_version": "1.5.0",
            "_view_count": null,
            "_view_module_version": "1.5.0",
            "box_style": "",
            "layout": "IPY_MODEL_0e949e8804c640fe8374a7192850e824",
            "_model_module": "@jupyter-widgets/controls",
            "children": [
              "IPY_MODEL_aee106ebe786495c902f2ec4a1666650",
              "IPY_MODEL_ec3331b087f54bfc82ad748088b74364"
            ]
          }
        },
        "0e949e8804c640fe8374a7192850e824": {
          "model_module": "@jupyter-widgets/base",
          "model_name": "LayoutModel",
          "state": {
            "_view_name": "LayoutView",
            "grid_template_rows": null,
            "right": null,
            "justify_content": null,
            "_view_module": "@jupyter-widgets/base",
            "overflow": null,
            "_model_module_version": "1.2.0",
            "_view_count": null,
            "flex_flow": null,
            "width": null,
            "min_width": null,
            "border": null,
            "align_items": null,
            "bottom": null,
            "_model_module": "@jupyter-widgets/base",
            "top": null,
            "grid_column": null,
            "overflow_y": null,
            "overflow_x": null,
            "grid_auto_flow": null,
            "grid_area": null,
            "grid_template_columns": null,
            "flex": null,
            "_model_name": "LayoutModel",
            "justify_items": null,
            "grid_row": null,
            "max_height": null,
            "align_content": null,
            "visibility": null,
            "align_self": null,
            "height": null,
            "min_height": null,
            "padding": null,
            "grid_auto_rows": null,
            "grid_gap": null,
            "max_width": null,
            "order": null,
            "_view_module_version": "1.2.0",
            "grid_template_areas": null,
            "object_position": null,
            "object_fit": null,
            "grid_auto_columns": null,
            "margin": null,
            "display": null,
            "left": null
          }
        },
        "aee106ebe786495c902f2ec4a1666650": {
          "model_module": "@jupyter-widgets/controls",
          "model_name": "FloatProgressModel",
          "state": {
            "_view_name": "ProgressView",
            "style": "IPY_MODEL_80a0a2c518364a6eb4bba1a0d18c5888",
            "_dom_classes": [],
            "description": "Downloading: ",
            "_model_name": "FloatProgressModel",
            "bar_style": "success",
            "max": 2170,
            "_view_module": "@jupyter-widgets/controls",
            "_model_module_version": "1.5.0",
            "value": 2170,
            "_view_count": null,
            "_view_module_version": "1.5.0",
            "orientation": "horizontal",
            "min": 0,
            "description_tooltip": null,
            "_model_module": "@jupyter-widgets/controls",
            "layout": "IPY_MODEL_4584c2cc80544f24958fd7ff61f1274c"
          }
        },
        "ec3331b087f54bfc82ad748088b74364": {
          "model_module": "@jupyter-widgets/controls",
          "model_name": "HTMLModel",
          "state": {
            "_view_name": "HTMLView",
            "style": "IPY_MODEL_b82f92097c944dbda44df3975b0a307f",
            "_dom_classes": [],
            "description": "",
            "_model_name": "HTMLModel",
            "placeholder": "​",
            "_view_module": "@jupyter-widgets/controls",
            "_model_module_version": "1.5.0",
            "value": " 5.61k/? [00:00&lt;00:00, 21.8kB/s]",
            "_view_count": null,
            "_view_module_version": "1.5.0",
            "description_tooltip": null,
            "_model_module": "@jupyter-widgets/controls",
            "layout": "IPY_MODEL_acf650a3744242638f61437238229ac3"
          }
        },
        "80a0a2c518364a6eb4bba1a0d18c5888": {
          "model_module": "@jupyter-widgets/controls",
          "model_name": "ProgressStyleModel",
          "state": {
            "_view_name": "StyleView",
            "_model_name": "ProgressStyleModel",
            "description_width": "initial",
            "_view_module": "@jupyter-widgets/base",
            "_model_module_version": "1.5.0",
            "_view_count": null,
            "_view_module_version": "1.2.0",
            "bar_color": null,
            "_model_module": "@jupyter-widgets/controls"
          }
        },
        "4584c2cc80544f24958fd7ff61f1274c": {
          "model_module": "@jupyter-widgets/base",
          "model_name": "LayoutModel",
          "state": {
            "_view_name": "LayoutView",
            "grid_template_rows": null,
            "right": null,
            "justify_content": null,
            "_view_module": "@jupyter-widgets/base",
            "overflow": null,
            "_model_module_version": "1.2.0",
            "_view_count": null,
            "flex_flow": null,
            "width": null,
            "min_width": null,
            "border": null,
            "align_items": null,
            "bottom": null,
            "_model_module": "@jupyter-widgets/base",
            "top": null,
            "grid_column": null,
            "overflow_y": null,
            "overflow_x": null,
            "grid_auto_flow": null,
            "grid_area": null,
            "grid_template_columns": null,
            "flex": null,
            "_model_name": "LayoutModel",
            "justify_items": null,
            "grid_row": null,
            "max_height": null,
            "align_content": null,
            "visibility": null,
            "align_self": null,
            "height": null,
            "min_height": null,
            "padding": null,
            "grid_auto_rows": null,
            "grid_gap": null,
            "max_width": null,
            "order": null,
            "_view_module_version": "1.2.0",
            "grid_template_areas": null,
            "object_position": null,
            "object_fit": null,
            "grid_auto_columns": null,
            "margin": null,
            "display": null,
            "left": null
          }
        },
        "b82f92097c944dbda44df3975b0a307f": {
          "model_module": "@jupyter-widgets/controls",
          "model_name": "DescriptionStyleModel",
          "state": {
            "_view_name": "StyleView",
            "_model_name": "DescriptionStyleModel",
            "description_width": "",
            "_view_module": "@jupyter-widgets/base",
            "_model_module_version": "1.5.0",
            "_view_count": null,
            "_view_module_version": "1.2.0",
            "_model_module": "@jupyter-widgets/controls"
          }
        },
        "acf650a3744242638f61437238229ac3": {
          "model_module": "@jupyter-widgets/base",
          "model_name": "LayoutModel",
          "state": {
            "_view_name": "LayoutView",
            "grid_template_rows": null,
            "right": null,
            "justify_content": null,
            "_view_module": "@jupyter-widgets/base",
            "overflow": null,
            "_model_module_version": "1.2.0",
            "_view_count": null,
            "flex_flow": null,
            "width": null,
            "min_width": null,
            "border": null,
            "align_items": null,
            "bottom": null,
            "_model_module": "@jupyter-widgets/base",
            "top": null,
            "grid_column": null,
            "overflow_y": null,
            "overflow_x": null,
            "grid_auto_flow": null,
            "grid_area": null,
            "grid_template_columns": null,
            "flex": null,
            "_model_name": "LayoutModel",
            "justify_items": null,
            "grid_row": null,
            "max_height": null,
            "align_content": null,
            "visibility": null,
            "align_self": null,
            "height": null,
            "min_height": null,
            "padding": null,
            "grid_auto_rows": null,
            "grid_gap": null,
            "max_width": null,
            "order": null,
            "_view_module_version": "1.2.0",
            "grid_template_areas": null,
            "object_position": null,
            "object_fit": null,
            "grid_auto_columns": null,
            "margin": null,
            "display": null,
            "left": null
          }
        }
      }
    }
  },
  "cells": [
    {
      "cell_type": "markdown",
      "metadata": {
        "id": "4cbgwZWWfWpp"
      },
      "source": [
        "# New Section"
      ]
    },
    {
      "cell_type": "markdown",
      "metadata": {
        "id": "8uvWS0px8qLy"
      },
      "source": [
        "### 1. Import Resources\n"
      ]
    },
    {
      "cell_type": "code",
      "metadata": {
        "colab": {
          "base_uri": "https://localhost:8080/"
        },
        "id": "9rHtFq0g3aPY",
        "outputId": "02f14893-f4e5-4787-8419-4e3d29429fbf"
      },
      "source": [
        "!pip3 install transformers"
      ],
      "execution_count": null,
      "outputs": [
        {
          "output_type": "stream",
          "text": [
            "Collecting transformers\n",
            "\u001b[?25l  Downloading https://files.pythonhosted.org/packages/f9/54/5ca07ec9569d2f232f3166de5457b63943882f7950ddfcc887732fc7fb23/transformers-4.3.3-py3-none-any.whl (1.9MB)\n",
            "\u001b[K     |████████████████████████████████| 1.9MB 10.2MB/s \n",
            "\u001b[?25hCollecting sacremoses\n",
            "\u001b[?25l  Downloading https://files.pythonhosted.org/packages/7d/34/09d19aff26edcc8eb2a01bed8e98f13a1537005d31e95233fd48216eed10/sacremoses-0.0.43.tar.gz (883kB)\n",
            "\u001b[K     |████████████████████████████████| 890kB 33.0MB/s \n",
            "\u001b[?25hRequirement already satisfied: regex!=2019.12.17 in /usr/local/lib/python3.7/dist-packages (from transformers) (2019.12.20)\n",
            "Collecting tokenizers<0.11,>=0.10.1\n",
            "\u001b[?25l  Downloading https://files.pythonhosted.org/packages/71/23/2ddc317b2121117bf34dd00f5b0de194158f2a44ee2bf5e47c7166878a97/tokenizers-0.10.1-cp37-cp37m-manylinux2010_x86_64.whl (3.2MB)\n",
            "\u001b[K     |████████████████████████████████| 3.2MB 44.8MB/s \n",
            "\u001b[?25hRequirement already satisfied: numpy>=1.17 in /usr/local/lib/python3.7/dist-packages (from transformers) (1.19.5)\n",
            "Requirement already satisfied: filelock in /usr/local/lib/python3.7/dist-packages (from transformers) (3.0.12)\n",
            "Requirement already satisfied: importlib-metadata; python_version < \"3.8\" in /usr/local/lib/python3.7/dist-packages (from transformers) (3.7.0)\n",
            "Requirement already satisfied: packaging in /usr/local/lib/python3.7/dist-packages (from transformers) (20.9)\n",
            "Requirement already satisfied: tqdm>=4.27 in /usr/local/lib/python3.7/dist-packages (from transformers) (4.41.1)\n",
            "Requirement already satisfied: requests in /usr/local/lib/python3.7/dist-packages (from transformers) (2.23.0)\n",
            "Requirement already satisfied: six in /usr/local/lib/python3.7/dist-packages (from sacremoses->transformers) (1.15.0)\n",
            "Requirement already satisfied: click in /usr/local/lib/python3.7/dist-packages (from sacremoses->transformers) (7.1.2)\n",
            "Requirement already satisfied: joblib in /usr/local/lib/python3.7/dist-packages (from sacremoses->transformers) (1.0.1)\n",
            "Requirement already satisfied: typing-extensions>=3.6.4; python_version < \"3.8\" in /usr/local/lib/python3.7/dist-packages (from importlib-metadata; python_version < \"3.8\"->transformers) (3.7.4.3)\n",
            "Requirement already satisfied: zipp>=0.5 in /usr/local/lib/python3.7/dist-packages (from importlib-metadata; python_version < \"3.8\"->transformers) (3.4.0)\n",
            "Requirement already satisfied: pyparsing>=2.0.2 in /usr/local/lib/python3.7/dist-packages (from packaging->transformers) (2.4.7)\n",
            "Requirement already satisfied: urllib3!=1.25.0,!=1.25.1,<1.26,>=1.21.1 in /usr/local/lib/python3.7/dist-packages (from requests->transformers) (1.24.3)\n",
            "Requirement already satisfied: certifi>=2017.4.17 in /usr/local/lib/python3.7/dist-packages (from requests->transformers) (2020.12.5)\n",
            "Requirement already satisfied: idna<3,>=2.5 in /usr/local/lib/python3.7/dist-packages (from requests->transformers) (2.10)\n",
            "Requirement already satisfied: chardet<4,>=3.0.2 in /usr/local/lib/python3.7/dist-packages (from requests->transformers) (3.0.4)\n",
            "Building wheels for collected packages: sacremoses\n",
            "  Building wheel for sacremoses (setup.py) ... \u001b[?25l\u001b[?25hdone\n",
            "  Created wheel for sacremoses: filename=sacremoses-0.0.43-cp37-none-any.whl size=893262 sha256=ae994b0dfcc7b0faa781ef97e58feb5cfbd1bac73782c552449254c4eaca1ef0\n",
            "  Stored in directory: /root/.cache/pip/wheels/29/3c/fd/7ce5c3f0666dab31a50123635e6fb5e19ceb42ce38d4e58f45\n",
            "Successfully built sacremoses\n",
            "Installing collected packages: sacremoses, tokenizers, transformers\n",
            "Successfully installed sacremoses-0.0.43 tokenizers-0.10.1 transformers-4.3.3\n"
          ],
          "name": "stdout"
        }
      ]
    },
    {
      "cell_type": "code",
      "metadata": {
        "colab": {
          "base_uri": "https://localhost:8080/"
        },
        "id": "cSYu1O_H3sjz",
        "outputId": "c26e0b1e-e48e-455c-fe1e-16506ea64d7f"
      },
      "source": [
        "!pip3 install sentencepiece"
      ],
      "execution_count": null,
      "outputs": [
        {
          "output_type": "stream",
          "text": [
            "Collecting sentencepiece\n",
            "\u001b[?25l  Downloading https://files.pythonhosted.org/packages/f5/99/e0808cb947ba10f575839c43e8fafc9cc44e4a7a2c8f79c60db48220a577/sentencepiece-0.1.95-cp37-cp37m-manylinux2014_x86_64.whl (1.2MB)\n",
            "\r\u001b[K     |▎                               | 10kB 14.7MB/s eta 0:00:01\r\u001b[K     |▌                               | 20kB 20.6MB/s eta 0:00:01\r\u001b[K     |▉                               | 30kB 15.3MB/s eta 0:00:01\r\u001b[K     |█                               | 40kB 14.6MB/s eta 0:00:01\r\u001b[K     |█▍                              | 51kB 11.2MB/s eta 0:00:01\r\u001b[K     |█▋                              | 61kB 10.9MB/s eta 0:00:01\r\u001b[K     |██                              | 71kB 10.2MB/s eta 0:00:01\r\u001b[K     |██▏                             | 81kB 11.2MB/s eta 0:00:01\r\u001b[K     |██▌                             | 92kB 11.9MB/s eta 0:00:01\r\u001b[K     |██▊                             | 102kB 11.1MB/s eta 0:00:01\r\u001b[K     |███                             | 112kB 11.1MB/s eta 0:00:01\r\u001b[K     |███▎                            | 122kB 11.1MB/s eta 0:00:01\r\u001b[K     |███▌                            | 133kB 11.1MB/s eta 0:00:01\r\u001b[K     |███▉                            | 143kB 11.1MB/s eta 0:00:01\r\u001b[K     |████                            | 153kB 11.1MB/s eta 0:00:01\r\u001b[K     |████▍                           | 163kB 11.1MB/s eta 0:00:01\r\u001b[K     |████▋                           | 174kB 11.1MB/s eta 0:00:01\r\u001b[K     |█████                           | 184kB 11.1MB/s eta 0:00:01\r\u001b[K     |█████▏                          | 194kB 11.1MB/s eta 0:00:01\r\u001b[K     |█████▌                          | 204kB 11.1MB/s eta 0:00:01\r\u001b[K     |█████▊                          | 215kB 11.1MB/s eta 0:00:01\r\u001b[K     |██████                          | 225kB 11.1MB/s eta 0:00:01\r\u001b[K     |██████▎                         | 235kB 11.1MB/s eta 0:00:01\r\u001b[K     |██████▌                         | 245kB 11.1MB/s eta 0:00:01\r\u001b[K     |██████▉                         | 256kB 11.1MB/s eta 0:00:01\r\u001b[K     |███████                         | 266kB 11.1MB/s eta 0:00:01\r\u001b[K     |███████▍                        | 276kB 11.1MB/s eta 0:00:01\r\u001b[K     |███████▋                        | 286kB 11.1MB/s eta 0:00:01\r\u001b[K     |████████                        | 296kB 11.1MB/s eta 0:00:01\r\u001b[K     |████████▏                       | 307kB 11.1MB/s eta 0:00:01\r\u001b[K     |████████▍                       | 317kB 11.1MB/s eta 0:00:01\r\u001b[K     |████████▊                       | 327kB 11.1MB/s eta 0:00:01\r\u001b[K     |█████████                       | 337kB 11.1MB/s eta 0:00:01\r\u001b[K     |█████████▎                      | 348kB 11.1MB/s eta 0:00:01\r\u001b[K     |█████████▌                      | 358kB 11.1MB/s eta 0:00:01\r\u001b[K     |█████████▉                      | 368kB 11.1MB/s eta 0:00:01\r\u001b[K     |██████████                      | 378kB 11.1MB/s eta 0:00:01\r\u001b[K     |██████████▍                     | 389kB 11.1MB/s eta 0:00:01\r\u001b[K     |██████████▋                     | 399kB 11.1MB/s eta 0:00:01\r\u001b[K     |███████████                     | 409kB 11.1MB/s eta 0:00:01\r\u001b[K     |███████████▏                    | 419kB 11.1MB/s eta 0:00:01\r\u001b[K     |███████████▍                    | 430kB 11.1MB/s eta 0:00:01\r\u001b[K     |███████████▊                    | 440kB 11.1MB/s eta 0:00:01\r\u001b[K     |████████████                    | 450kB 11.1MB/s eta 0:00:01\r\u001b[K     |████████████▎                   | 460kB 11.1MB/s eta 0:00:01\r\u001b[K     |████████████▌                   | 471kB 11.1MB/s eta 0:00:01\r\u001b[K     |████████████▉                   | 481kB 11.1MB/s eta 0:00:01\r\u001b[K     |█████████████                   | 491kB 11.1MB/s eta 0:00:01\r\u001b[K     |█████████████▍                  | 501kB 11.1MB/s eta 0:00:01\r\u001b[K     |█████████████▋                  | 512kB 11.1MB/s eta 0:00:01\r\u001b[K     |█████████████▉                  | 522kB 11.1MB/s eta 0:00:01\r\u001b[K     |██████████████▏                 | 532kB 11.1MB/s eta 0:00:01\r\u001b[K     |██████████████▍                 | 542kB 11.1MB/s eta 0:00:01\r\u001b[K     |██████████████▊                 | 552kB 11.1MB/s eta 0:00:01\r\u001b[K     |███████████████                 | 563kB 11.1MB/s eta 0:00:01\r\u001b[K     |███████████████▎                | 573kB 11.1MB/s eta 0:00:01\r\u001b[K     |███████████████▌                | 583kB 11.1MB/s eta 0:00:01\r\u001b[K     |███████████████▉                | 593kB 11.1MB/s eta 0:00:01\r\u001b[K     |████████████████                | 604kB 11.1MB/s eta 0:00:01\r\u001b[K     |████████████████▍               | 614kB 11.1MB/s eta 0:00:01\r\u001b[K     |████████████████▋               | 624kB 11.1MB/s eta 0:00:01\r\u001b[K     |████████████████▉               | 634kB 11.1MB/s eta 0:00:01\r\u001b[K     |█████████████████▏              | 645kB 11.1MB/s eta 0:00:01\r\u001b[K     |█████████████████▍              | 655kB 11.1MB/s eta 0:00:01\r\u001b[K     |█████████████████▊              | 665kB 11.1MB/s eta 0:00:01\r\u001b[K     |██████████████████              | 675kB 11.1MB/s eta 0:00:01\r\u001b[K     |██████████████████▎             | 686kB 11.1MB/s eta 0:00:01\r\u001b[K     |██████████████████▌             | 696kB 11.1MB/s eta 0:00:01\r\u001b[K     |██████████████████▉             | 706kB 11.1MB/s eta 0:00:01\r\u001b[K     |███████████████████             | 716kB 11.1MB/s eta 0:00:01\r\u001b[K     |███████████████████▎            | 727kB 11.1MB/s eta 0:00:01\r\u001b[K     |███████████████████▋            | 737kB 11.1MB/s eta 0:00:01\r\u001b[K     |███████████████████▉            | 747kB 11.1MB/s eta 0:00:01\r\u001b[K     |████████████████████▏           | 757kB 11.1MB/s eta 0:00:01\r\u001b[K     |████████████████████▍           | 768kB 11.1MB/s eta 0:00:01\r\u001b[K     |████████████████████▊           | 778kB 11.1MB/s eta 0:00:01\r\u001b[K     |█████████████████████           | 788kB 11.1MB/s eta 0:00:01\r\u001b[K     |█████████████████████▎          | 798kB 11.1MB/s eta 0:00:01\r\u001b[K     |█████████████████████▌          | 808kB 11.1MB/s eta 0:00:01\r\u001b[K     |█████████████████████▉          | 819kB 11.1MB/s eta 0:00:01\r\u001b[K     |██████████████████████          | 829kB 11.1MB/s eta 0:00:01\r\u001b[K     |██████████████████████▎         | 839kB 11.1MB/s eta 0:00:01\r\u001b[K     |██████████████████████▋         | 849kB 11.1MB/s eta 0:00:01\r\u001b[K     |██████████████████████▉         | 860kB 11.1MB/s eta 0:00:01\r\u001b[K     |███████████████████████▏        | 870kB 11.1MB/s eta 0:00:01\r\u001b[K     |███████████████████████▍        | 880kB 11.1MB/s eta 0:00:01\r\u001b[K     |███████████████████████▊        | 890kB 11.1MB/s eta 0:00:01\r\u001b[K     |████████████████████████        | 901kB 11.1MB/s eta 0:00:01\r\u001b[K     |████████████████████████▎       | 911kB 11.1MB/s eta 0:00:01\r\u001b[K     |████████████████████████▌       | 921kB 11.1MB/s eta 0:00:01\r\u001b[K     |████████████████████████▊       | 931kB 11.1MB/s eta 0:00:01\r\u001b[K     |█████████████████████████       | 942kB 11.1MB/s eta 0:00:01\r\u001b[K     |█████████████████████████▎      | 952kB 11.1MB/s eta 0:00:01\r\u001b[K     |█████████████████████████▋      | 962kB 11.1MB/s eta 0:00:01\r\u001b[K     |█████████████████████████▉      | 972kB 11.1MB/s eta 0:00:01\r\u001b[K     |██████████████████████████▏     | 983kB 11.1MB/s eta 0:00:01\r\u001b[K     |██████████████████████████▍     | 993kB 11.1MB/s eta 0:00:01\r\u001b[K     |██████████████████████████▊     | 1.0MB 11.1MB/s eta 0:00:01\r\u001b[K     |███████████████████████████     | 1.0MB 11.1MB/s eta 0:00:01\r\u001b[K     |███████████████████████████▎    | 1.0MB 11.1MB/s eta 0:00:01\r\u001b[K     |███████████████████████████▌    | 1.0MB 11.1MB/s eta 0:00:01\r\u001b[K     |███████████████████████████▊    | 1.0MB 11.1MB/s eta 0:00:01\r\u001b[K     |████████████████████████████    | 1.1MB 11.1MB/s eta 0:00:01\r\u001b[K     |████████████████████████████▎   | 1.1MB 11.1MB/s eta 0:00:01\r\u001b[K     |████████████████████████████▋   | 1.1MB 11.1MB/s eta 0:00:01\r\u001b[K     |████████████████████████████▉   | 1.1MB 11.1MB/s eta 0:00:01\r\u001b[K     |█████████████████████████████▏  | 1.1MB 11.1MB/s eta 0:00:01\r\u001b[K     |█████████████████████████████▍  | 1.1MB 11.1MB/s eta 0:00:01\r\u001b[K     |█████████████████████████████▊  | 1.1MB 11.1MB/s eta 0:00:01\r\u001b[K     |██████████████████████████████  | 1.1MB 11.1MB/s eta 0:00:01\r\u001b[K     |██████████████████████████████▏ | 1.1MB 11.1MB/s eta 0:00:01\r\u001b[K     |██████████████████████████████▌ | 1.1MB 11.1MB/s eta 0:00:01\r\u001b[K     |██████████████████████████████▊ | 1.2MB 11.1MB/s eta 0:00:01\r\u001b[K     |███████████████████████████████ | 1.2MB 11.1MB/s eta 0:00:01\r\u001b[K     |███████████████████████████████▎| 1.2MB 11.1MB/s eta 0:00:01\r\u001b[K     |███████████████████████████████▋| 1.2MB 11.1MB/s eta 0:00:01\r\u001b[K     |███████████████████████████████▉| 1.2MB 11.1MB/s eta 0:00:01\r\u001b[K     |████████████████████████████████| 1.2MB 11.1MB/s \n",
            "\u001b[?25hInstalling collected packages: sentencepiece\n",
            "Successfully installed sentencepiece-0.1.95\n"
          ],
          "name": "stdout"
        }
      ]
    },
    {
      "cell_type": "code",
      "metadata": {
        "id": "gRk-UGhp3_Xt"
      },
      "source": [
        "from transformers import AutoModelWithLMHead, AutoTokenizer, AutoModelForSeq2SeqLM"
      ],
      "execution_count": null,
      "outputs": []
    },
    {
      "cell_type": "markdown",
      "metadata": {
        "id": "un-jQLfNAsC6"
      },
      "source": [
        "## 1.1 Loading BART Pretrained Model and the corresponding tonkenizer."
      ]
    },
    {
      "cell_type": "code",
      "metadata": {
        "id": "91a4GN5k4I60"
      },
      "source": [
        "model_name = 'facebook/bart-large-cnn'"
      ],
      "execution_count": null,
      "outputs": []
    },
    {
      "cell_type": "code",
      "metadata": {
        "id": "dXhey1iB4eDW",
        "colab": {
          "base_uri": "https://localhost:8080/",
          "referenced_widgets": [
            "462c15a21d094df6a4ff8a5cd00721e5",
            "115e5b82085146eca82d295d04068be5",
            "973dfde3cb9d4840a02618627dc730e6",
            "ecc41bd6c0a545488d657e9434ae5131",
            "59a33556704a43a690fbe502c9dc8057",
            "6aebe9979db9410ba175feedec05bd3d",
            "d645983397474ed1a631e5af8e17b14c",
            "6414277bf2734192915584cb8b12625d",
            "45bb5e184bdb4d00ab36924916d7f358",
            "c631fce79b604945944e75ac02f96dbe",
            "7fc2190979b04ccfa42d1ee1a78c0679",
            "16ef8a473fbd496a90c31341761247dc",
            "b0196596ca3d4cbbb8c9f57d5b715cae",
            "03105d027a7a48f49c3139669b1b4d1a",
            "9659a4f6f0964b2c8485c935861521f0",
            "c01fb4ac014d42f8af687eaaafed4954",
            "68022418b822466596fb472d0d3a418d",
            "a70ef36997e240ffab30d776af49ecce",
            "7c9f385e34b84610beb69bcee0cf664b",
            "ad3f85324b5f4ec8a05f2cafc8c1edc9",
            "ea0af3f61eed4aceaf9c24db0e3e667a",
            "c152ec0e0b754ddd810a05f54fe5a176",
            "67e138525be34dfd93fb40af54e1338a",
            "0932b0a60dfd4046a0fbbbf8603b394b",
            "ae85913cec5b41638d40eee5e1f747c0",
            "95bd852cb7044ca7b1c2ac9906ada35b",
            "c42084fcef924566a7e69e6bf0bced6e",
            "a397ca8c6ef34d7fa352b1a27dce1fdb",
            "2d80b1a7a2b14766a14cc959c50448bb",
            "3375fb459c794cb4ac16bba06ce94ca4",
            "fd39c73e93b44551a690d19f69eb44e1",
            "0205cb54c9054bdda6472b127eaaeb6f",
            "8f44aabb98de48b086396eec252e447c",
            "0aa924253ba349eabaef82c35e22b41d",
            "279c7c9975d04c07bb73516cd881d2c9",
            "05b076f1c08642cbb9f3256eccddd6c1",
            "ba4df13ad1494af6ab699e2a5364430b",
            "27b9bab6c1a749989c32d780d5097dd1",
            "3ce6c86b39694a80a4942483343f5925",
            "e70b8569c2314385bcd743adc453ad11"
          ]
        },
        "outputId": "50746299-1a74-4260-fcdd-8f8d7623ec6c"
      },
      "source": [
        "model = AutoModelForSeq2SeqLM.from_pretrained(model_name)\n",
        "tokenizer = AutoTokenizer.from_pretrained(model_name)"
      ],
      "execution_count": null,
      "outputs": [
        {
          "output_type": "display_data",
          "data": {
            "application/vnd.jupyter.widget-view+json": {
              "model_id": "462c15a21d094df6a4ff8a5cd00721e5",
              "version_minor": 0,
              "version_major": 2
            },
            "text/plain": [
              "HBox(children=(FloatProgress(value=0.0, description='Downloading', max=1399.0, style=ProgressStyle(description…"
            ]
          },
          "metadata": {
            "tags": []
          }
        },
        {
          "output_type": "stream",
          "text": [
            "\n"
          ],
          "name": "stdout"
        },
        {
          "output_type": "display_data",
          "data": {
            "application/vnd.jupyter.widget-view+json": {
              "model_id": "45bb5e184bdb4d00ab36924916d7f358",
              "version_minor": 0,
              "version_major": 2
            },
            "text/plain": [
              "HBox(children=(FloatProgress(value=0.0, description='Downloading', max=1625270765.0, style=ProgressStyle(descr…"
            ]
          },
          "metadata": {
            "tags": []
          }
        },
        {
          "output_type": "stream",
          "text": [
            "\n"
          ],
          "name": "stdout"
        },
        {
          "output_type": "display_data",
          "data": {
            "application/vnd.jupyter.widget-view+json": {
              "model_id": "68022418b822466596fb472d0d3a418d",
              "version_minor": 0,
              "version_major": 2
            },
            "text/plain": [
              "HBox(children=(FloatProgress(value=0.0, description='Downloading', max=898823.0, style=ProgressStyle(descripti…"
            ]
          },
          "metadata": {
            "tags": []
          }
        },
        {
          "output_type": "stream",
          "text": [
            "\n"
          ],
          "name": "stdout"
        },
        {
          "output_type": "display_data",
          "data": {
            "application/vnd.jupyter.widget-view+json": {
              "model_id": "ae85913cec5b41638d40eee5e1f747c0",
              "version_minor": 0,
              "version_major": 2
            },
            "text/plain": [
              "HBox(children=(FloatProgress(value=0.0, description='Downloading', max=456318.0, style=ProgressStyle(descripti…"
            ]
          },
          "metadata": {
            "tags": []
          }
        },
        {
          "output_type": "stream",
          "text": [
            "\n"
          ],
          "name": "stdout"
        },
        {
          "output_type": "display_data",
          "data": {
            "application/vnd.jupyter.widget-view+json": {
              "model_id": "8f44aabb98de48b086396eec252e447c",
              "version_minor": 0,
              "version_major": 2
            },
            "text/plain": [
              "HBox(children=(FloatProgress(value=0.0, description='Downloading', max=1355863.0, style=ProgressStyle(descript…"
            ]
          },
          "metadata": {
            "tags": []
          }
        },
        {
          "output_type": "stream",
          "text": [
            "\n"
          ],
          "name": "stdout"
        }
      ]
    },
    {
      "cell_type": "markdown",
      "metadata": {
        "id": "NoV0sAwWCpHy"
      },
      "source": [
        "Basic summarization task for illustration."
      ]
    },
    {
      "cell_type": "code",
      "metadata": {
        "colab": {
          "base_uri": "https://localhost:8080/"
        },
        "id": "13Z6aSA94_or",
        "outputId": "5ba7c23f-270d-42e8-f734-b41dcc533397"
      },
      "source": [
        "ARTICLE= \"\"\"Picture this: a herd of elephants flies past you at sixty miles per hour, followed by a streak of tigers, a pride of lions, and a bunch of clowns. \n",
        "What do you see? It must be a circus train! One of the first uses of the circus train is credited to W.C. Coup. He \n",
        "partnered with P.T. Barnum in 1871 to expand the reach of their newly combined shows using \n",
        "locomotives. Before circus trains, these operators had to lug around all of their animals, \n",
        "performers, and equipment with a team of more than 600 horses. Since there were no highways, \n",
        "these voyages were rough and took a long time. Circuses would stop at many small towns \n",
        "between the large venues. Performing at many of these small towns was not very profitable. \n",
        "Because of these limitations, circuses could not grow as large as the imaginations of the \n",
        "operators. After they began using circus trains, Barnum and Coup only brought their show to \n",
        "large cities. These performances were much more profitable and the profits went toward creating \n",
        "an even bigger and better circus. Multiple rings were added and the show went on. Today, \n",
        "Ringling Bros. and Barnum and Bailey Circus still rely on the circus train to transport their \n",
        "astounding show, but now they use two.\"\"\"\n",
        "inputs = tokenizer.encode(\"summarize: \" + ARTICLE, return_tensors=\"pt\", truncation=True, max_length=512)\n",
        "outputs = model.generate(inputs, max_length=150, min_length=40, num_beams=4, length_penalty=2.0, early_stopping=True)\n",
        "print(\"Your summary: \")\n",
        "print(tokenizer.decode(outputs[0]))"
      ],
      "execution_count": null,
      "outputs": [
        {
          "output_type": "stream",
          "text": [
            "Your summary: \n",
            "</s><s>The first circus train was used by W.C. Coup and P.T. Barnum in 1871. The trains allowed them to expand the reach of their combined shows. Ringling Bros. and Barnum and Bailey Circus still rely on the circus train to transport their show.</s>\n"
          ],
          "name": "stdout"
        }
      ]
    },
    {
      "cell_type": "markdown",
      "metadata": {
        "id": "Dsyv863_CwIr"
      },
      "source": [
        "### 2. Summarization with Blurr Library using fastai v2.5.5"
      ]
    },
    {
      "cell_type": "code",
      "metadata": {
        "id": "19GXa1b05clj",
        "colab": {
          "base_uri": "https://localhost:8080/"
        },
        "outputId": "52f8e4e4-ac2c-4a49-f5ed-36434b83ffa0"
      },
      "source": [
        "!pip install ohmeow-blurr -q\n",
        "!pip install datasets -q"
      ],
      "execution_count": null,
      "outputs": [
        {
          "output_type": "stream",
          "text": [
            "\u001b[K     |████████████████████████████████| 61kB 4.5MB/s \n",
            "\u001b[K     |████████████████████████████████| 194kB 13.0MB/s \n",
            "\u001b[K     |████████████████████████████████| 4.1MB 17.0MB/s \n",
            "\u001b[K     |████████████████████████████████| 51kB 6.9MB/s \n",
            "\u001b[K     |████████████████████████████████| 184kB 47.3MB/s \n",
            "\u001b[K     |████████████████████████████████| 14.5MB 247kB/s \n",
            "\u001b[K     |████████████████████████████████| 61kB 7.3MB/s \n",
            "\u001b[K     |████████████████████████████████| 245kB 44.9MB/s \n",
            "\u001b[K     |████████████████████████████████| 112kB 48.2MB/s \n",
            "\u001b[?25h  Building wheel for seqeval (setup.py) ... \u001b[?25l\u001b[?25hdone\n"
          ],
          "name": "stdout"
        }
      ]
    },
    {
      "cell_type": "code",
      "metadata": {
        "id": "rCeZTzaq5jMH",
        "colab": {
          "base_uri": "https://localhost:8080/"
        },
        "outputId": "1e10c914-aa59-46ea-d111-c431bf68b028"
      },
      "source": [
        "!pip install bert-score -q"
      ],
      "execution_count": null,
      "outputs": [
        {
          "output_type": "stream",
          "text": [
            "\u001b[?25l\r\u001b[K     |██████▏                         | 10kB 19.3MB/s eta 0:00:01\r\u001b[K     |████████████▎                   | 20kB 24.0MB/s eta 0:00:01\r\u001b[K     |██████████████████▌             | 30kB 16.7MB/s eta 0:00:01\r\u001b[K     |████████████████████████▋       | 40kB 15.7MB/s eta 0:00:01\r\u001b[K     |██████████████████████████████▉ | 51kB 12.0MB/s eta 0:00:01\r\u001b[K     |████████████████████████████████| 61kB 5.4MB/s \n",
            "\u001b[?25h"
          ],
          "name": "stdout"
        }
      ]
    },
    {
      "cell_type": "code",
      "metadata": {
        "id": "OFk6dEyc5w8v",
        "colab": {
          "base_uri": "https://localhost:8080/"
        },
        "outputId": "d5128bc8-b87c-4cd0-f7e0-c0147e870efd"
      },
      "source": [
        "import datasets\n",
        "import pandas as pd\n",
        "import seaborn as sns\n",
        "from fastai.text.all import *\n",
        "from transformers import *\n",
        "\n",
        "from blurr.data.all import *\n",
        "from blurr.modeling.all import *"
      ],
      "execution_count": null,
      "outputs": [
        {
          "output_type": "stream",
          "text": [
            "[nltk_data] Downloading package wordnet to /root/nltk_data...\n",
            "[nltk_data]   Unzipping corpora/wordnet.zip.\n"
          ],
          "name": "stdout"
        }
      ]
    },
    {
      "cell_type": "markdown",
      "metadata": {
        "id": "eNoUqKPjmXwa"
      },
      "source": [
        "## 2.1.1 Loading Dataset"
      ]
    },
    {
      "cell_type": "code",
      "metadata": {
        "colab": {
          "base_uri": "https://localhost:8080/",
          "referenced_widgets": [
            "523222b456ad409f9ef6412e8dee1c9f",
            "5ab60bcac1b54433b6c467ed1f5086e1",
            "ed41065e06784405bc108537b0b38230",
            "2d9838c5ac804a32afc963d90ec53a43",
            "44e781165f054ef48e59c705adec3a9b",
            "4401d7b3619e4cbfa56e203acd68c6a2",
            "96b58178d7724269b62a46432bbdbbc6",
            "766b1b4465f040888a332e46002628c5",
            "2f92a5e9bef44d018fc7061d7766c25f",
            "acf79051ad4841559113726ec6f22d0d",
            "541ba67a0a9a4541bfd74ca8bbdbd38f",
            "9fceb196e4e64345915ab59717c2b4e9",
            "3a29b51ecd064cd1bebf4e5299a4feb4",
            "4978a803a02046699494e710bceb6c8e",
            "b538cc246e5e4624923a3c7327cc4333",
            "d114edce57cd41f3878d19ced7895410",
            "f773e70e9c0f4630a1927feb27393a6d",
            "f20f4e7d4ad44b06a87ef006af808135",
            "de8652d6349b48f7b0159610ca41edbc",
            "04c4119560394a8f811999098cde3abf",
            "80aaa1dc0670403aa445c291b8bc1d9c",
            "6b04076314334da394841dea1e29d92c",
            "5fe3afc147fc46bca30e84b264632611",
            "3e02da5595794915854e3b8e4047e6c5",
            "0b1805f8d0ac469fb89ac331256d9c38",
            "ba12f71159ea4d6e958a57796a777634",
            "9fef97e08c2f4c93b67c63f1189a0109",
            "eccfcd495de24f5c86d4715302ca62a5",
            "8a0d9ef4951b4c86b021eef934de0bb0",
            "7c44debe18a5474393881a2af21c56a9",
            "a9cdcf8510364cfcb69c2e1068c0f39e",
            "a30872f138b441ad9a9e862028aa7b38"
          ]
        },
        "id": "etlNsDfy5-Qd",
        "outputId": "374bf6cf-9b15-487b-a70d-940f485b1cab"
      },
      "source": [
        "# using a subset of the training set to build both training and validation DataLoaders; https://huggingface.co/docs/datasets/splits.html\n",
        "\n",
        "raw_data = datasets.load_dataset('reddit_tifu','long',split='train[:100%]')"
      ],
      "execution_count": null,
      "outputs": [
        {
          "output_type": "display_data",
          "data": {
            "application/vnd.jupyter.widget-view+json": {
              "model_id": "523222b456ad409f9ef6412e8dee1c9f",
              "version_minor": 0,
              "version_major": 2
            },
            "text/plain": [
              "HBox(children=(FloatProgress(value=0.0, description='Downloading', max=1936.0, style=ProgressStyle(description…"
            ]
          },
          "metadata": {
            "tags": []
          }
        },
        {
          "output_type": "stream",
          "text": [
            "\n"
          ],
          "name": "stdout"
        },
        {
          "output_type": "display_data",
          "data": {
            "application/vnd.jupyter.widget-view+json": {
              "model_id": "2f92a5e9bef44d018fc7061d7766c25f",
              "version_minor": 0,
              "version_major": 2
            },
            "text/plain": [
              "HBox(children=(FloatProgress(value=0.0, description='Downloading', max=950.0, style=ProgressStyle(description_…"
            ]
          },
          "metadata": {
            "tags": []
          }
        },
        {
          "output_type": "stream",
          "text": [
            "\n",
            "Downloading and preparing dataset reddit_tifu/long (download: 639.54 MiB, generated: 87.74 MiB, post-processed: Unknown size, total: 727.29 MiB) to /root/.cache/huggingface/datasets/reddit_tifu/long/1.1.0/c383d53c57bebbb2972419fc23c3f58639c7f9074004ef1c49c1c0bcfa2218a3...\n"
          ],
          "name": "stdout"
        },
        {
          "output_type": "display_data",
          "data": {
            "application/vnd.jupyter.widget-view+json": {
              "model_id": "f773e70e9c0f4630a1927feb27393a6d",
              "version_minor": 0,
              "version_major": 2
            },
            "text/plain": [
              "HBox(children=(FloatProgress(value=1.0, bar_style='info', description='Downloading', max=1.0, style=ProgressSt…"
            ]
          },
          "metadata": {
            "tags": []
          }
        },
        {
          "output_type": "stream",
          "text": [
            "\n"
          ],
          "name": "stdout"
        },
        {
          "output_type": "display_data",
          "data": {
            "application/vnd.jupyter.widget-view+json": {
              "model_id": "0b1805f8d0ac469fb89ac331256d9c38",
              "version_minor": 0,
              "version_major": 2
            },
            "text/plain": [
              "HBox(children=(FloatProgress(value=1.0, bar_style='info', max=1.0), HTML(value='')))"
            ]
          },
          "metadata": {
            "tags": []
          }
        },
        {
          "output_type": "stream",
          "text": [
            "\rDataset reddit_tifu downloaded and prepared to /root/.cache/huggingface/datasets/reddit_tifu/long/1.1.0/c383d53c57bebbb2972419fc23c3f58639c7f9074004ef1c49c1c0bcfa2218a3. Subsequent calls will reuse this data.\n"
          ],
          "name": "stdout"
        }
      ]
    },
    {
      "cell_type": "markdown",
      "metadata": {
        "id": "YSz914k7EWU8"
      },
      "source": [
        "# 2.1.2 Exploratory Data analysis"
      ]
    },
    {
      "cell_type": "code",
      "metadata": {
        "colab": {
          "base_uri": "https://localhost:8080/"
        },
        "id": "8z65YFrR6vg4",
        "outputId": "cc39bc74-8ff0-42ae-c284-cccb89b21e16"
      },
      "source": [
        "#showing an example of dataset\n",
        "df = pd.DataFrame(raw_data)\n",
        "df.head(5)"
      ],
      "execution_count": null,
      "outputs": [
        {
          "output_type": "execute_result",
          "data": {
            "text/html": [
              "<div>\n",
              "<style scoped>\n",
              "    .dataframe tbody tr th:only-of-type {\n",
              "        vertical-align: middle;\n",
              "    }\n",
              "\n",
              "    .dataframe tbody tr th {\n",
              "        vertical-align: top;\n",
              "    }\n",
              "\n",
              "    .dataframe thead th {\n",
              "        text-align: right;\n",
              "    }\n",
              "</style>\n",
              "<table border=\"1\" class=\"dataframe\">\n",
              "  <thead>\n",
              "    <tr style=\"text-align: right;\">\n",
              "      <th></th>\n",
              "      <th>documents</th>\n",
              "      <th>num_comments</th>\n",
              "      <th>score</th>\n",
              "      <th>title</th>\n",
              "      <th>tldr</th>\n",
              "      <th>ups</th>\n",
              "      <th>upvote_ratio</th>\n",
              "    </tr>\n",
              "  </thead>\n",
              "  <tbody>\n",
              "    <tr>\n",
              "      <th>0</th>\n",
              "      <td>this actually happened a couple of years ago. i grew up in germany where i went to a german secondary school that went from 5th to 13th grade (we still had 13 grades then, they have since changed that). my school was named after anne frank and we had a club that i was very active in from 9th grade on, which was dedicated to teaching incoming 5th graders about anne franks life, discrimination, anti-semitism, hitler, the third reich and that whole spiel. basically a day where the students' classes are cancelled and instead we give them an interactive history and social studies class with lot...</td>\n",
              "      <td>23.0</td>\n",
              "      <td>115.0</td>\n",
              "      <td>gender-stereotyping</td>\n",
              "      <td>confuse a 5th grade girl for a boy in front of half of her class. kids are mean. sorry sandra.**</td>\n",
              "      <td>115.0</td>\n",
              "      <td>0.88</td>\n",
              "    </tr>\n",
              "    <tr>\n",
              "      <th>1</th>\n",
              "      <td>it was last october, but i'm feeling the fall-out from it the most today.  \\n\\nafter my mom died from cancer last year, i started looking for my estranged father.  i had only known him for a short time when i was 6 and barely remembered more than his name.  i never knew why he left and my mom would not talk about him without obvious emotional pain, so i didn't push her for information about him.  i figured he didn't care about us.\\n\\ni had googled him multiple times over the years, but he was always unlisted and i didn't have an address with which to search.  after her death, i felt strong...</td>\n",
              "      <td>12.0</td>\n",
              "      <td>16.0</td>\n",
              "      <td>telling my dad that i love him.</td>\n",
              "      <td>i found my estranged dad, thought i loved him after getting to know him, got to know him better and changed my mind.</td>\n",
              "      <td>16.0</td>\n",
              "      <td>0.79</td>\n",
              "    </tr>\n",
              "    <tr>\n",
              "      <th>2</th>\n",
              "      <td>so i had the brilliant idea to use veet hair removal gel as the ol' danglies were in need of a trim and i had heard that veet leaves them smoother for longer. well i guess thats right when the skin has to grow back first. \\n\\npre-story: i tried this before and the results were great but i had decided to do it again because of how well it worked. \\n\\nso i take out the gel/cream stuff and just lob it on and cover the forest. the slight peroxide kinda smell ensued and all was going well, there was a slight burning but thats to be expected, you know, melting pubes off does that. so comes the a...</td>\n",
              "      <td>10.0</td>\n",
              "      <td>55.0</td>\n",
              "      <td>i was deveeted...</td>\n",
              "      <td>had my balls burned by sauron and was left deveeted.</td>\n",
              "      <td>55.0</td>\n",
              "      <td>0.85</td>\n",
              "    </tr>\n",
              "    <tr>\n",
              "      <th>3</th>\n",
              "      <td>today i was going to have a bath after a long day of painting kids faces at a carnival. all would go well, except being the genius i am, i put in some epsom salts (i always do for my bath), and i grabbed my bottle of peppermint essential oil.\\n\\n lately, i've been on a diy-pinterest-tumblr-let's-make-my-own-shit-and-be-fancy spree. the other day i took a 'detox bath' (fyi did nothing for me guys. uselessss). so, my brain totally went 'hey, trajectorys, put some peppermint in! it's good for your skin!' okay brain!\\n\\nso, instead of logically putting in like... 5 drops so it's nice and minty...</td>\n",
              "      <td>20.0</td>\n",
              "      <td>90.0</td>\n",
              "      <td>wanting a pepperminty bath.</td>\n",
              "      <td>peppermint + bath = burning cold ladybits.</td>\n",
              "      <td>90.0</td>\n",
              "      <td>0.92</td>\n",
              "    </tr>\n",
              "    <tr>\n",
              "      <th>4</th>\n",
              "      <td>i haven't had a bath in practically years so, after finally moving into a house with a bath, i decide to have one. having recently purchased a shiny new bag of weed, i thought combining the two would be a good idea.\\n\\npicture this; a very cramped bathroom, no windows, a shitty extractor fan, closed door, steaming hot bath and a spliff. as i lay there gently swishing to and fro, giggling like a little school girl, i neglected to notice how hot the room was becoming. \\n\\nafter a while i looked up and realised i could barely even see the taps in front of me. naturally, i begin to panic and s...</td>\n",
              "      <td>18.0</td>\n",
              "      <td>81.0</td>\n",
              "      <td>having a spliff in the bath.</td>\n",
              "      <td>got too high and too hot in the bath, almost cooked myself like a lobster.</td>\n",
              "      <td>81.0</td>\n",
              "      <td>0.79</td>\n",
              "    </tr>\n",
              "  </tbody>\n",
              "</table>\n",
              "</div>"
            ],
            "text/plain": [
              "                                                                                                                                                                                                                                                                                                                                                                                                                                                                                                                                                                                                                 documents  ...  upvote_ratio\n",
              "0  this actually happened a couple of years ago. i grew up in germany where i went to a german secondary school that went from 5th to 13th grade (we still had 13 grades then, they have since changed that). my school was named after anne frank and we had a club that i was very active in from 9th grade on, which was dedicated to teaching incoming 5th graders about anne franks life, discrimination, anti-semitism, hitler, the third reich and that whole spiel. basically a day where the students' classes are cancelled and instead we give them an interactive history and social studies class with lot...  ...          0.88\n",
              "1  it was last october, but i'm feeling the fall-out from it the most today.  \\n\\nafter my mom died from cancer last year, i started looking for my estranged father.  i had only known him for a short time when i was 6 and barely remembered more than his name.  i never knew why he left and my mom would not talk about him without obvious emotional pain, so i didn't push her for information about him.  i figured he didn't care about us.\\n\\ni had googled him multiple times over the years, but he was always unlisted and i didn't have an address with which to search.  after her death, i felt strong...  ...          0.79\n",
              "2  so i had the brilliant idea to use veet hair removal gel as the ol' danglies were in need of a trim and i had heard that veet leaves them smoother for longer. well i guess thats right when the skin has to grow back first. \\n\\npre-story: i tried this before and the results were great but i had decided to do it again because of how well it worked. \\n\\nso i take out the gel/cream stuff and just lob it on and cover the forest. the slight peroxide kinda smell ensued and all was going well, there was a slight burning but thats to be expected, you know, melting pubes off does that. so comes the a...  ...          0.85\n",
              "3  today i was going to have a bath after a long day of painting kids faces at a carnival. all would go well, except being the genius i am, i put in some epsom salts (i always do for my bath), and i grabbed my bottle of peppermint essential oil.\\n\\n lately, i've been on a diy-pinterest-tumblr-let's-make-my-own-shit-and-be-fancy spree. the other day i took a 'detox bath' (fyi did nothing for me guys. uselessss). so, my brain totally went 'hey, trajectorys, put some peppermint in! it's good for your skin!' okay brain!\\n\\nso, instead of logically putting in like... 5 drops so it's nice and minty...  ...          0.92\n",
              "4  i haven't had a bath in practically years so, after finally moving into a house with a bath, i decide to have one. having recently purchased a shiny new bag of weed, i thought combining the two would be a good idea.\\n\\npicture this; a very cramped bathroom, no windows, a shitty extractor fan, closed door, steaming hot bath and a spliff. as i lay there gently swishing to and fro, giggling like a little school girl, i neglected to notice how hot the room was becoming. \\n\\nafter a while i looked up and realised i could barely even see the taps in front of me. naturally, i begin to panic and s...  ...          0.79\n",
              "\n",
              "[5 rows x 7 columns]"
            ]
          },
          "metadata": {
            "tags": []
          },
          "execution_count": 11
        }
      ]
    },
    {
      "cell_type": "code",
      "metadata": {
        "id": "0dAzf5mLero7"
      },
      "source": [
        ""
      ],
      "execution_count": null,
      "outputs": []
    },
    {
      "cell_type": "code",
      "metadata": {
        "id": "b5VNgZTdesBa"
      },
      "source": [
        ""
      ],
      "execution_count": null,
      "outputs": []
    },
    {
      "cell_type": "code",
      "metadata": {
        "id": "wlY1I7baRdr5"
      },
      "source": [
        "#removing special characters from the summaries in the dataset.\n",
        "df.tldr = df.tldr.str.replace('[#,@,&,!,$,%,^,&,*]', '')"
      ],
      "execution_count": null,
      "outputs": []
    },
    {
      "cell_type": "code",
      "metadata": {
        "colab": {
          "base_uri": "https://localhost:8080/"
        },
        "id": "J5gcMATJGf-C",
        "outputId": "ae39a82a-f1b3-42bc-f1d6-710cde781dd2"
      },
      "source": [
        "#dataset dimensions before preprocessing.\n",
        "print(\"our data set has {} rows and {} columns\".format(df.shape[0],df.shape[1]))\n",
        "print(\"The {} feature is our target feature and we are summarizing text from {} column.\".format(df.columns[4],df.columns[0]))\n",
        "#raw_data.shape"
      ],
      "execution_count": null,
      "outputs": [
        {
          "output_type": "stream",
          "text": [
            "our data set has 42139 rows and 7 columns\n",
            "The tldr feature is our target feature and we are summarizing text from documents column.\n"
          ],
          "name": "stdout"
        }
      ]
    },
    {
      "cell_type": "code",
      "metadata": {
        "id": "gW-bltHohuzT",
        "colab": {
          "base_uri": "https://localhost:8080/"
        },
        "outputId": "b5f5c34c-e519-43fb-97b7-d3431640dbf9"
      },
      "source": [
        "df['totalwords'] = df['tldr'].str.split().str.len()\n",
        "df[\"totalwords\"].plot(kind=\"hist\")"
      ],
      "execution_count": null,
      "outputs": [
        {
          "output_type": "execute_result",
          "data": {
            "text/plain": [
              "<matplotlib.axes._subplots.AxesSubplot at 0x7f4fcab19450>"
            ]
          },
          "metadata": {
            "tags": []
          },
          "execution_count": 14
        },
        {
          "output_type": "display_data",
          "data": {
            "image/png": "[encoded data removed]",
            "text/plain": [
              "<Figure size 432x288 with 1 Axes>"
            ]
          },
          "metadata": {
            "tags": [],
            "needs_background": "light"
          }
        }
      ]
    },
    {
      "cell_type": "code",
      "metadata": {
        "id": "qGdV-31Eec_k"
      },
      "source": [
        ""
      ],
      "execution_count": null,
      "outputs": []
    },
    {
      "cell_type": "code",
      "metadata": {
        "id": "rLO6YEbEedX4"
      },
      "source": [
        ""
      ],
      "execution_count": null,
      "outputs": []
    },
    {
      "cell_type": "code",
      "metadata": {
        "colab": {
          "base_uri": "https://localhost:8080/"
        },
        "id": "-TFYFMrVK_8b",
        "outputId": "1a299101-6f4d-42f5-bfc2-41ae651f5839"
      },
      "source": [
        "print(\"The longest sentence in the summaries have {} words.\".format(df.totalwords.max()))"
      ],
      "execution_count": null,
      "outputs": [
        {
          "output_type": "stream",
          "text": [
            "The longest sentence in the summaries have 457 words.\n"
          ],
          "name": "stdout"
        }
      ]
    },
    {
      "cell_type": "code",
      "metadata": {
        "id": "zpL_pj1lUcq_",
        "colab": {
          "base_uri": "https://localhost:8080/"
        },
        "outputId": "616820c6-c47e-46ce-decb-c5964ffc8fdd"
      },
      "source": [
        "#bar plot showing the total number of words with the coressponding number of summarized sentences.\n",
        "grouping =df.groupby(\"totalwords\")\n",
        "y = grouping.tldr.count()\n",
        "yplt =y.plot(kind=\"bar\",figsize=(16,10),colormap=\"gist_rainbow_r\",title=\"total number of words with the coressponding number of summarized sentences\")\n",
        "yplt.set_ylabel(\"number of summarized sentences\")"
      ],
      "execution_count": null,
      "outputs": [
        {
          "output_type": "execute_result",
          "data": {
            "text/plain": [
              "Text(0, 0.5, 'number of summarized sentences')"
            ]
          },
          "metadata": {
            "tags": []
          },
          "execution_count": 16
        },
        {
          "output_type": "display_data",
          "data": {
            "image/png": "[encoded data removed]",
            "text/plain": [
              "<Figure size 1152x720 with 1 Axes>"
            ]
          },
          "metadata": {
            "tags": [],
            "needs_background": "light"
          }
        }
      ]
    },
    {
      "cell_type": "code",
      "metadata": {
        "id": "TusemZ3ZJamW"
      },
      "source": [
        "#plt.figure(figsize=(12,4))\n",
        "#sns.distplot(df['totalwords'],kde=False,bins=200)\n",
        "#plt.xlim(0,130)"
      ],
      "execution_count": null,
      "outputs": []
    },
    {
      "cell_type": "code",
      "metadata": {
        "id": "heu4wl8HRikz",
        "colab": {
          "base_uri": "https://localhost:8080/"
        },
        "outputId": "954779c4-320b-412c-92bd-549a0f0a9e50"
      },
      "source": [
        "#showing an example of the summaries in the dataset having words between 16 and 25\n",
        "x =df[ (df.totalwords > 16) & (df.totalwords < 25) ]\n",
        "#counting the number of summary examples having words between 16 and 25\n",
        "#x.tldr.count()\n",
        "x.tldr"
      ],
      "execution_count": null,
      "outputs": [
        {
          "output_type": "execute_result",
          "data": {
            "text/plain": [
              "0                               confuse a 5th grade girl for a boy in front of half of her class. kids are mean. sorry sandra.\n",
              "1           i found my estranged dad thought i loved him after getting to know him got to know him better and changed my mind.\n",
              "6                   tried to microwave french fries and stuck my finger into a franken-fuck of pain causing first degree burns\n",
              "10                        lost my virginity on someones driveway with a girl i didn't give a shit about and peed in her mouth.\n",
              "12                                           i told my sister i came on my mother last night because of a song she was singing\n",
              "                                                                 ...                                                          \n",
              "42121                           gambled away all my saving i made this summer. money i should be spending on clothes and food.\n",
              "42131                        i thought i had a job moved  signed a lease only for the job to get canceled leaving me stranded.\n",
              "42132    blew my nose while peeing tore something in my urethra and learned that women shouldn't blow their nose while peeing.\n",
              "42133                                         got high at the airport threw up on the floor made me and my bf miss the flight.\n",
              "42134           forgot my quarter for lunch at school for a week everyone thought i was anorexic and made a big stink about it\n",
              "Name: tldr, Length: 12030, dtype: object"
            ]
          },
          "metadata": {
            "tags": []
          },
          "execution_count": 18
        }
      ]
    },
    {
      "cell_type": "code",
      "metadata": {
        "id": "VKs_Rgvee6Se"
      },
      "source": [
        ""
      ],
      "execution_count": null,
      "outputs": []
    },
    {
      "cell_type": "code",
      "metadata": {
        "id": "cFEcinofe6q6"
      },
      "source": [
        ""
      ],
      "execution_count": null,
      "outputs": []
    },
    {
      "cell_type": "code",
      "metadata": {
        "id": "562Mp7TFfI7-"
      },
      "source": [
        ""
      ],
      "execution_count": null,
      "outputs": []
    },
    {
      "cell_type": "code",
      "metadata": {
        "id": "QRmKISu7fJUr"
      },
      "source": [
        ""
      ],
      "execution_count": null,
      "outputs": []
    },
    {
      "cell_type": "code",
      "metadata": {
        "id": "BWbpQEC1iM50"
      },
      "source": [
        "#filter the dataset with target features having total words less than 31 \n",
        "df = df[df.tldr.str.split().str.len() <= 130]"
      ],
      "execution_count": null,
      "outputs": []
    },
    {
      "cell_type": "code",
      "metadata": {
        "id": "EaW4S9U5ihry"
      },
      "source": [
        "#filter the dataset with target features having total words more than 21\n",
        "df = df[df.tldr.str.split().str.len() > 49]"
      ],
      "execution_count": null,
      "outputs": []
    },
    {
      "cell_type": "code",
      "metadata": {
        "id": "NCeFdPzYZB0p",
        "colab": {
          "base_uri": "https://localhost:8080/"
        },
        "outputId": "283fa4d5-6c91-4bb8-f830-4f0916430884"
      },
      "source": [
        "#bar plot showing the total number of words with the coressponding number of summarized sentences after removing outliers.\n",
        "grouping =df.groupby(\"totalwords\")\n",
        "y = grouping.tldr.count()\n",
        "yplt =y.plot(kind=\"bar\",figsize=(15,10),colormap=\"gist_rainbow_r\",title=\"total number of words with the coressponding number of summarized sentences\")\n",
        "yplt.set_ylabel(\"number of summarized sentences\")"
      ],
      "execution_count": null,
      "outputs": [
        {
          "output_type": "execute_result",
          "data": {
            "text/plain": [
              "Text(0, 0.5, 'number of summarized sentences')"
            ]
          },
          "metadata": {
            "tags": []
          },
          "execution_count": 21
        },
        {
          "output_type": "display_data",
          "data": {
            "image/png": "[encoded data removed]",
            "text/plain": [
              "<Figure size 1080x720 with 1 Axes>"
            ]
          },
          "metadata": {
            "tags": [],
            "needs_background": "light"
          }
        }
      ]
    },
    {
      "cell_type": "code",
      "metadata": {
        "colab": {
          "base_uri": "https://localhost:8080/"
        },
        "id": "zM6uY2EHiXzp",
        "outputId": "a8a9fd35-70df-4a46-a64c-294ecedf86d5"
      },
      "source": [
        "print(\"our data set now has {} rows and {} columns after removing outliers.\".format(df.shape[0],df.shape[1]))"
      ],
      "execution_count": null,
      "outputs": [
        {
          "output_type": "stream",
          "text": [
            "our data set now has 1200 rows and 8 columns after removing outliers.\n"
          ],
          "name": "stdout"
        }
      ]
    },
    {
      "cell_type": "code",
      "metadata": {
        "colab": {
          "base_uri": "https://localhost:8080/"
        },
        "id": "fZB1aKm1m3Ov",
        "outputId": "d4518041-f903-4047-9335-5c6fb809322f"
      },
      "source": [
        "#example of a given summary\n",
        "print(\"Summarization example: \\n{}\".format(df['tldr'].iloc[2]))"
      ],
      "execution_count": null,
      "outputs": [
        {
          "output_type": "stream",
          "text": [
            "Summarization example: \n",
            "i locked my keys in my locker including the key for my lock. i then had to walk my fat ass up to the front desk in my underwear and ask the female front desk attendant for the bolt cutters so i could get my clothes keys and everything else out.\n"
          ],
          "name": "stdout"
        }
      ]
    },
    {
      "cell_type": "code",
      "metadata": {
        "id": "c3QJm6lhnmW9",
        "colab": {
          "base_uri": "https://localhost:8080/"
        },
        "outputId": "30eca5a2-61b7-4834-b6ca-3effeb7590da"
      },
      "source": [
        "#checking if our target feature having any empty strings\n",
        "list(df[df['tldr'] == ''].index)"
      ],
      "execution_count": null,
      "outputs": [
        {
          "output_type": "execute_result",
          "data": {
            "text/plain": [
              "[]"
            ]
          },
          "metadata": {
            "tags": []
          },
          "execution_count": 24
        }
      ]
    },
    {
      "cell_type": "code",
      "metadata": {
        "colab": {
          "base_uri": "https://localhost:8080/"
        },
        "id": "PtcYaBZHsIL7",
        "outputId": "59006c1d-a285-4307-ae46-f58542b9de13"
      },
      "source": [
        "df['tldr']"
      ],
      "execution_count": null,
      "outputs": [
        {
          "output_type": "execute_result",
          "data": {
            "text/plain": [
              "7                                                                                                                                                                                                                                                                                          my truck went vroom vroom into a ditch. i tried to get it out and it tried to kill me. after shouting \"ole\" and getting scratched up more than a husband having sex with a kinky cougar two rednecks helped me out of a perilous predicament. and now me my testicles and my truck are all safe and sound.\n",
              "18       would be that he effectively told me i should live in a region he hates and i admire because i clearly don't understand the political climate — in so many words we should break things off. however it's much deeper than that. apparently half his family is from said region (and it's the half he dislikes of course) and he had lived there a very brief period of time. despite all that apparently he had never had a bad time there and no one ever did any harm to him. so i really couldn't figure out what his beef was with this place that has always seemed so charming to me.\n",
              "43                                                                                                                                                                                                                                                                                                                                               i locked my keys in my locker including the key for my lock. i then had to walk my fat ass up to the front desk in my underwear and ask the female front desk attendant for the bolt cutters so i could get my clothes keys and everything else out.\n",
              "48                                                                                                                                                                                                                                                                                                                                       i passed a course i failed last semester thought i was going to do well for the rest of finals. i missed the deadline for a final paper. now i'm going to fail this class and not get initiated into the first year of sisters for a new sorority on campus.\n",
              "149                                                                                                                                                                                                                                                                 we are having fun tried to made a joke to my cousin that our nephew is still missing she found out yelled and crying while scolding us whom literally focused to me cursed at her brother who laugh mildly. she got scolded by the mother because the way she is acting. and i'm sweating like a pig. and everyone is blaming me.\n",
              "                                                                                                                                                                                                                                                                                                     ...                                                                                                                                                                                                                                                                                             \n",
              "42092                                                                                                                                                                                                                                                                                             traveling to an area that (unbeknownst to me) has angry bugs that will attack you. tried to take a selfie with a giant flower and managed to step on a colony of fire ants. the angry ant mob swarmed into a crowded post-graduation ceremony and attacked at least one other person. chaos ensued.\n",
              "42116                                                                                                                                                                                                                                                                                                                                  i go to my schools stairwell to record audio can't hear a thing school goes into lockdown and i make way to the classroom without a clue what is going on and try to jiggle the door the class thinks i'm the intruder. the school police officer yells at me.\n",
              "42117                                                                                                                                                                                                                                                                                                        i was climbing into a steam tunnel at college and the 200 pound cover fell on my head. i get transferred to two different hospitals one of them by helicopter (at the exact time i turned a year older) and ended up with a broken skull seventeen stitches and a massive forehead scar.\n",
              "42122                                                                                                                                                                                                                                                                                                                       i made half my school wait on hot cramped buses for over 3 hours because i lost the key to my locker at a ski resort ended up finding it in my pocket the next day. got the school to cancel the club for the rest of the season and almost got one of my teachers fired.\n",
              "42138                                                                                                                                                                                                                                                                          in a rush i mixed my colours in the wash and ended up with pink underwear which a girl i was having over saw and now thinks i’m a little too camp for her so i won’t be seeing her again. in my rush i also left coins in a pocket which broke my machine.  i’m listening to everything my mother has to say in future\n",
              "Name: tldr, Length: 1200, dtype: object"
            ]
          },
          "metadata": {
            "tags": []
          },
          "execution_count": 25
        }
      ]
    },
    {
      "cell_type": "code",
      "metadata": {
        "id": "7m7e6gaJw4Cs"
      },
      "source": [
        "#after removing outliers \n",
        "#plt.figure(figsize=(12,4))\n",
        "#sns.distplot(df['totalwords'],kde=False,bins=10)\n",
        "#plt.xlim(0,60)"
      ],
      "execution_count": null,
      "outputs": []
    },
    {
      "cell_type": "code",
      "metadata": {
        "colab": {
          "base_uri": "https://localhost:8080/"
        },
        "id": "llqH2R9TsnZC",
        "outputId": "a64e5a62-80d6-4732-fca1-eaf34b89420c"
      },
      "source": [
        "#df[\"totalwords\"].mean()\n",
        "#df[\"number_of_words\"].max() \n",
        "print(\"The minmum number of words in a summary is {}\".format(df[\"totalwords\"].min()))\n",
        "print(\"The maximum number of words in a summary is {}\".format(df[\"totalwords\"].max()))\n",
        "print(\"The avarege number of words in a summary is {}\".format(df[\"totalwords\"].mean()))"
      ],
      "execution_count": null,
      "outputs": [
        {
          "output_type": "stream",
          "text": [
            "The minmum number of words in a summary is 50\n",
            "The maximum number of words in a summary is 130\n",
            "The avarege number of words in a summary is 62.965833333333336\n"
          ],
          "name": "stdout"
        }
      ]
    },
    {
      "cell_type": "code",
      "metadata": {
        "id": "9H2RLXkSTsgI"
      },
      "source": [
        ""
      ],
      "execution_count": null,
      "outputs": []
    },
    {
      "cell_type": "code",
      "metadata": {
        "id": "SyAwQSunTs4U"
      },
      "source": [
        ""
      ],
      "execution_count": null,
      "outputs": []
    },
    {
      "cell_type": "markdown",
      "metadata": {
        "id": "7g8KXgr1POuI"
      },
      "source": [
        "# 2.2 getting the required objects (the architecture, tokenizer, config, and model, using get_hf_objects helper method"
      ]
    },
    {
      "cell_type": "code",
      "metadata": {
        "colab": {
          "base_uri": "https://localhost:8080/"
        },
        "id": "UeZ-Mtti6wyU",
        "outputId": "cf574d56-5975-4b53-9511-88c2960428c5"
      },
      "source": [
        "#getting the required objects (the architecture, tokenizer, config, and model, using get_hf_objects helper method\n",
        "pretrained_model_name = \"facebook/bart-large-cnn\"\n",
        "hf_arch, hf_config, hf_tokenizer, hf_model = BLURR_MODEL_HELPER.get_hf_objects(pretrained_model_name, \n",
        "                                                                               model_cls=BartForConditionalGeneration)\n",
        "\n",
        "hf_arch, type(hf_config), type(hf_tokenizer), type(hf_model)"
      ],
      "execution_count": null,
      "outputs": [
        {
          "output_type": "execute_result",
          "data": {
            "text/plain": [
              "('bart',\n",
              " transformers.models.bart.configuration_bart.BartConfig,\n",
              " transformers.models.bart.tokenization_bart_fast.BartTokenizerFast,\n",
              " transformers.models.bart.modeling_bart.BartForConditionalGeneration)"
            ]
          },
          "metadata": {
            "tags": []
          },
          "execution_count": 28
        }
      ]
    },
    {
      "cell_type": "code",
      "metadata": {
        "colab": {
          "base_uri": "https://localhost:8080/"
        },
        "id": "5KmMy3bL7M2_",
        "outputId": "e060849a-7106-442a-ebbe-4d750a532ae2"
      },
      "source": [
        "#parameters dict generation with the default values \n",
        "text_gen_kwargs = default_text_gen_kwargs(hf_config, hf_model, task='summarization')\n",
        "text_gen_kwargs"
      ],
      "execution_count": null,
      "outputs": [
        {
          "output_type": "execute_result",
          "data": {
            "text/plain": [
              "{'bad_words_ids': None,\n",
              " 'bos_token_id': 0,\n",
              " 'decoder_start_token_id': 2,\n",
              " 'diversity_penalty': 0.0,\n",
              " 'do_sample': False,\n",
              " 'early_stopping': True,\n",
              " 'encoder_no_repeat_ngram_size': 0,\n",
              " 'eos_token_id': 2,\n",
              " 'length_penalty': 2.0,\n",
              " 'max_length': 142,\n",
              " 'min_length': 56,\n",
              " 'no_repeat_ngram_size': 3,\n",
              " 'num_beam_groups': 1,\n",
              " 'num_beams': 4,\n",
              " 'num_return_sequences': 1,\n",
              " 'output_attentions': False,\n",
              " 'output_hidden_states': False,\n",
              " 'output_scores': False,\n",
              " 'pad_token_id': 1,\n",
              " 'repetition_penalty': 1.0,\n",
              " 'return_dict_in_generate': False,\n",
              " 'temperature': 1.0,\n",
              " 'top_k': 50,\n",
              " 'top_p': 1.0,\n",
              " 'use_cache': True}"
            ]
          },
          "metadata": {
            "tags": []
          },
          "execution_count": 29
        }
      ]
    },
    {
      "cell_type": "code",
      "metadata": {
        "id": "xIVGLEhe7NlW"
      },
      "source": [
        "#customizing the text generation by changing values in text_gen_kwargs\n",
        "hf_batch_tfm = HF_Seq2SeqBeforeBatchTransform(hf_arch, hf_config, hf_tokenizer, hf_model, \n",
        "                                              max_length=256, max_tgt_length=130, text_gen_kwargs=\n",
        "{'bad_words_ids': None,\n",
        " 'bos_token_id': 0,\n",
        " 'decoder_start_token_id': 2,\n",
        " ##final 1 from 0\n",
        " 'diversity_penalty': 1.0,\n",
        " 'do_sample': False,\n",
        " 'early_stopping': True,\n",
        " 'eos_token_id': 2,\n",
        " #last 3 from 2\n",
        " 'length_penalty': 1.0,\n",
        " #\n",
        " 'max_length': 140,\n",
        " 'min_length': 50,\n",
        " 'no_repeat_ngram_size': 3,\n",
        " ##next final 1 \n",
        " 'num_beam_groups': 5,\n",
        "  #final change \n",
        " 'num_beams': 10,\n",
        " 'num_return_sequences': 1,\n",
        " 'output_attentions': False,\n",
        " 'output_hidden_states': False,\n",
        " 'output_scores': False,\n",
        " 'pad_token_id': 1,\n",
        " 'repetition_penalty': 1.0,\n",
        " 'return_dict_in_generate': False,\n",
        " ## \n",
        " 'temperature': 1.0,\n",
        " 'top_k': 50,\n",
        " 'top_p': 1.0,\n",
        " 'use_cache': True})\n",
        "\n",
        "blocks = (HF_Seq2SeqBlock(before_batch_tfm=hf_batch_tfm), noop)\n",
        "#change article to document and change highlights to sumamry\n",
        "dblock = DataBlock(blocks=blocks, get_x=ColReader('documents'), get_y=ColReader('tldr'), splitter=RandomSplitter())\n",
        "\n",
        "\n"
      ],
      "execution_count": null,
      "outputs": []
    },
    {
      "cell_type": "code",
      "metadata": {
        "id": "_TQiq9mTgSLk"
      },
      "source": [
        ""
      ],
      "execution_count": null,
      "outputs": []
    },
    {
      "cell_type": "code",
      "metadata": {
        "id": "SbU49oT9gSkC"
      },
      "source": [
        ""
      ],
      "execution_count": null,
      "outputs": []
    },
    {
      "cell_type": "code",
      "metadata": {
        "id": "0Lyy8N4PgDiF"
      },
      "source": [
        ""
      ],
      "execution_count": null,
      "outputs": []
    },
    {
      "cell_type": "code",
      "metadata": {
        "id": "qLJef27kgD6v"
      },
      "source": [
        ""
      ],
      "execution_count": null,
      "outputs": []
    },
    {
      "cell_type": "code",
      "metadata": {
        "id": "remTZH7nfmPD"
      },
      "source": [
        ""
      ],
      "execution_count": null,
      "outputs": []
    },
    {
      "cell_type": "code",
      "metadata": {
        "id": "I8GodH6kfmni"
      },
      "source": [
        ""
      ],
      "execution_count": null,
      "outputs": []
    },
    {
      "cell_type": "code",
      "metadata": {
        "id": "D6zHVUgff04k"
      },
      "source": [
        ""
      ],
      "execution_count": null,
      "outputs": []
    },
    {
      "cell_type": "code",
      "metadata": {
        "id": "5iO6QCXDf1RA"
      },
      "source": [
        ""
      ],
      "execution_count": null,
      "outputs": []
    },
    {
      "cell_type": "code",
      "metadata": {
        "id": "KzzjyB9VfXlg"
      },
      "source": [
        ""
      ],
      "execution_count": null,
      "outputs": []
    },
    {
      "cell_type": "code",
      "metadata": {
        "id": "y7BQdsYnfX-A"
      },
      "source": [
        ""
      ],
      "execution_count": null,
      "outputs": []
    },
    {
      "cell_type": "code",
      "metadata": {
        "id": "WURQbUCD7V7U"
      },
      "source": [
        "dls = dblock.dataloaders(df, bs=2)"
      ],
      "execution_count": null,
      "outputs": []
    },
    {
      "cell_type": "code",
      "metadata": {
        "colab": {
          "base_uri": "https://localhost:8080/"
        },
        "id": "R_jb1HTv7pKk",
        "outputId": "40c8bd8d-fd7d-4db5-d549-8268817037c5"
      },
      "source": [
        "len(dls.train.items), len(dls.valid.items)"
      ],
      "execution_count": null,
      "outputs": [
        {
          "output_type": "execute_result",
          "data": {
            "text/plain": [
              "(960, 240)"
            ]
          },
          "metadata": {
            "tags": []
          },
          "execution_count": 32
        }
      ]
    },
    {
      "cell_type": "code",
      "metadata": {
        "colab": {
          "base_uri": "https://localhost:8080/"
        },
        "id": "fb6EWHm27r8L",
        "outputId": "52de84aa-c067-4d31-8d8b-d77c7df67c04"
      },
      "source": [
        "#batch shape\n",
        "b = dls.one_batch()\n",
        "len(b), b[0]['input_ids'].shape, b[1].shape"
      ],
      "execution_count": null,
      "outputs": [
        {
          "output_type": "execute_result",
          "data": {
            "text/plain": [
              "(2, torch.Size([2, 256]), torch.Size([2, 140]))"
            ]
          },
          "metadata": {
            "tags": []
          },
          "execution_count": 33
        }
      ]
    },
    {
      "cell_type": "code",
      "metadata": {
        "colab": {
          "base_uri": "https://localhost:8080/",
          "height": 332
        },
        "id": "xpprOQn37wzF",
        "outputId": "d8630067-4878-4624-a204-68bb604e2c6f"
      },
      "source": [
        "dls.show_batch(dataloaders=dls, max_n=2)"
      ],
      "execution_count": null,
      "outputs": [
        {
          "output_type": "display_data",
          "data": {
            "text/html": [
              "<table border=\"1\" class=\"dataframe\">\n",
              "  <thead>\n",
              "    <tr style=\"text-align: right;\">\n",
              "      <th></th>\n",
              "      <th>text</th>\n",
              "      <th>target</th>\n",
              "    </tr>\n",
              "  </thead>\n",
              "  <tbody>\n",
              "    <tr>\n",
              "      <th>0</th>\n",
              "      <td>i am an old hand at masturbation. like a grizzled and salty sea dog that has seen too many years on the bow of a battered tug boat, i think i’ve seen it all through a haze of white pipe smoke. **nods sagely**. only a few haggard superstitions from lands still inhabited by dragons remain. i’m no longer the masturbateur of my teens or even my twenties. i have learnt and grown along this epic voyage into the masturbator i am today. and just like any long voyage, games pass the time. except instead of “i spy” i have become exceedingly good at the game of things not to put your penis into.\\n\\nactually there are surprisingly few rules for this game. they say to someone with a hammer, everything is a nail, and i’ve nailed most things, even the things that are nailed down. a walkman? sure, put some blu tac around the gears and wear a condom and let it glide under the head. various fruits, bottles, back massagers? pfft child’s play. these weren’t the new-fangled internet days of a million voices coming together as one to solve the problem of sp</td>\n",
              "      <td>i used a soap filled rubber washing up glove as a fuck sleeve and flayed the glans of my penis like i was fucking a rusty cheese grater until it bled from the head. i proceeded to then make it worse by applying anaesthetic gel for teething babies on it and it turned the blood into rivers of burning fire. i am forever changed and the gods have wrought vengeance on me for my arrogance and pride</td>\n",
              "    </tr>\n",
              "    <tr>\n",
              "      <th>1</th>\n",
              "      <td>as is tradition, this happened two days ago. however, i am still stuck in a foreign airport as a consequence of this shit happening! due to the long wait i have at the airport right now, this story will be detailed, and i apologise in advance for the length of this post. potato. \\n\\nthe story starts in bangkok, thailand. it doesn’t involve a thai prostitute, but involves the next worst thing; a thai taxi driver.\\n\\npart 1: the taxi\\n\\ni had just finished my holiday in thailand, and was about to head to the airport in bangkok to catch my flight back to new zealand (due to depart in 4 hour’s time). the date was 28 january 2016, and the time was 2.15pm. \\n\\nas i waited outside of my hotel lobby, i saw a taxi approaching and i hailed it down. the driver and i agreed that the meter would be used for the trip. having had some experience with the bangkok taxis, i knew that the trip to the airport could not be more than 400 baht at the very most. with that knowledge in mind, i saved exactly 400 baht in cash for this taxi</td>\n",
              "      <td>taxi driver stole my passport and money in bangkok. police found my passport after a whole night’s work. i then caught the next flight from bangkok to taipei with the hope of making a connecting flight back home to auckland. but the flight is full for the next few days. waiting here in taipei for the next flight with empty seats back home. fuck my life.</td>\n",
              "    </tr>\n",
              "  </tbody>\n",
              "</table>"
            ],
            "text/plain": [
              "<IPython.core.display.HTML object>"
            ]
          },
          "metadata": {
            "tags": []
          }
        }
      ]
    },
    {
      "cell_type": "markdown",
      "metadata": {
        "id": "PDOmGuyUKI42"
      },
      "source": [
        "### **Training** "
      ]
    },
    {
      "cell_type": "code",
      "metadata": {
        "id": "zrOMXNES7zHn"
      },
      "source": [
        "seq2seq_metrics = {\n",
        "        'rouge': {\n",
        "            'compute_kwargs': { 'rouge_types': [\"rouge1\", \"rouge2\", \"rougeL\"], 'use_stemmer': True },\n",
        "            'returns': [\"rouge1\", \"rouge2\", \"rougeL\"]\n",
        "       \n",
        "        }\n",
        "    }"
      ],
      "execution_count": null,
      "outputs": []
    },
    {
      "cell_type": "code",
      "metadata": {
        "id": "GsSAFsLm72Cp",
        "colab": {
          "base_uri": "https://localhost:8080/",
          "height": 66,
          "referenced_widgets": [
            "f1dbec66644943d39cd4361be8d482a0",
            "0e949e8804c640fe8374a7192850e824",
            "aee106ebe786495c902f2ec4a1666650",
            "ec3331b087f54bfc82ad748088b74364",
            "80a0a2c518364a6eb4bba1a0d18c5888",
            "4584c2cc80544f24958fd7ff61f1274c",
            "b82f92097c944dbda44df3975b0a307f",
            "acf650a3744242638f61437238229ac3"
          ]
        },
        "outputId": "4b7ffa34-9644-4acc-cfae-68d77af3ea88"
      },
      "source": [
        "model = HF_BaseModelWrapper(hf_model)\n",
        "learn_cbs = [HF_BaseModelCallback]\n",
        "fit_cbs = [HF_Seq2SeqMetricsCallback(custom_metrics=seq2seq_metrics)]\n",
        "\n",
        "learn = Learner(dls, \n",
        "                model,\n",
        "                opt_func=ranger,\n",
        "                loss_func=CrossEntropyLossFlat(),\n",
        "                cbs=learn_cbs,\n",
        "                splitter=partial(seq2seq_splitter, arch=hf_arch)).to_fp16()\n",
        "\n",
        "learn.create_opt() \n",
        "learn.freeze()"
      ],
      "execution_count": null,
      "outputs": [
        {
          "output_type": "display_data",
          "data": {
            "application/vnd.jupyter.widget-view+json": {
              "model_id": "f1dbec66644943d39cd4361be8d482a0",
              "version_minor": 0,
              "version_major": 2
            },
            "text/plain": [
              "HBox(children=(FloatProgress(value=0.0, description='Downloading', max=2170.0, style=ProgressStyle(description…"
            ]
          },
          "metadata": {
            "tags": []
          }
        },
        {
          "output_type": "stream",
          "text": [
            "\n"
          ],
          "name": "stdout"
        }
      ]
    },
    {
      "cell_type": "code",
      "metadata": {
        "id": "j1FLiXcO8LBn",
        "colab": {
          "base_uri": "https://localhost:8080/",
          "height": 300
        },
        "outputId": "edca269b-9234-4bf5-9179-05892802ceed"
      },
      "source": [
        "learn.lr_find(suggestions=True)"
      ],
      "execution_count": null,
      "outputs": [
        {
          "output_type": "display_data",
          "data": {
            "text/html": [
              ""
            ],
            "text/plain": [
              "<IPython.core.display.HTML object>"
            ]
          },
          "metadata": {
            "tags": []
          }
        },
        {
          "output_type": "execute_result",
          "data": {
            "text/plain": [
              "SuggestedLRs(lr_min=0.05248074531555176, lr_steep=0.43651583790779114)"
            ]
          },
          "metadata": {
            "tags": []
          },
          "execution_count": 37
        },
        {
          "output_type": "display_data",
          "data": {
            "image/png": "[encoded data removed]",
            "text/plain": [
              "<Figure size 432x288 with 1 Axes>"
            ]
          },
          "metadata": {
            "tags": [],
            "needs_background": "light"
          }
        }
      ]
    },
    {
      "cell_type": "code",
      "metadata": {
        "id": "Qn2y3tjb8h9x",
        "colab": {
          "base_uri": "https://localhost:8080/"
        },
        "outputId": "8aa2ac44-ba84-49b9-d786-70b2d0b79b67"
      },
      "source": [
        "#running a batch to the model and output the shape\n",
        "b = dls.one_batch()\n",
        "preds = learn.model(b[0])\n",
        "len(preds),preds[0], preds[1].shape"
      ],
      "execution_count": null,
      "outputs": [
        {
          "output_type": "execute_result",
          "data": {
            "text/plain": [
              "(4,\n",
              " tensor(4.7125, device='cuda:0', grad_fn=<NllLossBackward>),\n",
              " torch.Size([2, 96, 50264]))"
            ]
          },
          "metadata": {
            "tags": []
          },
          "execution_count": 38
        }
      ]
    },
    {
      "cell_type": "code",
      "metadata": {
        "id": "v-MMHqhh8i1Y",
        "colab": {
          "base_uri": "https://localhost:8080/",
          "height": 80
        },
        "outputId": "fbedce6f-ab5b-4f6b-f69c-a8e2e788fe3a"
      },
      "source": [
        "learn.fit_one_cycle(1, lr_max=3e-5, cbs=fit_cbs)"
      ],
      "execution_count": null,
      "outputs": [
        {
          "output_type": "display_data",
          "data": {
            "text/html": [
              "<table border=\"1\" class=\"dataframe\">\n",
              "  <thead>\n",
              "    <tr style=\"text-align: left;\">\n",
              "      <th>epoch</th>\n",
              "      <th>train_loss</th>\n",
              "      <th>valid_loss</th>\n",
              "      <th>rouge1</th>\n",
              "      <th>rouge2</th>\n",
              "      <th>rougeL</th>\n",
              "      <th>time</th>\n",
              "    </tr>\n",
              "  </thead>\n",
              "  <tbody>\n",
              "    <tr>\n",
              "      <td>0</td>\n",
              "      <td>3.181218</td>\n",
              "      <td>3.152706</td>\n",
              "      <td>0.317219</td>\n",
              "      <td>0.066936</td>\n",
              "      <td>0.186056</td>\n",
              "      <td>10:01</td>\n",
              "    </tr>\n",
              "  </tbody>\n",
              "</table>"
            ],
            "text/plain": [
              "<IPython.core.display.HTML object>"
            ]
          },
          "metadata": {
            "tags": []
          }
        }
      ]
    },
    {
      "cell_type": "code",
      "metadata": {
        "id": "YkjlEAsuBIWG",
        "colab": {
          "base_uri": "https://localhost:8080/",
          "height": 417
        },
        "outputId": "d7191fd3-f741-4162-fea4-4066e571147f"
      },
      "source": [
        " learn.show_results(learner=learn, max_n=2)"
      ],
      "execution_count": null,
      "outputs": [
        {
          "output_type": "display_data",
          "data": {
            "text/html": [
              ""
            ],
            "text/plain": [
              "<IPython.core.display.HTML object>"
            ]
          },
          "metadata": {
            "tags": []
          }
        },
        {
          "output_type": "display_data",
          "data": {
            "text/html": [
              "<table border=\"1\" class=\"dataframe\">\n",
              "  <thead>\n",
              "    <tr style=\"text-align: right;\">\n",
              "      <th></th>\n",
              "      <th>text</th>\n",
              "      <th>target</th>\n",
              "      <th>prediction</th>\n",
              "    </tr>\n",
              "  </thead>\n",
              "  <tbody>\n",
              "    <tr>\n",
              "      <th>0</th>\n",
              "      <td>day 24 of my cross-country motorcycle trip back in august. i left vegas that morning swearing to never go back to that city again. it was going to be around a six hour ride before i would make my way to the north rim of the grand canyon, on a route that saw me going from nevada to arizona to utah and back to arizona where i would post up for some camping on the north rim.\\n\\nthe weather wasn't bad at all. blue skies and high temperatures, but it was nothing compared to the triple digit riding i was suffering through a few days previously. most of the ride went off without a hitch. but between a slight hangover and 90 degree temperatures, there were a lot of stops for water.\\n\\nwhile i was riding through the desert of arizona and utah, i was dodging storms for a good portion of the afternoon. most were small in size but whatever was in their path was absolutely drenched. my storm-dodging luck eventually ran out in utah. trapped in construction traffic, the patch of gray i had been eyeing for a few hours now was directly overhead. for a storm that looked so daunting in the distance, the rain was surprisingly light</td>\n",
              "      <td>get lost. get rained on. get hailed on. gets dark. get lost some more this time in a forest. dump bike. almost dump bike. dump bike. kill bike battery. get bike jumped. kill bike. get bike jumped in the rain. bike dies overnight. push start bike. kill bike with the kick stand. push start bike. gtfo of forest.</td>\n",
              "      <td>i was riding through the desert of arizona and utah when i was hit by a storm. i was stuck in construction traffic for over an hour and had to stop for water. i ended up having to stop in a small town for a few hours to get out of the storm.</td>\n",
              "    </tr>\n",
              "    <tr>\n",
              "      <th>1</th>\n",
              "      <td>this story actually happened about 6 years ago. my sincerest apologies for the length of this story, as i am verbose and often include too many details. but i think reddit might enjoy this. \\n\\nit was a sunny warm sunday and i had been hunting for the recently released g1 android phone on craigslist. after emailing back and forth a few times, we arrived at a great price for not one but 2 phones! so, we arranged to meet at an apartment complex about 30 minutes away. i gathered my cash and drove to the location.\\n\\ni was stupid and young at the time, and did not comprehend how dangerous the part of town i was heading into was. but, i felt relatively safe upon arrival since it was a pretty well populated apartment complex and there were lots of people around in broad daylight. i was standing on the sidewalk in between the parking lot and the pool area, where a bunch of kids were playing, swimming, shooting each other with water guns, etc. parents were all around watching. even so, i had folded up all the money and stuffed it in an almost empty pack of cigarettes. i was wearing jeans, a t shirt, a gray hoodie with two pockets on the front, flip fl</td>\n",
              "      <td>(thanks to downbringer) op goes to buy phone from craigslist sale is a setup for a mugging. op gets maced and beat on they steal his wallet (but not the money as op was smart and hid it) and rip his jeans. op pulls out switch blade and acts like a mad man to scare his assailants off. op goes to petrol station and calls cops. assailants go to prison op wins at life.</td>\n",
              "      <td>i was stupid and young at the time and didn't realize the dangers of the area i was walking into. i was standing on the sidewalk in between the parking lot and the pool area where a bunch of kids were playing, swimming, shooting each other with water guns, etc. parents were all around watching. i had folded up all the money and stuffed it in an almost empty pack of cigarettes.</td>\n",
              "    </tr>\n",
              "  </tbody>\n",
              "</table>"
            ],
            "text/plain": [
              "<IPython.core.display.HTML object>"
            ]
          },
          "metadata": {
            "tags": []
          }
        }
      ]
    }
  ]
}