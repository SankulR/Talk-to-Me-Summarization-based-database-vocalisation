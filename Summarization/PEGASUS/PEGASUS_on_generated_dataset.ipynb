{
  "nbformat": 4,
  "nbformat_minor": 0,
  "metadata": {
    "colab": {
      "name": "PEGASUS_on_generated_dataset.ipynb",
      "provenance": [],
      "collapsed_sections": [],
      "machine_shape": "hm"
    },
    "kernelspec": {
      "name": "python3",
      "display_name": "Python 3"
    },
    "accelerator": "GPU"
  },
  "cells": [
    {
      "cell_type": "markdown",
      "metadata": {
        "id": "4cbgwZWWfWpp"
      },
      "source": [
        "# This is the Colab Notebook for Summarization using PEGASUS on our generated dataset"
      ]
    },
    {
      "cell_type": "code",
      "metadata": {
        "id": "tAb77yZ9fzMG",
        "colab": {
          "base_uri": "https://localhost:8080/"
        },
        "outputId": "5447d464-c495-43d4-ce46-b157b2a5189a"
      },
      "source": [
        "!pip3 install transformers"
      ],
      "execution_count": null,
      "outputs": [
        {
          "output_type": "stream",
          "text": [
            "Requirement already satisfied: transformers in /usr/local/lib/python3.7/dist-packages (4.3.3)\n",
            "Requirement already satisfied: numpy>=1.17 in /usr/local/lib/python3.7/dist-packages (from transformers) (1.19.5)\n",
            "Requirement already satisfied: importlib-metadata; python_version < \"3.8\" in /usr/local/lib/python3.7/dist-packages (from transformers) (3.7.0)\n",
            "Requirement already satisfied: requests in /usr/local/lib/python3.7/dist-packages (from transformers) (2.23.0)\n",
            "Requirement already satisfied: tokenizers<0.11,>=0.10.1 in /usr/local/lib/python3.7/dist-packages (from transformers) (0.10.1)\n",
            "Requirement already satisfied: filelock in /usr/local/lib/python3.7/dist-packages (from transformers) (3.0.12)\n",
            "Requirement already satisfied: sacremoses in /usr/local/lib/python3.7/dist-packages (from transformers) (0.0.43)\n",
            "Requirement already satisfied: tqdm>=4.27 in /usr/local/lib/python3.7/dist-packages (from transformers) (4.41.1)\n",
            "Requirement already satisfied: regex!=2019.12.17 in /usr/local/lib/python3.7/dist-packages (from transformers) (2019.12.20)\n",
            "Requirement already satisfied: packaging in /usr/local/lib/python3.7/dist-packages (from transformers) (20.9)\n",
            "Requirement already satisfied: typing-extensions>=3.6.4; python_version < \"3.8\" in /usr/local/lib/python3.7/dist-packages (from importlib-metadata; python_version < \"3.8\"->transformers) (3.7.4.3)\n",
            "Requirement already satisfied: zipp>=0.5 in /usr/local/lib/python3.7/dist-packages (from importlib-metadata; python_version < \"3.8\"->transformers) (3.4.0)\n",
            "Requirement already satisfied: chardet<4,>=3.0.2 in /usr/local/lib/python3.7/dist-packages (from requests->transformers) (3.0.4)\n",
            "Requirement already satisfied: idna<3,>=2.5 in /usr/local/lib/python3.7/dist-packages (from requests->transformers) (2.10)\n",
            "Requirement already satisfied: certifi>=2017.4.17 in /usr/local/lib/python3.7/dist-packages (from requests->transformers) (2020.12.5)\n",
            "Requirement already satisfied: urllib3!=1.25.0,!=1.25.1,<1.26,>=1.21.1 in /usr/local/lib/python3.7/dist-packages (from requests->transformers) (1.24.3)\n",
            "Requirement already satisfied: joblib in /usr/local/lib/python3.7/dist-packages (from sacremoses->transformers) (1.0.1)\n",
            "Requirement already satisfied: six in /usr/local/lib/python3.7/dist-packages (from sacremoses->transformers) (1.15.0)\n",
            "Requirement already satisfied: click in /usr/local/lib/python3.7/dist-packages (from sacremoses->transformers) (7.1.2)\n",
            "Requirement already satisfied: pyparsing>=2.0.2 in /usr/local/lib/python3.7/dist-packages (from packaging->transformers) (2.4.7)\n"
          ],
          "name": "stdout"
        }
      ]
    },
    {
      "cell_type": "code",
      "metadata": {
        "id": "pafL7Li0jyXW",
        "colab": {
          "base_uri": "https://localhost:8080/"
        },
        "outputId": "8276422e-31a3-4a67-86bd-779ff5ed6b3e"
      },
      "source": [
        "!pip3 install sentencepiece"
      ],
      "execution_count": null,
      "outputs": [
        {
          "output_type": "stream",
          "text": [
            "Requirement already satisfied: sentencepiece in /usr/local/lib/python3.7/dist-packages (0.1.95)\n"
          ],
          "name": "stdout"
        }
      ]
    },
    {
      "cell_type": "code",
      "metadata": {
        "id": "DtqQ5j9U0njr"
      },
      "source": [
        "from transformers import AutoModelWithLMHead, AutoTokenizer, AutoModelForSeq2SeqLM"
      ],
      "execution_count": null,
      "outputs": []
    },
    {
      "cell_type": "code",
      "metadata": {
        "id": "5wCi3T9h1ily"
      },
      "source": [
        "model_name = 'google/pegasus-large'"
      ],
      "execution_count": null,
      "outputs": []
    },
    {
      "cell_type": "code",
      "metadata": {
        "id": "WZPuFOaa1nw5"
      },
      "source": [
        "model = AutoModelForSeq2SeqLM.from_pretrained(model_name)\r\n",
        "tokenizer = AutoTokenizer.from_pretrained(model_name)"
      ],
      "execution_count": null,
      "outputs": []
    },
    {
      "cell_type": "code",
      "metadata": {
        "colab": {
          "base_uri": "https://localhost:8080/"
        },
        "id": "qbKHvVHx1poB",
        "outputId": "2ae8df7f-e7f0-453f-e5f9-331d8ea80e1b"
      },
      "source": [
        "ARTICLE= \"\"\"Picture this: a herd of elephants flies past you at sixty miles per hour, followed by a streak of tigers, a pride of lions, and a bunch of clowns. \r\n",
        "What do you see? It must be a circus train! One of the first uses of the circus train is credited to W.C. Coup. He \r\n",
        "partnered with P.T. Barnum in 1871 to expand the reach of their newly combined shows using \r\n",
        "locomotives. Before circus trains, these operators had to lug around all of their animals, \r\n",
        "performers, and equipment with a team of more than 600 horses. Since there were no highways, \r\n",
        "these voyages were rough and took a long time. Circuses would stop at many small towns \r\n",
        "between the large venues. Performing at many of these small towns was not very profitable. \r\n",
        "Because of these limitations, circuses could not grow as large as the imaginations of the \r\n",
        "operators. After they began using circus trains, Barnum and Coup only brought their show to \r\n",
        "large cities. These performances were much more profitable and the profits went toward creating \r\n",
        "an even bigger and better circus. Multiple rings were added and the show went on. Today, \r\n",
        "Ringling Bros. and Barnum and Bailey Circus still rely on the circus train to transport their \r\n",
        "astounding show, but now they use two.\"\"\"\r\n",
        "inputs = tokenizer.encode(\"summarize: \" + ARTICLE, return_tensors=\"pt\", truncation=True, max_length=512)\r\n",
        "outputs = model.generate(inputs, max_length=150, min_length=40, num_beams=4, length_penalty=2.0, early_stopping=True)\r\n",
        "print(\"Your summary: \")\r\n",
        "print(tokenizer.decode(outputs[0]))"
      ],
      "execution_count": null,
      "outputs": [
        {
          "output_type": "stream",
          "text": [
            "Your summary: \n",
            "<pad> used the circus train to transport their show to large cities. made their show bigger and better. still use the circus train to transport their show to large cities. still use the circus train to transport their show to large cities.</s>\n"
          ],
          "name": "stdout"
        }
      ]
    },
    {
      "cell_type": "code",
      "metadata": {
        "id": "HkARp9mM1sOD"
      },
      "source": [
        "!pip install ohmeow-blurr -q\r\n",
        "!pip install datasets -q"
      ],
      "execution_count": null,
      "outputs": []
    },
    {
      "cell_type": "code",
      "metadata": {
        "id": "wVZgetBW1uHa"
      },
      "source": [
        "!pip install bert-score -q"
      ],
      "execution_count": null,
      "outputs": []
    },
    {
      "cell_type": "code",
      "metadata": {
        "colab": {
          "base_uri": "https://localhost:8080/"
        },
        "id": "yIiDutbU1vh4",
        "outputId": "f0c19c29-f05a-4914-9a6b-102fe04b26f5"
      },
      "source": [
        "import datasets\r\n",
        "import pandas as pd\r\n",
        "import seaborn as sns\r\n",
        "from fastai.text.all import *\r\n",
        "from transformers import *\r\n",
        "\r\n",
        "from blurr.data.all import *\r\n",
        "from blurr.modeling.all import *"
      ],
      "execution_count": null,
      "outputs": [
        {
          "output_type": "stream",
          "text": [
            "[nltk_data] Downloading package wordnet to /root/nltk_data...\n",
            "[nltk_data]   Package wordnet is already up-to-date!\n"
          ],
          "name": "stdout"
        }
      ]
    },
    {
      "cell_type": "code",
      "metadata": {
        "id": "NzutP6SB1zoP"
      },
      "source": [
        "#showing an example of dataset\r\n",
        "df = pd.read_csv('trainDataPoints.csv')\r\n",
        "df.head(5)\r\n",
        "df1 = df.iloc[0:10000]"
      ],
      "execution_count": null,
      "outputs": []
    },
    {
      "cell_type": "code",
      "metadata": {
        "colab": {
          "base_uri": "https://localhost:8080/"
        },
        "id": "1u6oype72QjI",
        "outputId": "d6776ede-5477-45da-fcc5-57ed21fc9ee2"
      },
      "source": [
        "#getting the required objects (the architecture, tokenizer, config, and model, using get_hf_objects helper method\r\n",
        "pretrained_model_name = \"google/pegasus-large\"\r\n",
        "hf_arch, hf_config, hf_tokenizer, hf_model = BLURR_MODEL_HELPER.get_hf_objects(pretrained_model_name, \r\n",
        "                                                                               model_cls=PegasusForConditionalGeneration)\r\n",
        "\r\n",
        "hf_arch, type(hf_config), type(hf_tokenizer), type(hf_model)"
      ],
      "execution_count": null,
      "outputs": [
        {
          "output_type": "execute_result",
          "data": {
            "text/plain": [
              "('pegasus',\n",
              " transformers.models.pegasus.configuration_pegasus.PegasusConfig,\n",
              " transformers.models.pegasus.tokenization_pegasus_fast.PegasusTokenizerFast,\n",
              " transformers.models.pegasus.modeling_pegasus.PegasusForConditionalGeneration)"
            ]
          },
          "metadata": {
            "tags": []
          },
          "execution_count": 12
        }
      ]
    },
    {
      "cell_type": "code",
      "metadata": {
        "colab": {
          "base_uri": "https://localhost:8080/"
        },
        "id": "AWi-o29p2SEZ",
        "outputId": "bd756098-d621-403d-eea8-6fa37cf2af03"
      },
      "source": [
        "#parameters dict generation with the default values \r\n",
        "text_gen_kwargs = default_text_gen_kwargs(hf_config, hf_model, task='summarization')\r\n",
        "text_gen_kwargs"
      ],
      "execution_count": null,
      "outputs": [
        {
          "output_type": "execute_result",
          "data": {
            "text/plain": [
              "{'bad_words_ids': None,\n",
              " 'bos_token_id': 0,\n",
              " 'decoder_start_token_id': 0,\n",
              " 'diversity_penalty': 0.0,\n",
              " 'do_sample': False,\n",
              " 'early_stopping': False,\n",
              " 'encoder_no_repeat_ngram_size': 0,\n",
              " 'eos_token_id': 1,\n",
              " 'length_penalty': 0.8,\n",
              " 'max_length': 256,\n",
              " 'min_length': 0,\n",
              " 'no_repeat_ngram_size': 0,\n",
              " 'num_beam_groups': 1,\n",
              " 'num_beams': 8,\n",
              " 'num_return_sequences': 1,\n",
              " 'output_attentions': False,\n",
              " 'output_hidden_states': False,\n",
              " 'output_scores': False,\n",
              " 'pad_token_id': 0,\n",
              " 'repetition_penalty': 1.0,\n",
              " 'return_dict_in_generate': False,\n",
              " 'temperature': 1.0,\n",
              " 'top_k': 50,\n",
              " 'top_p': 1.0,\n",
              " 'use_cache': True}"
            ]
          },
          "metadata": {
            "tags": []
          },
          "execution_count": 13
        }
      ]
    },
    {
      "cell_type": "code",
      "metadata": {
        "id": "JXBzKxvj2UpB"
      },
      "source": [
        "#customizing the text generation by changing values in text_gen_kwargs\r\n",
        "hf_batch_tfm = HF_Seq2SeqBeforeBatchTransform(hf_arch, hf_config, hf_tokenizer, hf_model, \r\n",
        "                                              max_length=256, max_tgt_length=128, text_gen_kwargs= text_gen_kwargs)\r\n",
        "\r\n",
        "blocks = (HF_Seq2SeqBlock(before_batch_tfm=hf_batch_tfm), noop)\r\n",
        "#change article to document and change highlights to sumamry\r\n",
        "dblock = DataBlock(blocks=blocks, get_x=ColReader('data'), get_y=ColReader('target'), splitter=RandomSplitter())"
      ],
      "execution_count": null,
      "outputs": []
    },
    {
      "cell_type": "code",
      "metadata": {
        "id": "E4GfQ4St2X2a"
      },
      "source": [
        "dls = dblock.dataloaders(df1, bs=2)"
      ],
      "execution_count": null,
      "outputs": []
    },
    {
      "cell_type": "code",
      "metadata": {
        "colab": {
          "base_uri": "https://localhost:8080/"
        },
        "id": "SKR1eoWc2axB",
        "outputId": "86635487-50c7-40e6-f0ba-82b15a506f75"
      },
      "source": [
        "#batch shape\r\n",
        "b = dls.one_batch()\r\n",
        "len(b), b[0]['input_ids'].shape, b[1].shape"
      ],
      "execution_count": null,
      "outputs": [
        {
          "output_type": "execute_result",
          "data": {
            "text/plain": [
              "(2, torch.Size([2, 256]), torch.Size([2, 79]))"
            ]
          },
          "metadata": {
            "tags": []
          },
          "execution_count": 17
        }
      ]
    },
    {
      "cell_type": "code",
      "metadata": {
        "colab": {
          "base_uri": "https://localhost:8080/",
          "height": 813
        },
        "id": "CClNYZ3r2bYJ",
        "outputId": "00d94990-f045-4212-a537-41f3aa4bab6c"
      },
      "source": [
        "dls.show_batch(dataloaders=dls, max_n=2)"
      ],
      "execution_count": null,
      "outputs": [
        {
          "output_type": "display_data",
          "data": {
            "text/html": [
              "<table border=\"1\" class=\"dataframe\">\n",
              "  <thead>\n",
              "    <tr style=\"text-align: right;\">\n",
              "      <th></th>\n",
              "      <th>text</th>\n",
              "      <th>target</th>\n",
              "    </tr>\n",
              "  </thead>\n",
              "  <tbody>\n",
              "    <tr>\n",
              "      <th>0</th>\n",
              "      <td>Rank:1.0;_4th_Runner_up:5.0;Country:USA;tot:56.0;Semifinalists:28.0;Miss_Universe:8;_2nd_Runner_up:6.0;_1st_Runner_up:8.0;_3rd_Runner_up:1.0;;Rank:2.0;_4th_Runner_up:2.0;Country:Venezuela;tot:38.0;Semifinalists:14.0;Miss_Universe:6;_2nd_Runner_up:6.0;_1st_Runner_up:6.0;_3rd_Runner_up:4.0;;Rank:3.0;_4th_Runner_up:3.0;Country:Puerto Rico;tot:19.0;Semifinalists:7.0;Miss_Universe:5;_2nd_Runner_up:2.0;_1st_Runner_up:1.0;_3rd_Runner_up:1.0;;Rank:4.0;_4th_Runner_up:4.0;Country:Sweden;tot:29.0;Semifinalists:16.0;Miss_Universe:3;_2nd_Runner_up:2.0;_1st_Runner_up:1.0;_3rd_Runner_up:3.0;;</td>\n",
              "      <td>Table Miss Universe country rankings has 101 rows and Column Rank has entries with 81.0 as maximum value 51.0 as median and 1.0 as minimum value and Column 4th Runner up has entries with unique values ranging between 5.0 and 0.0 and Column Country has entries with uniques value between USA and Vietnam</td>\n",
              "    </tr>\n",
              "    <tr>\n",
              "      <th>1</th>\n",
              "      <td>Year:2012.0;Trainer:Gary Simms;Winner:Blueeyesintherein;Owner:Self/King/Morgenson/Travis, et al;Time:1:11.71;Jockey:Leandro Goncalves;;Year:2011.0;Trainer:Gary Simms;Winner:Flashy Lassie;Owner:Barry L. King;Time:1:10.89;Jockey:Kent Desormeaux;;Year:2010.0;Trainer:Dale Romans;Winner:Just Louise;Owner:Eldon Farm Equine;Time:1:11.85;Jockey:Robby Albarado;;Year:2009.0;Trainer:D. Wayne Lukas;Winner:Decelerator;Owner:Westrock Stables;Time:1:11.28;Jockey:Julien Leparoux;;Year:2008.0;Trainer:Todd A. Pletcher;Winner:Garden District;Owner:Twin Creeks Racing Stable;Time:1:11.07;Jockey:Robby Albarado;;Year:2007.0;Trainer:Steve Asmussen;Winner:Rated Fiesty;Owner:Heiligbrodt Racing et al.;Time:1:09.27;Jockey:Shaun Bridg</td>\n",
              "      <td>Table Churchill Downs Debutante Stakes has 18 rows and Column Year has entries with unique values ranging between 2012.0 and 1995.0 and Column Trainer has entries with uniques value between Gary Simms and D. Wayne Lukas and Column Winner has entries with uniques value between Blueeyesintherein and Golden Attraction</td>\n",
              "    </tr>\n",
              "  </tbody>\n",
              "</table>"
            ],
            "text/plain": [
              "<IPython.core.display.HTML object>"
            ]
          },
          "metadata": {
            "tags": []
          }
        }
      ]
    },
    {
      "cell_type": "code",
      "metadata": {
        "id": "wlRIT8xM2czo"
      },
      "source": [
        "seq2seq_metrics = {\r\n",
        "        'rouge': {\r\n",
        "            'compute_kwargs': { 'rouge_types': [\"rouge1\", \"rouge2\", \"rougeL\"], 'use_stemmer': True },\r\n",
        "            'returns': [\"rouge1\", \"rouge2\", \"rougeL\"]\r\n",
        "       \r\n",
        "        }\r\n",
        "    }"
      ],
      "execution_count": null,
      "outputs": []
    },
    {
      "cell_type": "code",
      "metadata": {
        "id": "LXZBRIa92eXA"
      },
      "source": [
        "model = HF_BaseModelWrapper(hf_model)\r\n",
        "learn_cbs = [HF_BaseModelCallback]\r\n",
        "fit_cbs = [HF_Seq2SeqMetricsCallback(custom_metrics=seq2seq_metrics)]\r\n",
        "\r\n",
        "learn = Learner(dls, \r\n",
        "                model,\r\n",
        "                opt_func=ranger,\r\n",
        "                loss_func=CrossEntropyLossFlat(),\r\n",
        "                cbs=learn_cbs,\r\n",
        "                splitter=partial(seq2seq_splitter, arch=hf_arch)).to_fp16()\r\n",
        "\r\n",
        "learn.create_opt() \r\n",
        "learn.freeze()"
      ],
      "execution_count": null,
      "outputs": []
    },
    {
      "cell_type": "code",
      "metadata": {
        "colab": {
          "base_uri": "https://localhost:8080/",
          "height": 300
        },
        "id": "x16KGcQx2gCA",
        "outputId": "9ad4414d-b023-43ab-fbb3-923360dbbd61"
      },
      "source": [
        "learn.lr_find(suggestions=True)"
      ],
      "execution_count": null,
      "outputs": [
        {
          "output_type": "display_data",
          "data": {
            "text/html": [
              ""
            ],
            "text/plain": [
              "<IPython.core.display.HTML object>"
            ]
          },
          "metadata": {
            "tags": []
          }
        },
        {
          "output_type": "execute_result",
          "data": {
            "text/plain": [
              "SuggestedLRs(lr_min=0.010000000149011612, lr_steep=0.0831763744354248)"
            ]
          },
          "metadata": {
            "tags": []
          },
          "execution_count": 21
        },
        {
          "output_type": "display_data",
          "data": {
            "image/png": "[encoded data removed]",
            "text/plain": [
              "<Figure size 432x288 with 1 Axes>"
            ]
          },
          "metadata": {
            "tags": [],
            "needs_background": "light"
          }
        }
      ]
    },
    {
      "cell_type": "code",
      "metadata": {
        "colab": {
          "base_uri": "https://localhost:8080/"
        },
        "id": "zhVfCHGL2hfJ",
        "outputId": "ee75e119-d438-4a9c-f6aa-f2bfbaa86bee"
      },
      "source": [
        "#running a batch to the model and output the shape\r\n",
        "b = dls.one_batch()\r\n",
        "preds = learn.model(b[0])\r\n",
        "len(preds),preds[0], preds[1].shape"
      ],
      "execution_count": null,
      "outputs": [
        {
          "output_type": "execute_result",
          "data": {
            "text/plain": [
              "(4,\n",
              " tensor(5.8737, device='cuda:0', grad_fn=<NllLossBackward>),\n",
              " torch.Size([2, 66, 96103]))"
            ]
          },
          "metadata": {
            "tags": []
          },
          "execution_count": 22
        }
      ]
    },
    {
      "cell_type": "markdown",
      "metadata": {
        "id": "nqgBRGWWCY6Y"
      },
      "source": [
        ""
      ]
    },
    {
      "cell_type": "code",
      "metadata": {
        "colab": {
          "base_uri": "https://localhost:8080/",
          "height": 345
        },
        "id": "i5c-2irg2jAh",
        "outputId": "653506b8-e227-4c3e-8fbc-7b465f715cb3"
      },
      "source": [
        "learn.fit_one_cycle(10, lr_max=1e-3, cbs=fit_cbs)"
      ],
      "execution_count": null,
      "outputs": [
        {
          "output_type": "display_data",
          "data": {
            "text/html": [
              "<table border=\"1\" class=\"dataframe\">\n",
              "  <thead>\n",
              "    <tr style=\"text-align: left;\">\n",
              "      <th>epoch</th>\n",
              "      <th>train_loss</th>\n",
              "      <th>valid_loss</th>\n",
              "      <th>rouge1</th>\n",
              "      <th>rouge2</th>\n",
              "      <th>rougeL</th>\n",
              "      <th>time</th>\n",
              "    </tr>\n",
              "  </thead>\n",
              "  <tbody>\n",
              "    <tr>\n",
              "      <td>0</td>\n",
              "      <td>2.005469</td>\n",
              "      <td>1.625858</td>\n",
              "      <td>0.781470</td>\n",
              "      <td>0.649403</td>\n",
              "      <td>0.731209</td>\n",
              "      <td>07:20</td>\n",
              "    </tr>\n",
              "    <tr>\n",
              "      <td>1</td>\n",
              "      <td>nan</td>\n",
              "      <td>1.230363</td>\n",
              "      <td>0.786678</td>\n",
              "      <td>0.662255</td>\n",
              "      <td>0.746346</td>\n",
              "      <td>07:05</td>\n",
              "    </tr>\n",
              "    <tr>\n",
              "      <td>2</td>\n",
              "      <td>nan</td>\n",
              "      <td>1.125182</td>\n",
              "      <td>0.841110</td>\n",
              "      <td>0.731465</td>\n",
              "      <td>0.795678</td>\n",
              "      <td>06:07</td>\n",
              "    </tr>\n",
              "    <tr>\n",
              "      <td>3</td>\n",
              "      <td>nan</td>\n",
              "      <td>1.062772</td>\n",
              "      <td>0.851803</td>\n",
              "      <td>0.740784</td>\n",
              "      <td>0.808199</td>\n",
              "      <td>06:29</td>\n",
              "    </tr>\n",
              "    <tr>\n",
              "      <td>4</td>\n",
              "      <td>nan</td>\n",
              "      <td>1.033826</td>\n",
              "      <td>0.841756</td>\n",
              "      <td>0.730302</td>\n",
              "      <td>0.802612</td>\n",
              "      <td>06:43</td>\n",
              "    </tr>\n",
              "    <tr>\n",
              "      <td>5</td>\n",
              "      <td>nan</td>\n",
              "      <td>1.002506</td>\n",
              "      <td>0.848218</td>\n",
              "      <td>0.741662</td>\n",
              "      <td>0.810927</td>\n",
              "      <td>06:27</td>\n",
              "    </tr>\n",
              "    <tr>\n",
              "      <td>6</td>\n",
              "      <td>nan</td>\n",
              "      <td>1.005894</td>\n",
              "      <td>0.865210</td>\n",
              "      <td>0.752314</td>\n",
              "      <td>0.819777</td>\n",
              "      <td>06:22</td>\n",
              "    </tr>\n",
              "    <tr>\n",
              "      <td>7</td>\n",
              "      <td>nan</td>\n",
              "      <td>1.007051</td>\n",
              "      <td>0.864515</td>\n",
              "      <td>0.760244</td>\n",
              "      <td>0.824424</td>\n",
              "      <td>06:19</td>\n",
              "    </tr>\n",
              "    <tr>\n",
              "      <td>8</td>\n",
              "      <td>nan</td>\n",
              "      <td>1.043588</td>\n",
              "      <td>0.868369</td>\n",
              "      <td>0.767242</td>\n",
              "      <td>0.827664</td>\n",
              "      <td>06:19</td>\n",
              "    </tr>\n",
              "    <tr>\n",
              "      <td>9</td>\n",
              "      <td>nan</td>\n",
              "      <td>1.060543</td>\n",
              "      <td>0.865729</td>\n",
              "      <td>0.761711</td>\n",
              "      <td>0.824111</td>\n",
              "      <td>06:21</td>\n",
              "    </tr>\n",
              "  </tbody>\n",
              "</table>"
            ],
            "text/plain": [
              "<IPython.core.display.HTML object>"
            ]
          },
          "metadata": {
            "tags": []
          }
        }
      ]
    },
    {
      "cell_type": "code",
      "metadata": {
        "colab": {
          "base_uri": "https://localhost:8080/",
          "height": 408
        },
        "id": "2QJSkuoP2kyo",
        "outputId": "727609a5-ded1-4e65-f1b5-ecd061bda30c"
      },
      "source": [
        "learn.show_results(learner=learn, max_n=2)"
      ],
      "execution_count": null,
      "outputs": [
        {
          "output_type": "display_data",
          "data": {
            "text/html": [
              ""
            ],
            "text/plain": [
              "<IPython.core.display.HTML object>"
            ]
          },
          "metadata": {
            "tags": []
          }
        },
        {
          "output_type": "display_data",
          "data": {
            "text/html": [
              "<table border=\"1\" class=\"dataframe\">\n",
              "  <thead>\n",
              "    <tr style=\"text-align: right;\">\n",
              "      <th></th>\n",
              "      <th>text</th>\n",
              "      <th>target</th>\n",
              "      <th>prediction</th>\n",
              "    </tr>\n",
              "  </thead>\n",
              "  <tbody>\n",
              "    <tr>\n",
              "      <th>0</th>\n",
              "      <td>Representative:John J. Eagan;Party:Democratic;Lifespan:1872–1956;Years:1913–1921 1923–1925;State:New Jersey;;Representative:Samuel W. Eager;Party:National Republican;Lifespan:1789–1860;Years:1830–1831;State:New York;;Representative:Joe H. Eagle;Party:Democratic;Lifespan:1870–1963;Years:1913–1921 1933–1937;State:Texas;;Representative:Benjamin T. Eames;Party:Republican;Lifespan:1818–1901;Years:1871–1879;State:Rhode Island;;Representative:Daniel S. Earhart;Party:Democratic;Lifespan:1907–1976;Years:1936–1937;State:Ohio;;Representative:Elias Earle;Party:Democratic-Republican;Lifespan:1762–1823;Years:1805–1807 1811–1815 1817–1821;State:South Carolina;;Representative:John B. Earle;Party:Democratic-Republican;Lifespan:1766–1836;Years:1803–1805;State:South Carolina;;Representative:Samuel Earle;Party:Democratic-Republican;Lifespan:1760–1833;Years:1795–1797;State:South Carolina;</td>\n",
              "      <td>Table List of former members of the United States House of Representatives E has 249 rows and Column Representative has entries with uniques value between John J. Eagan and Thomas W. Ewing and Column Party has entries with uniques value between Democratic and Republican and Column Lifespan has entries with uniques value between 1872–1956 and 1935–</td>\n",
              "      <td>Table History of the United States Congress has 13 rows and Column Representative has entries with uniques value between John J. Eagan and John B. Earle and Column Party has entries with 100.0 percent probability of Democratic and Column Lifespan has entries with uniques value between 1867–1921 and 1817–1821</td>\n",
              "    </tr>\n",
              "    <tr>\n",
              "      <th>1</th>\n",
              "      <td>County:Rutland UA;TFR_2006:2.81;Live_births_2006:391.0;GFR_2006:61.7;Whites_as_of_Pop_:98.10%;;County:Blackburn with Darwen UA;TFR_2006:2.49;Live_births_2006:2315.0;GFR_2006:78.3;Whites_as_of_Pop_:77.90%;;County:Slough UA;TFR_2006:2.47;Live_births_2006:2317.0;GFR_2006:85.0;Whites_as_of_Pop_:63.60%;;County:Luton UA;TFR_2006:2.43;Live_births_2006:3325.0;GFR_2006:81.9;Whites_as_of_Pop_:71.90%;;County:Peterborough UA;TFR_2006:2.42;Live_births_2006:2630.0;GFR_2006:78.0;Whites_as_of_Pop_:89.70%;;County:Milton Keynes UA;TFR_2006:2.20;Live_births_2006:3415.0;GFR_2006:7</td>\n",
              "      <td>Table Total fertility rate in England by county unitary authority has 86 rows and Column County has entries with uniques value between Rutland UA and York UA and Column TFR 2006 has entries with uniques value between 2.81 and 1.49 and Column Live births 2006 has entries with 69498.0 as maximum value 3444.0 as median and 391.0 as minimum value</td>\n",
              "      <td>Table List of towns and cities in the United Kingdom has 99 rows and Column County has entries with uniques value between Rutland UA and Berkshire UA and Column TFR 2006 has entries with unique values ranging between 2.81 and 1.03 and Column Live births 2006 has entries with uniques value between 391.0 and 341.0</td>\n",
              "    </tr>\n",
              "  </tbody>\n",
              "</table>"
            ],
            "text/plain": [
              "<IPython.core.display.HTML object>"
            ]
          },
          "metadata": {
            "tags": []
          }
        }
      ]
    }
  ]
}