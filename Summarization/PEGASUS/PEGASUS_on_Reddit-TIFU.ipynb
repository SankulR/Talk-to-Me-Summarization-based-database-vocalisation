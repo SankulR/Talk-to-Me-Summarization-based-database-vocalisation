{
  "nbformat": 4,
  "nbformat_minor": 0,
  "metadata": {
    "colab": {
      "name": "COLAB_notebook_25GB_RAM.ipynb",
      "provenance": [],
      "collapsed_sections": [],
      "machine_shape": "hm"
    },
    "kernelspec": {
      "name": "python3",
      "display_name": "Python 3"
    },
    "accelerator": "GPU"
  },
  "cells": [
    {
      "cell_type": "markdown",
      "metadata": {
        "id": "4cbgwZWWfWpp"
      },
      "source": [
        "# This is a Colab Notebook for Summarization of Reddit-TIFU dataset using PEGASUS"
      ]
    },
    {
      "cell_type": "code",
      "metadata": {
        "id": "tAb77yZ9fzMG",
        "colab": {
          "base_uri": "https://localhost:8080/"
        },
        "outputId": "84cb9d97-3678-4d63-c4e9-b03100889238"
      },
      "source": [
        "!pip3 install transformers"
      ],
      "execution_count": null,
      "outputs": [
        {
          "output_type": "stream",
          "text": [
            "Requirement already satisfied: transformers in /usr/local/lib/python3.7/dist-packages (4.3.3)\n",
            "Requirement already satisfied: requests in /usr/local/lib/python3.7/dist-packages (from transformers) (2.23.0)\n",
            "Requirement already satisfied: filelock in /usr/local/lib/python3.7/dist-packages (from transformers) (3.0.12)\n",
            "Requirement already satisfied: regex!=2019.12.17 in /usr/local/lib/python3.7/dist-packages (from transformers) (2019.12.20)\n",
            "Requirement already satisfied: packaging in /usr/local/lib/python3.7/dist-packages (from transformers) (20.9)\n",
            "Requirement already satisfied: numpy>=1.17 in /usr/local/lib/python3.7/dist-packages (from transformers) (1.19.5)\n",
            "Requirement already satisfied: importlib-metadata; python_version < \"3.8\" in /usr/local/lib/python3.7/dist-packages (from transformers) (3.4.0)\n",
            "Requirement already satisfied: sacremoses in /usr/local/lib/python3.7/dist-packages (from transformers) (0.0.43)\n",
            "Requirement already satisfied: tqdm>=4.27 in /usr/local/lib/python3.7/dist-packages (from transformers) (4.41.1)\n",
            "Requirement already satisfied: tokenizers<0.11,>=0.10.1 in /usr/local/lib/python3.7/dist-packages (from transformers) (0.10.1)\n",
            "Requirement already satisfied: idna<3,>=2.5 in /usr/local/lib/python3.7/dist-packages (from requests->transformers) (2.10)\n",
            "Requirement already satisfied: chardet<4,>=3.0.2 in /usr/local/lib/python3.7/dist-packages (from requests->transformers) (3.0.4)\n",
            "Requirement already satisfied: urllib3!=1.25.0,!=1.25.1,<1.26,>=1.21.1 in /usr/local/lib/python3.7/dist-packages (from requests->transformers) (1.24.3)\n",
            "Requirement already satisfied: certifi>=2017.4.17 in /usr/local/lib/python3.7/dist-packages (from requests->transformers) (2020.12.5)\n",
            "Requirement already satisfied: pyparsing>=2.0.2 in /usr/local/lib/python3.7/dist-packages (from packaging->transformers) (2.4.7)\n",
            "Requirement already satisfied: typing-extensions>=3.6.4; python_version < \"3.8\" in /usr/local/lib/python3.7/dist-packages (from importlib-metadata; python_version < \"3.8\"->transformers) (3.7.4.3)\n",
            "Requirement already satisfied: zipp>=0.5 in /usr/local/lib/python3.7/dist-packages (from importlib-metadata; python_version < \"3.8\"->transformers) (3.4.0)\n",
            "Requirement already satisfied: six in /usr/local/lib/python3.7/dist-packages (from sacremoses->transformers) (1.15.0)\n",
            "Requirement already satisfied: click in /usr/local/lib/python3.7/dist-packages (from sacremoses->transformers) (7.1.2)\n",
            "Requirement already satisfied: joblib in /usr/local/lib/python3.7/dist-packages (from sacremoses->transformers) (1.0.1)\n"
          ],
          "name": "stdout"
        }
      ]
    },
    {
      "cell_type": "code",
      "metadata": {
        "id": "pafL7Li0jyXW",
        "colab": {
          "base_uri": "https://localhost:8080/"
        },
        "outputId": "246cae0f-27ea-45ba-bfec-22d4164cbc08"
      },
      "source": [
        "!pip3 install sentencepiece"
      ],
      "execution_count": null,
      "outputs": [
        {
          "output_type": "stream",
          "text": [
            "Requirement already satisfied: sentencepiece in /usr/local/lib/python3.7/dist-packages (0.1.95)\n"
          ],
          "name": "stdout"
        }
      ]
    },
    {
      "cell_type": "code",
      "metadata": {
        "id": "DtqQ5j9U0njr"
      },
      "source": [
        "from transformers import AutoModelWithLMHead, AutoTokenizer, AutoModelForSeq2SeqLM"
      ],
      "execution_count": null,
      "outputs": []
    },
    {
      "cell_type": "code",
      "metadata": {
        "id": "5wCi3T9h1ily"
      },
      "source": [
        "model_name = 'google/pegasus-large'"
      ],
      "execution_count": null,
      "outputs": []
    },
    {
      "cell_type": "code",
      "metadata": {
        "id": "WZPuFOaa1nw5"
      },
      "source": [
        "model = AutoModelForSeq2SeqLM.from_pretrained(model_name)\r\n",
        "tokenizer = AutoTokenizer.from_pretrained(model_name)"
      ],
      "execution_count": null,
      "outputs": []
    },
    {
      "cell_type": "code",
      "metadata": {
        "colab": {
          "base_uri": "https://localhost:8080/"
        },
        "id": "qbKHvVHx1poB",
        "outputId": "6fc4a25d-fdef-4a7c-f950-b36ad971a148"
      },
      "source": [
        "ARTICLE= \"\"\"Picture this: a herd of elephants flies past you at sixty miles per hour, followed by a streak of tigers, a pride of lions, and a bunch of clowns. \r\n",
        "What do you see? It must be a circus train! One of the first uses of the circus train is credited to W.C. Coup. He \r\n",
        "partnered with P.T. Barnum in 1871 to expand the reach of their newly combined shows using \r\n",
        "locomotives. Before circus trains, these operators had to lug around all of their animals, \r\n",
        "performers, and equipment with a team of more than 600 horses. Since there were no highways, \r\n",
        "these voyages were rough and took a long time. Circuses would stop at many small towns \r\n",
        "between the large venues. Performing at many of these small towns was not very profitable. \r\n",
        "Because of these limitations, circuses could not grow as large as the imaginations of the \r\n",
        "operators. After they began using circus trains, Barnum and Coup only brought their show to \r\n",
        "large cities. These performances were much more profitable and the profits went toward creating \r\n",
        "an even bigger and better circus. Multiple rings were added and the show went on. Today, \r\n",
        "Ringling Bros. and Barnum and Bailey Circus still rely on the circus train to transport their \r\n",
        "astounding show, but now they use two.\"\"\"\r\n",
        "inputs = tokenizer.encode(\"summarize: \" + ARTICLE, return_tensors=\"pt\", truncation=True, max_length=512)\r\n",
        "outputs = model.generate(inputs, max_length=150, min_length=40, num_beams=4, length_penalty=2.0, early_stopping=True)\r\n",
        "print(\"Your summary: \")\r\n",
        "print(tokenizer.decode(outputs[0]))"
      ],
      "execution_count": null,
      "outputs": [
        {
          "output_type": "stream",
          "text": [
            "Your summary: \n",
            "<pad> used the circus train to transport their show to large cities. made their show bigger and better. still use the circus train to transport their show to large cities. still use the circus train to transport their show to large cities.</s>\n"
          ],
          "name": "stdout"
        }
      ]
    },
    {
      "cell_type": "code",
      "metadata": {
        "id": "HkARp9mM1sOD"
      },
      "source": [
        "!pip install ohmeow-blurr -q\r\n",
        "!pip install datasets -q"
      ],
      "execution_count": null,
      "outputs": []
    },
    {
      "cell_type": "code",
      "metadata": {
        "id": "wVZgetBW1uHa"
      },
      "source": [
        "!pip install bert-score -q"
      ],
      "execution_count": null,
      "outputs": []
    },
    {
      "cell_type": "code",
      "metadata": {
        "colab": {
          "base_uri": "https://localhost:8080/"
        },
        "id": "yIiDutbU1vh4",
        "outputId": "547ce9dc-32b0-40ca-cc90-0a5d3d25dbe1"
      },
      "source": [
        "import datasets\r\n",
        "import pandas as pd\r\n",
        "import seaborn as sns\r\n",
        "from fastai.text.all import *\r\n",
        "from transformers import *\r\n",
        "\r\n",
        "from blurr.data.all import *\r\n",
        "from blurr.modeling.all import *"
      ],
      "execution_count": null,
      "outputs": [
        {
          "output_type": "stream",
          "text": [
            "[nltk_data] Downloading package wordnet to /root/nltk_data...\n",
            "[nltk_data]   Package wordnet is already up-to-date!\n"
          ],
          "name": "stdout"
        }
      ]
    },
    {
      "cell_type": "code",
      "metadata": {
        "colab": {
          "base_uri": "https://localhost:8080/"
        },
        "id": "G73Tls2J1y8a",
        "outputId": "bb2430fb-efb3-4716-b023-0fd820d40116"
      },
      "source": [
        "# using a subset of the training set to build both training and validation DataLoaders; https://huggingface.co/docs/datasets/splits.html\r\n",
        "\r\n",
        "raw_data = datasets.load_dataset('reddit_tifu','long',split='train[:100%]')"
      ],
      "execution_count": null,
      "outputs": [
        {
          "output_type": "stream",
          "text": [
            "Reusing dataset reddit_tifu (/root/.cache/huggingface/datasets/reddit_tifu/long/1.1.0/c383d53c57bebbb2972419fc23c3f58639c7f9074004ef1c49c1c0bcfa2218a3)\n"
          ],
          "name": "stderr"
        }
      ]
    },
    {
      "cell_type": "code",
      "metadata": {
        "colab": {
          "base_uri": "https://localhost:8080/",
          "height": 835
        },
        "id": "NzutP6SB1zoP",
        "outputId": "614e5789-b89b-4683-f53d-a7d17cdd5d37"
      },
      "source": [
        "#showing an example of dataset\r\n",
        "df = pd.DataFrame(raw_data)\r\n",
        "df.head(5)"
      ],
      "execution_count": null,
      "outputs": [
        {
          "output_type": "execute_result",
          "data": {
            "text/html": [
              "<div>\n",
              "<style scoped>\n",
              "    .dataframe tbody tr th:only-of-type {\n",
              "        vertical-align: middle;\n",
              "    }\n",
              "\n",
              "    .dataframe tbody tr th {\n",
              "        vertical-align: top;\n",
              "    }\n",
              "\n",
              "    .dataframe thead th {\n",
              "        text-align: right;\n",
              "    }\n",
              "</style>\n",
              "<table border=\"1\" class=\"dataframe\">\n",
              "  <thead>\n",
              "    <tr style=\"text-align: right;\">\n",
              "      <th></th>\n",
              "      <th>documents</th>\n",
              "      <th>num_comments</th>\n",
              "      <th>score</th>\n",
              "      <th>title</th>\n",
              "      <th>tldr</th>\n",
              "      <th>ups</th>\n",
              "      <th>upvote_ratio</th>\n",
              "    </tr>\n",
              "  </thead>\n",
              "  <tbody>\n",
              "    <tr>\n",
              "      <th>0</th>\n",
              "      <td>this actually happened a couple of years ago. i grew up in germany where i went to a german secondary school that went from 5th to 13th grade (we still had 13 grades then, they have since changed that). my school was named after anne frank and we had a club that i was very active in from 9th grade on, which was dedicated to teaching incoming 5th graders about anne franks life, discrimination, anti-semitism, hitler, the third reich and that whole spiel. basically a day where the students' classes are cancelled and instead we give them an interactive history and social studies class with lot...</td>\n",
              "      <td>23.0</td>\n",
              "      <td>115.0</td>\n",
              "      <td>gender-stereotyping</td>\n",
              "      <td>confuse a 5th grade girl for a boy in front of half of her class. kids are mean. sorry sandra.**</td>\n",
              "      <td>115.0</td>\n",
              "      <td>0.88</td>\n",
              "    </tr>\n",
              "    <tr>\n",
              "      <th>1</th>\n",
              "      <td>it was last october, but i'm feeling the fall-out from it the most today.  \\n\\nafter my mom died from cancer last year, i started looking for my estranged father.  i had only known him for a short time when i was 6 and barely remembered more than his name.  i never knew why he left and my mom would not talk about him without obvious emotional pain, so i didn't push her for information about him.  i figured he didn't care about us.\\n\\ni had googled him multiple times over the years, but he was always unlisted and i didn't have an address with which to search.  after her death, i felt strong...</td>\n",
              "      <td>12.0</td>\n",
              "      <td>16.0</td>\n",
              "      <td>telling my dad that i love him.</td>\n",
              "      <td>i found my estranged dad, thought i loved him after getting to know him, got to know him better and changed my mind.</td>\n",
              "      <td>16.0</td>\n",
              "      <td>0.79</td>\n",
              "    </tr>\n",
              "    <tr>\n",
              "      <th>2</th>\n",
              "      <td>so i had the brilliant idea to use veet hair removal gel as the ol' danglies were in need of a trim and i had heard that veet leaves them smoother for longer. well i guess thats right when the skin has to grow back first. \\n\\npre-story: i tried this before and the results were great but i had decided to do it again because of how well it worked. \\n\\nso i take out the gel/cream stuff and just lob it on and cover the forest. the slight peroxide kinda smell ensued and all was going well, there was a slight burning but thats to be expected, you know, melting pubes off does that. so comes the a...</td>\n",
              "      <td>10.0</td>\n",
              "      <td>55.0</td>\n",
              "      <td>i was deveeted...</td>\n",
              "      <td>had my balls burned by sauron and was left deveeted.</td>\n",
              "      <td>55.0</td>\n",
              "      <td>0.85</td>\n",
              "    </tr>\n",
              "    <tr>\n",
              "      <th>3</th>\n",
              "      <td>today i was going to have a bath after a long day of painting kids faces at a carnival. all would go well, except being the genius i am, i put in some epsom salts (i always do for my bath), and i grabbed my bottle of peppermint essential oil.\\n\\n lately, i've been on a diy-pinterest-tumblr-let's-make-my-own-shit-and-be-fancy spree. the other day i took a 'detox bath' (fyi did nothing for me guys. uselessss). so, my brain totally went 'hey, trajectorys, put some peppermint in! it's good for your skin!' okay brain!\\n\\nso, instead of logically putting in like... 5 drops so it's nice and minty...</td>\n",
              "      <td>20.0</td>\n",
              "      <td>90.0</td>\n",
              "      <td>wanting a pepperminty bath.</td>\n",
              "      <td>peppermint + bath = burning cold ladybits.</td>\n",
              "      <td>90.0</td>\n",
              "      <td>0.92</td>\n",
              "    </tr>\n",
              "    <tr>\n",
              "      <th>4</th>\n",
              "      <td>i haven't had a bath in practically years so, after finally moving into a house with a bath, i decide to have one. having recently purchased a shiny new bag of weed, i thought combining the two would be a good idea.\\n\\npicture this; a very cramped bathroom, no windows, a shitty extractor fan, closed door, steaming hot bath and a spliff. as i lay there gently swishing to and fro, giggling like a little school girl, i neglected to notice how hot the room was becoming. \\n\\nafter a while i looked up and realised i could barely even see the taps in front of me. naturally, i begin to panic and s...</td>\n",
              "      <td>18.0</td>\n",
              "      <td>81.0</td>\n",
              "      <td>having a spliff in the bath.</td>\n",
              "      <td>got too high and too hot in the bath, almost cooked myself like a lobster.</td>\n",
              "      <td>81.0</td>\n",
              "      <td>0.79</td>\n",
              "    </tr>\n",
              "  </tbody>\n",
              "</table>\n",
              "</div>"
            ],
            "text/plain": [
              "                                                                                                                                                                                                                                                                                                                                                                                                                                                                                                                                                                                                                 documents  ...  upvote_ratio\n",
              "0  this actually happened a couple of years ago. i grew up in germany where i went to a german secondary school that went from 5th to 13th grade (we still had 13 grades then, they have since changed that). my school was named after anne frank and we had a club that i was very active in from 9th grade on, which was dedicated to teaching incoming 5th graders about anne franks life, discrimination, anti-semitism, hitler, the third reich and that whole spiel. basically a day where the students' classes are cancelled and instead we give them an interactive history and social studies class with lot...  ...          0.88\n",
              "1  it was last october, but i'm feeling the fall-out from it the most today.  \\n\\nafter my mom died from cancer last year, i started looking for my estranged father.  i had only known him for a short time when i was 6 and barely remembered more than his name.  i never knew why he left and my mom would not talk about him without obvious emotional pain, so i didn't push her for information about him.  i figured he didn't care about us.\\n\\ni had googled him multiple times over the years, but he was always unlisted and i didn't have an address with which to search.  after her death, i felt strong...  ...          0.79\n",
              "2  so i had the brilliant idea to use veet hair removal gel as the ol' danglies were in need of a trim and i had heard that veet leaves them smoother for longer. well i guess thats right when the skin has to grow back first. \\n\\npre-story: i tried this before and the results were great but i had decided to do it again because of how well it worked. \\n\\nso i take out the gel/cream stuff and just lob it on and cover the forest. the slight peroxide kinda smell ensued and all was going well, there was a slight burning but thats to be expected, you know, melting pubes off does that. so comes the a...  ...          0.85\n",
              "3  today i was going to have a bath after a long day of painting kids faces at a carnival. all would go well, except being the genius i am, i put in some epsom salts (i always do for my bath), and i grabbed my bottle of peppermint essential oil.\\n\\n lately, i've been on a diy-pinterest-tumblr-let's-make-my-own-shit-and-be-fancy spree. the other day i took a 'detox bath' (fyi did nothing for me guys. uselessss). so, my brain totally went 'hey, trajectorys, put some peppermint in! it's good for your skin!' okay brain!\\n\\nso, instead of logically putting in like... 5 drops so it's nice and minty...  ...          0.92\n",
              "4  i haven't had a bath in practically years so, after finally moving into a house with a bath, i decide to have one. having recently purchased a shiny new bag of weed, i thought combining the two would be a good idea.\\n\\npicture this; a very cramped bathroom, no windows, a shitty extractor fan, closed door, steaming hot bath and a spliff. as i lay there gently swishing to and fro, giggling like a little school girl, i neglected to notice how hot the room was becoming. \\n\\nafter a while i looked up and realised i could barely even see the taps in front of me. naturally, i begin to panic and s...  ...          0.79\n",
              "\n",
              "[5 rows x 7 columns]"
            ]
          },
          "metadata": {
            "tags": []
          },
          "execution_count": 11
        }
      ]
    },
    {
      "cell_type": "code",
      "metadata": {
        "id": "lGw9DIcp11TI"
      },
      "source": [
        "#removing special characters from the summaries in the dataset.\r\n",
        "df.tldr = df.tldr.str.replace('[#,@,&,!,$,%,^,&,*]', '')"
      ],
      "execution_count": null,
      "outputs": []
    },
    {
      "cell_type": "code",
      "metadata": {
        "colab": {
          "base_uri": "https://localhost:8080/"
        },
        "id": "bXK9a2SO13A_",
        "outputId": "8815d72e-d444-4b31-c0ad-362de4f5c055"
      },
      "source": [
        "#dataset dimensions before preprocessing.\r\n",
        "print(\"our data set has {} rows and {} columns\".format(df.shape[0],df.shape[1]))\r\n",
        "print(\"The {} feature is our target feature and we are summarizing text from {} column.\".format(df.columns[4],df.columns[0]))\r\n",
        "#raw_data.shape"
      ],
      "execution_count": null,
      "outputs": [
        {
          "output_type": "stream",
          "text": [
            "our data set has 4214 rows and 7 columns\n",
            "The tldr feature is our target feature and we are summarizing text from documents column.\n"
          ],
          "name": "stdout"
        }
      ]
    },
    {
      "cell_type": "code",
      "metadata": {
        "colab": {
          "base_uri": "https://localhost:8080/",
          "height": 282
        },
        "id": "RFbTSCs014kH",
        "outputId": "8f723545-b091-40ad-eadb-3fa9c6c6dd78"
      },
      "source": [
        "df['totalwords'] = df['tldr'].str.split().str.len()\r\n",
        "df[\"totalwords\"].plot(kind=\"hist\")"
      ],
      "execution_count": null,
      "outputs": [
        {
          "output_type": "execute_result",
          "data": {
            "text/plain": [
              "<matplotlib.axes._subplots.AxesSubplot at 0x7fa1fc69a990>"
            ]
          },
          "metadata": {
            "tags": []
          },
          "execution_count": 14
        },
        {
          "output_type": "display_data",
          "data": {
            "image/png": "[encoded data removed]",
            "text/plain": [
              "<Figure size 432x288 with 1 Axes>"
            ]
          },
          "metadata": {
            "tags": [],
            "needs_background": "light"
          }
        }
      ]
    },
    {
      "cell_type": "code",
      "metadata": {
        "colab": {
          "base_uri": "https://localhost:8080/"
        },
        "id": "mEQIfx8m16DQ",
        "outputId": "0d05ac2a-05d7-4aff-813e-20ad27bbdcd4"
      },
      "source": [
        "print(\"The longest sentence in the summaries have {} words.\".format(df.totalwords.max()))"
      ],
      "execution_count": null,
      "outputs": [
        {
          "output_type": "stream",
          "text": [
            "The longest sentence in the summaries have 180 words.\n"
          ],
          "name": "stdout"
        }
      ]
    },
    {
      "cell_type": "code",
      "metadata": {
        "colab": {
          "base_uri": "https://localhost:8080/",
          "height": 648
        },
        "id": "Oy2Z0hi717oK",
        "outputId": "22b20ebc-d3ae-418b-9c5e-fc3ef7c4d46b"
      },
      "source": [
        "#bar plot showing the total number of words with the coressponding number of summarized sentences.\r\n",
        "grouping =df.groupby(\"totalwords\")\r\n",
        "y = grouping.tldr.count()\r\n",
        "yplt =y.plot(kind=\"bar\",figsize=(16,10),colormap=\"gist_rainbow_r\",title=\"total number of words with the coressponding number of summarized sentences\")\r\n",
        "yplt.set_ylabel(\"number of summarized sentences\")"
      ],
      "execution_count": null,
      "outputs": [
        {
          "output_type": "execute_result",
          "data": {
            "text/plain": [
              "Text(0, 0.5, 'number of summarized sentences')"
            ]
          },
          "metadata": {
            "tags": []
          },
          "execution_count": 16
        },
        {
          "output_type": "display_data",
          "data": {
            "image/png": "[encoded data removed]",
            "text/plain": [
              "<Figure size 1152x720 with 1 Axes>"
            ]
          },
          "metadata": {
            "tags": [],
            "needs_background": "light"
          }
        }
      ]
    },
    {
      "cell_type": "code",
      "metadata": {
        "id": "gJSDLVOU19Wy"
      },
      "source": [
        "#filter the dataset with target features having total words less than 31 \r\n",
        "df = df[df.tldr.str.split().str.len() < 25]"
      ],
      "execution_count": null,
      "outputs": []
    },
    {
      "cell_type": "code",
      "metadata": {
        "id": "GsW3vYTv2Awg"
      },
      "source": [
        "#filter the dataset with target features having total words more than 21\r\n",
        "df = df[df.tldr.str.split().str.len() > 16]"
      ],
      "execution_count": null,
      "outputs": []
    },
    {
      "cell_type": "code",
      "metadata": {
        "colab": {
          "base_uri": "https://localhost:8080/",
          "height": 424
        },
        "id": "Jpjg1HyT2CSd",
        "outputId": "1f242463-df04-41c0-f914-5fee5c70af69"
      },
      "source": [
        "#bar plot showing the total number of words with the coressponding number of summarized sentences after removing outliers.\r\n",
        "grouping =df.groupby(\"totalwords\")\r\n",
        "y = grouping.tldr.count()\r\n",
        "yplt =y.plot(kind=\"bar\",figsize=(8,6),colormap=\"gist_rainbow_r\",title=\"total number of words with the coressponding number of summarized sentences\")\r\n",
        "yplt.set_ylabel(\"number of summarized sentences\")"
      ],
      "execution_count": null,
      "outputs": [
        {
          "output_type": "execute_result",
          "data": {
            "text/plain": [
              "Text(0, 0.5, 'number of summarized sentences')"
            ]
          },
          "metadata": {
            "tags": []
          },
          "execution_count": 19
        },
        {
          "output_type": "display_data",
          "data": {
            "image/png": "[encoded data removed]",
            "text/plain": [
              "<Figure size 576x432 with 1 Axes>"
            ]
          },
          "metadata": {
            "tags": [],
            "needs_background": "light"
          }
        }
      ]
    },
    {
      "cell_type": "code",
      "metadata": {
        "colab": {
          "base_uri": "https://localhost:8080/"
        },
        "id": "ESyy7VAY2FJY",
        "outputId": "6b21dc26-5547-4154-ddfe-4c5fc66f28a0"
      },
      "source": [
        "print(\"our data set now has {} rows and {} columns after removing outliers.\".format(df.shape[0],df.shape[1]))"
      ],
      "execution_count": null,
      "outputs": [
        {
          "output_type": "stream",
          "text": [
            "our data set now has 1139 rows and 8 columns after removing outliers.\n"
          ],
          "name": "stdout"
        }
      ]
    },
    {
      "cell_type": "code",
      "metadata": {
        "colab": {
          "base_uri": "https://localhost:8080/"
        },
        "id": "p4jSyCbe2HBj",
        "outputId": "729efb2d-c7d3-4c55-9498-daaeb10646c4"
      },
      "source": [
        "#example of a given summary\r\n",
        "print(\"Summarization example: \\n{}\".format(df['tldr'].iloc[2]))"
      ],
      "execution_count": null,
      "outputs": [
        {
          "output_type": "stream",
          "text": [
            "Summarization example: \n",
            "tried to microwave french fries and stuck my finger into a franken-fuck of pain causing first degree burns\n"
          ],
          "name": "stdout"
        }
      ]
    },
    {
      "cell_type": "code",
      "metadata": {
        "colab": {
          "base_uri": "https://localhost:8080/"
        },
        "id": "SWfGevBr2I8R",
        "outputId": "cb7f7356-f918-45f2-97a1-7419637a132e"
      },
      "source": [
        "#checking if our target feature having any empty strings\r\n",
        "list(df[df['tldr'] == ''].index)"
      ],
      "execution_count": null,
      "outputs": [
        {
          "output_type": "execute_result",
          "data": {
            "text/plain": [
              "[]"
            ]
          },
          "metadata": {
            "tags": []
          },
          "execution_count": 22
        }
      ]
    },
    {
      "cell_type": "code",
      "metadata": {
        "colab": {
          "base_uri": "https://localhost:8080/"
        },
        "id": "CkKRITHM2KQJ",
        "outputId": "daa36040-67d0-4991-9c40-2e4926f9c835"
      },
      "source": [
        "df['tldr']"
      ],
      "execution_count": null,
      "outputs": [
        {
          "output_type": "execute_result",
          "data": {
            "text/plain": [
              "0                           confuse a 5th grade girl for a boy in front of half of her class. kids are mean. sorry sandra.\n",
              "1       i found my estranged dad thought i loved him after getting to know him got to know him better and changed my mind.\n",
              "6               tried to microwave french fries and stuck my finger into a franken-fuck of pain causing first degree burns\n",
              "10                    lost my virginity on someones driveway with a girl i didn't give a shit about and peed in her mouth.\n",
              "12                                       i told my sister i came on my mother last night because of a song she was singing\n",
              "                                                               ...                                                        \n",
              "4200              tried pranking my friends by turning up the heat in the sauna to wake them up to the heat. it backfired.\n",
              "4201          i laughed at a porn joke that i shouldn't have gotten without reference and got strange looks from my class.\n",
              "4205                               left rugby on my tv little brother misconveyed it to family who think i watch gay porn.\n",
              "4209                added some dark humor to a shitty joke and got reported for it because a coworker didn't like my joke.\n",
              "4212                told my gf macbook is also weighing machine  she stood on it and broke it i have to get a replacement.\n",
              "Name: tldr, Length: 1139, dtype: object"
            ]
          },
          "metadata": {
            "tags": []
          },
          "execution_count": 23
        }
      ]
    },
    {
      "cell_type": "code",
      "metadata": {
        "colab": {
          "base_uri": "https://localhost:8080/"
        },
        "id": "bhoOMrc72L4p",
        "outputId": "0c7f6027-c57d-42c9-ae16-37e045645540"
      },
      "source": [
        "#df[\"totalwords\"].mean()\r\n",
        "#df[\"number_of_words\"].max() \r\n",
        "print(\"The minmum number of words in a summary is {}\".format(df[\"totalwords\"].min()))\r\n",
        "print(\"The maximum number of words in a summary is {}\".format(df[\"totalwords\"].max()))\r\n",
        "print(\"The avarege number of words in a summary is {}\".format(df[\"totalwords\"].mean()))"
      ],
      "execution_count": null,
      "outputs": [
        {
          "output_type": "stream",
          "text": [
            "The minmum number of words in a summary is 17\n",
            "The maximum number of words in a summary is 24\n",
            "The avarege number of words in a summary is 20.08340649692713\n"
          ],
          "name": "stdout"
        }
      ]
    },
    {
      "cell_type": "code",
      "metadata": {
        "colab": {
          "base_uri": "https://localhost:8080/"
        },
        "id": "1u6oype72QjI",
        "outputId": "5c31d97f-2131-426e-d069-a6000f90ffa2"
      },
      "source": [
        "#getting the required objects (the architecture, tokenizer, config, and model, using get_hf_objects helper method\r\n",
        "pretrained_model_name = \"google/pegasus-large\"\r\n",
        "hf_arch, hf_config, hf_tokenizer, hf_model = BLURR_MODEL_HELPER.get_hf_objects(pretrained_model_name, \r\n",
        "                                                                               model_cls=PegasusForConditionalGeneration)\r\n",
        "\r\n",
        "hf_arch, type(hf_config), type(hf_tokenizer), type(hf_model)"
      ],
      "execution_count": null,
      "outputs": [
        {
          "output_type": "execute_result",
          "data": {
            "text/plain": [
              "('pegasus',\n",
              " transformers.models.pegasus.configuration_pegasus.PegasusConfig,\n",
              " transformers.models.pegasus.tokenization_pegasus_fast.PegasusTokenizerFast,\n",
              " transformers.models.pegasus.modeling_pegasus.PegasusForConditionalGeneration)"
            ]
          },
          "metadata": {
            "tags": []
          },
          "execution_count": 25
        }
      ]
    },
    {
      "cell_type": "code",
      "metadata": {
        "colab": {
          "base_uri": "https://localhost:8080/"
        },
        "id": "AWi-o29p2SEZ",
        "outputId": "06a3e07f-f439-4b5d-f91b-52d77b3b34a4"
      },
      "source": [
        "#parameters dict generation with the default values \r\n",
        "text_gen_kwargs = default_text_gen_kwargs(hf_config, hf_model, task='summarization')\r\n",
        "text_gen_kwargs"
      ],
      "execution_count": null,
      "outputs": [
        {
          "output_type": "execute_result",
          "data": {
            "text/plain": [
              "{'bad_words_ids': None,\n",
              " 'bos_token_id': 0,\n",
              " 'decoder_start_token_id': 0,\n",
              " 'diversity_penalty': 0.0,\n",
              " 'do_sample': False,\n",
              " 'early_stopping': False,\n",
              " 'encoder_no_repeat_ngram_size': 0,\n",
              " 'eos_token_id': 1,\n",
              " 'length_penalty': 0.6,\n",
              " 'max_length': 128,\n",
              " 'min_length': 32,\n",
              " 'no_repeat_ngram_size': 0,\n",
              " 'num_beam_groups': 1,\n",
              " 'num_beams': 8,\n",
              " 'num_return_sequences': 1,\n",
              " 'output_attentions': False,\n",
              " 'output_hidden_states': False,\n",
              " 'output_scores': False,\n",
              " 'pad_token_id': 0,\n",
              " 'repetition_penalty': 1.0,\n",
              " 'return_dict_in_generate': False,\n",
              " 'temperature': 1.0,\n",
              " 'top_k': 50,\n",
              " 'top_p': 1.0,\n",
              " 'use_cache': True}"
            ]
          },
          "metadata": {
            "tags": []
          },
          "execution_count": 26
        }
      ]
    },
    {
      "cell_type": "code",
      "metadata": {
        "id": "JXBzKxvj2UpB"
      },
      "source": [
        "#customizing the text generation by changing values in text_gen_kwargs\r\n",
        "hf_batch_tfm = HF_Seq2SeqBeforeBatchTransform(hf_arch, hf_config, hf_tokenizer, hf_model, \r\n",
        "                                              max_length=256, max_tgt_length=128, text_gen_kwargs= \r\n",
        "{'bad_words_ids': None,\r\n",
        " 'bos_token_id': 0,\r\n",
        " 'decoder_start_token_id': 0,\r\n",
        "\r\n",
        " 'diversity_penalty': 0.0,\r\n",
        " 'do_sample': False,\r\n",
        " 'early_stopping': True,\r\n",
        " 'eos_token_id': 1,\r\n",
        " 'length_penalty': 0.6,\r\n",
        " 'max_length': 128,\r\n",
        " 'min_length': 32,\r\n",
        " 'no_repeat_ngram_size': 0,\r\n",
        " 'num_beam_groups': 1,\r\n",
        " 'num_beams': 8,\r\n",
        " 'num_return_sequences': 1,\r\n",
        " 'output_attentions': False,\r\n",
        " 'output_hidden_states': False,\r\n",
        " 'output_scores': False,\r\n",
        " 'pad_token_id': 0,\r\n",
        " 'repetition_penalty': 1.0,\r\n",
        " 'return_dict_in_generate': False,\r\n",
        " 'temperature': 1.0,\r\n",
        " 'top_k': 50,\r\n",
        " 'top_p': 1.0,\r\n",
        " 'use_cache': True})\r\n",
        "\r\n",
        "blocks = (HF_Seq2SeqBlock(before_batch_tfm=hf_batch_tfm), noop)\r\n",
        "#change article to document and change highlights to sumamry\r\n",
        "dblock = DataBlock(blocks=blocks, get_x=ColReader('documents'), get_y=ColReader('tldr'), splitter=RandomSplitter())\r\n",
        "\r\n",
        "\r\n"
      ],
      "execution_count": null,
      "outputs": []
    },
    {
      "cell_type": "code",
      "metadata": {
        "id": "E4GfQ4St2X2a"
      },
      "source": [
        "dls = dblock.dataloaders(df, bs=2)"
      ],
      "execution_count": null,
      "outputs": []
    },
    {
      "cell_type": "code",
      "metadata": {
        "colab": {
          "base_uri": "https://localhost:8080/"
        },
        "id": "cESzFEVz2ZRb",
        "outputId": "8c7ced36-81e4-413c-c7e7-904a3a256e2e"
      },
      "source": [
        "len(dls.train.items), len(dls.valid.items)"
      ],
      "execution_count": null,
      "outputs": [
        {
          "output_type": "execute_result",
          "data": {
            "text/plain": [
              "(912, 227)"
            ]
          },
          "metadata": {
            "tags": []
          },
          "execution_count": 29
        }
      ]
    },
    {
      "cell_type": "code",
      "metadata": {
        "colab": {
          "base_uri": "https://localhost:8080/"
        },
        "id": "SKR1eoWc2axB",
        "outputId": "f1160f24-0367-4c38-d89e-d1e2e79e3cba"
      },
      "source": [
        "#batch shape\r\n",
        "b = dls.one_batch()\r\n",
        "len(b), b[0]['input_ids'].shape, b[1].shape"
      ],
      "execution_count": null,
      "outputs": [
        {
          "output_type": "execute_result",
          "data": {
            "text/plain": [
              "(2, torch.Size([2, 256]), torch.Size([2, 33]))"
            ]
          },
          "metadata": {
            "tags": []
          },
          "execution_count": 30
        }
      ]
    },
    {
      "cell_type": "code",
      "metadata": {
        "colab": {
          "base_uri": "https://localhost:8080/",
          "height": 350
        },
        "id": "CClNYZ3r2bYJ",
        "outputId": "a3a5001f-8f33-45a6-aae6-45d644f23d1d"
      },
      "source": [
        "dls.show_batch(dataloaders=dls, max_n=2)"
      ],
      "execution_count": null,
      "outputs": [
        {
          "output_type": "display_data",
          "data": {
            "text/html": [
              "<table border=\"1\" class=\"dataframe\">\n",
              "  <thead>\n",
              "    <tr style=\"text-align: right;\">\n",
              "      <th></th>\n",
              "      <th>text</th>\n",
              "      <th>target</th>\n",
              "    </tr>\n",
              "  </thead>\n",
              "  <tbody>\n",
              "    <tr>\n",
              "      <th>0</th>\n",
              "      <td>preface: a bit of a read, but well worth it if you have the time. i pray that this fate never befalls any of you. edit: \"eight-pumped\" is a term i made up to describe a sexual act consisting of a mere eight strokes. sorry about any potential confusion. the horrible misadventures of thedoctorg20 and gatsby: part one so everything was pretty normal today, just hanging out after attending my first class and waiting for my next to start at 4. as i sat there in my siberian husky boxers (every man should own a pair) and contemplated life while watching nicholas snooze the day away (he is an adorable sleeper, you're not the police of me) my phone vibrates and i peer over my shoulder to see who it was. [name withheld] had texted me! we had been talking for a couple of days and the night previous i had convinced her to send me some racy pictures so she obviously found it troublesome to contain the sexual beast that i had unleashed inside of her. she wanted to visit me and i could naught but oblige.... i'll take this moment to explain my genitalia. i named it gatsby for the purpose of this</td>\n",
              "      <td>i eight-pumped a horny co-ed to shut her up she bursts into tears and then apologizes for it. the ass was fat.</td>\n",
              "    </tr>\n",
              "    <tr>\n",
              "      <th>1</th>\n",
              "      <td>so, yeah... this is a throw away and my first post to tifu. this happened... well, has been happening since yesterday. tifu by telling my brothers crazy girlfriend she was full of shit and abusing my brother, so she went to the police. now i can't contact my brother. background: i'm a medical professional and am well respected in my community. i live in one city a few hundred miles away from my home town. the girlfriend and i were visiting home for christmas when my father expressed concern to me about my brothers living situation. my brother has autism and he's just a year or so younger than me, but he's never done well for himself like i have. he hooked up with this insane chick about 3 years ago and we've done our best to be warm and welcome her and her schizophrenic 8 year old into our collective family. she's got a long history of being a pathological liar and manipulator. she's a classy broad. my brother and her were going to get married, until they realized it would cut their welfare, so they had a \"spiritual wedding\" without any legal changes. recently it has become clear this is an abusive relationship and she's taking advantage of my brother and using</td>\n",
              "      <td>i did my best and it wasn't perfect or graceful. thanks to everyone who was kind and understanding during this very difficult time.</td>\n",
              "    </tr>\n",
              "  </tbody>\n",
              "</table>"
            ],
            "text/plain": [
              "<IPython.core.display.HTML object>"
            ]
          },
          "metadata": {
            "tags": []
          }
        }
      ]
    },
    {
      "cell_type": "code",
      "metadata": {
        "id": "wlRIT8xM2czo"
      },
      "source": [
        "seq2seq_metrics = {\r\n",
        "        'rouge': {\r\n",
        "            'compute_kwargs': { 'rouge_types': [\"rouge1\", \"rouge2\", \"rougeL\"], 'use_stemmer': True },\r\n",
        "            'returns': [\"rouge1\", \"rouge2\", \"rougeL\"]\r\n",
        "       \r\n",
        "        }\r\n",
        "    }"
      ],
      "execution_count": null,
      "outputs": []
    },
    {
      "cell_type": "code",
      "metadata": {
        "id": "LXZBRIa92eXA"
      },
      "source": [
        "model = HF_BaseModelWrapper(hf_model)\r\n",
        "learn_cbs = [HF_BaseModelCallback]\r\n",
        "fit_cbs = [HF_Seq2SeqMetricsCallback(custom_metrics=seq2seq_metrics)]\r\n",
        "\r\n",
        "learn = Learner(dls, \r\n",
        "                model,\r\n",
        "                opt_func=ranger,\r\n",
        "                loss_func=CrossEntropyLossFlat(),\r\n",
        "                cbs=learn_cbs,\r\n",
        "                splitter=partial(seq2seq_splitter, arch=hf_arch)).to_fp16()\r\n",
        "\r\n",
        "learn.create_opt() \r\n",
        "learn.freeze()"
      ],
      "execution_count": null,
      "outputs": []
    },
    {
      "cell_type": "code",
      "metadata": {
        "colab": {
          "base_uri": "https://localhost:8080/",
          "height": 301
        },
        "id": "x16KGcQx2gCA",
        "outputId": "5b8ba8d4-b4ab-46e0-a3f2-cfe0bb1a6186"
      },
      "source": [
        "learn.lr_find(suggestions=True)"
      ],
      "execution_count": null,
      "outputs": [
        {
          "output_type": "display_data",
          "data": {
            "text/html": [
              ""
            ],
            "text/plain": [
              "<IPython.core.display.HTML object>"
            ]
          },
          "metadata": {
            "tags": []
          }
        },
        {
          "output_type": "execute_result",
          "data": {
            "text/plain": [
              "SuggestedLRs(lr_min=0.006918309628963471, lr_steep=0.05754399299621582)"
            ]
          },
          "metadata": {
            "tags": []
          },
          "execution_count": 34
        },
        {
          "output_type": "display_data",
          "data": {
            "image/png": "[encoded data removed]",
            "text/plain": [
              "<Figure size 432x288 with 1 Axes>"
            ]
          },
          "metadata": {
            "tags": [],
            "needs_background": "light"
          }
        }
      ]
    },
    {
      "cell_type": "code",
      "metadata": {
        "colab": {
          "base_uri": "https://localhost:8080/"
        },
        "id": "zhVfCHGL2hfJ",
        "outputId": "df162215-283c-4d47-eef3-0ef5aea8ecae"
      },
      "source": [
        "#running a batch to the model and output the shape\r\n",
        "b = dls.one_batch()\r\n",
        "preds = learn.model(b[0])\r\n",
        "len(preds),preds[0], preds[1].shape"
      ],
      "execution_count": null,
      "outputs": [
        {
          "output_type": "execute_result",
          "data": {
            "text/plain": [
              "(4,\n",
              " tensor(4.7215, device='cuda:0', grad_fn=<NllLossBackward>),\n",
              " torch.Size([2, 33, 96103]))"
            ]
          },
          "metadata": {
            "tags": []
          },
          "execution_count": 35
        }
      ]
    },
    {
      "cell_type": "code",
      "metadata": {
        "colab": {
          "base_uri": "https://localhost:8080/",
          "height": 1000
        },
        "id": "i5c-2irg2jAh",
        "outputId": "13f241e0-03ef-42e6-f5d0-924badf42b71"
      },
      "source": [
        "learn.fit_one_cycle(100, lr_max=3e-6, cbs=fit_cbs)"
      ],
      "execution_count": null,
      "outputs": [
        {
          "output_type": "display_data",
          "data": {
            "text/html": [
              "<table border=\"1\" class=\"dataframe\">\n",
              "  <thead>\n",
              "    <tr style=\"text-align: left;\">\n",
              "      <th>epoch</th>\n",
              "      <th>train_loss</th>\n",
              "      <th>valid_loss</th>\n",
              "      <th>rouge1</th>\n",
              "      <th>rouge2</th>\n",
              "      <th>rougeL</th>\n",
              "      <th>time</th>\n",
              "    </tr>\n",
              "  </thead>\n",
              "  <tbody>\n",
              "    <tr>\n",
              "      <td>0</td>\n",
              "      <td>4.063241</td>\n",
              "      <td>3.416752</td>\n",
              "      <td>0.298589</td>\n",
              "      <td>0.097162</td>\n",
              "      <td>0.233383</td>\n",
              "      <td>04:28</td>\n",
              "    </tr>\n",
              "    <tr>\n",
              "      <td>1</td>\n",
              "      <td>4.142364</td>\n",
              "      <td>3.413149</td>\n",
              "      <td>0.301218</td>\n",
              "      <td>0.098430</td>\n",
              "      <td>0.234302</td>\n",
              "      <td>04:27</td>\n",
              "    </tr>\n",
              "    <tr>\n",
              "      <td>2</td>\n",
              "      <td>4.053259</td>\n",
              "      <td>3.408268</td>\n",
              "      <td>0.300892</td>\n",
              "      <td>0.097921</td>\n",
              "      <td>0.233647</td>\n",
              "      <td>04:27</td>\n",
              "    </tr>\n",
              "    <tr>\n",
              "      <td>3</td>\n",
              "      <td>3.829975</td>\n",
              "      <td>3.402395</td>\n",
              "      <td>0.299959</td>\n",
              "      <td>0.098445</td>\n",
              "      <td>0.233173</td>\n",
              "      <td>04:26</td>\n",
              "    </tr>\n",
              "    <tr>\n",
              "      <td>4</td>\n",
              "      <td>3.962627</td>\n",
              "      <td>3.394458</td>\n",
              "      <td>0.301285</td>\n",
              "      <td>0.096945</td>\n",
              "      <td>0.234147</td>\n",
              "      <td>04:28</td>\n",
              "    </tr>\n",
              "    <tr>\n",
              "      <td>5</td>\n",
              "      <td>4.087235</td>\n",
              "      <td>3.385058</td>\n",
              "      <td>0.303886</td>\n",
              "      <td>0.098994</td>\n",
              "      <td>0.237349</td>\n",
              "      <td>04:29</td>\n",
              "    </tr>\n",
              "    <tr>\n",
              "      <td>6</td>\n",
              "      <td>3.862992</td>\n",
              "      <td>3.374081</td>\n",
              "      <td>0.303648</td>\n",
              "      <td>0.099277</td>\n",
              "      <td>0.236040</td>\n",
              "      <td>04:30</td>\n",
              "    </tr>\n",
              "    <tr>\n",
              "      <td>7</td>\n",
              "      <td>3.915909</td>\n",
              "      <td>3.361834</td>\n",
              "      <td>0.302259</td>\n",
              "      <td>0.099239</td>\n",
              "      <td>0.236594</td>\n",
              "      <td>04:32</td>\n",
              "    </tr>\n",
              "    <tr>\n",
              "      <td>8</td>\n",
              "      <td>3.923402</td>\n",
              "      <td>3.348493</td>\n",
              "      <td>0.299835</td>\n",
              "      <td>0.097145</td>\n",
              "      <td>0.236561</td>\n",
              "      <td>04:31</td>\n",
              "    </tr>\n",
              "    <tr>\n",
              "      <td>9</td>\n",
              "      <td>3.704533</td>\n",
              "      <td>3.333591</td>\n",
              "      <td>0.304139</td>\n",
              "      <td>0.101385</td>\n",
              "      <td>0.238787</td>\n",
              "      <td>04:33</td>\n",
              "    </tr>\n",
              "    <tr>\n",
              "      <td>10</td>\n",
              "      <td>3.684874</td>\n",
              "      <td>3.317168</td>\n",
              "      <td>0.306559</td>\n",
              "      <td>0.099840</td>\n",
              "      <td>0.237822</td>\n",
              "      <td>04:31</td>\n",
              "    </tr>\n",
              "    <tr>\n",
              "      <td>11</td>\n",
              "      <td>3.677191</td>\n",
              "      <td>3.301486</td>\n",
              "      <td>0.310528</td>\n",
              "      <td>0.099802</td>\n",
              "      <td>0.243026</td>\n",
              "      <td>04:30</td>\n",
              "    </tr>\n",
              "    <tr>\n",
              "      <td>12</td>\n",
              "      <td>3.826868</td>\n",
              "      <td>3.284957</td>\n",
              "      <td>0.307001</td>\n",
              "      <td>0.101707</td>\n",
              "      <td>0.242513</td>\n",
              "      <td>04:31</td>\n",
              "    </tr>\n",
              "    <tr>\n",
              "      <td>13</td>\n",
              "      <td>3.583250</td>\n",
              "      <td>3.269271</td>\n",
              "      <td>0.305441</td>\n",
              "      <td>0.100181</td>\n",
              "      <td>0.237858</td>\n",
              "      <td>04:32</td>\n",
              "    </tr>\n",
              "    <tr>\n",
              "      <td>14</td>\n",
              "      <td>3.707685</td>\n",
              "      <td>3.254138</td>\n",
              "      <td>0.308160</td>\n",
              "      <td>0.097901</td>\n",
              "      <td>0.238667</td>\n",
              "      <td>04:25</td>\n",
              "    </tr>\n",
              "    <tr>\n",
              "      <td>15</td>\n",
              "      <td>3.587390</td>\n",
              "      <td>3.238670</td>\n",
              "      <td>0.305951</td>\n",
              "      <td>0.097347</td>\n",
              "      <td>0.237576</td>\n",
              "      <td>04:26</td>\n",
              "    </tr>\n",
              "    <tr>\n",
              "      <td>16</td>\n",
              "      <td>3.418561</td>\n",
              "      <td>3.225527</td>\n",
              "      <td>0.307660</td>\n",
              "      <td>0.099354</td>\n",
              "      <td>0.238689</td>\n",
              "      <td>04:24</td>\n",
              "    </tr>\n",
              "    <tr>\n",
              "      <td>17</td>\n",
              "      <td>3.449580</td>\n",
              "      <td>3.211603</td>\n",
              "      <td>0.310649</td>\n",
              "      <td>0.101036</td>\n",
              "      <td>0.241859</td>\n",
              "      <td>04:24</td>\n",
              "    </tr>\n",
              "    <tr>\n",
              "      <td>18</td>\n",
              "      <td>3.490758</td>\n",
              "      <td>3.200481</td>\n",
              "      <td>0.308248</td>\n",
              "      <td>0.099681</td>\n",
              "      <td>0.239085</td>\n",
              "      <td>04:26</td>\n",
              "    </tr>\n",
              "    <tr>\n",
              "      <td>19</td>\n",
              "      <td>3.448947</td>\n",
              "      <td>3.191728</td>\n",
              "      <td>0.307269</td>\n",
              "      <td>0.099873</td>\n",
              "      <td>0.239384</td>\n",
              "      <td>04:25</td>\n",
              "    </tr>\n",
              "    <tr>\n",
              "      <td>20</td>\n",
              "      <td>3.527242</td>\n",
              "      <td>3.182184</td>\n",
              "      <td>0.304265</td>\n",
              "      <td>0.098152</td>\n",
              "      <td>0.236543</td>\n",
              "      <td>04:27</td>\n",
              "    </tr>\n",
              "    <tr>\n",
              "      <td>21</td>\n",
              "      <td>3.418995</td>\n",
              "      <td>3.175482</td>\n",
              "      <td>0.306467</td>\n",
              "      <td>0.099067</td>\n",
              "      <td>0.238497</td>\n",
              "      <td>04:27</td>\n",
              "    </tr>\n",
              "    <tr>\n",
              "      <td>22</td>\n",
              "      <td>3.379638</td>\n",
              "      <td>3.169059</td>\n",
              "      <td>0.308102</td>\n",
              "      <td>0.099372</td>\n",
              "      <td>0.236789</td>\n",
              "      <td>04:22</td>\n",
              "    </tr>\n",
              "    <tr>\n",
              "      <td>23</td>\n",
              "      <td>3.359264</td>\n",
              "      <td>3.163299</td>\n",
              "      <td>0.307368</td>\n",
              "      <td>0.100600</td>\n",
              "      <td>0.240042</td>\n",
              "      <td>04:22</td>\n",
              "    </tr>\n",
              "    <tr>\n",
              "      <td>24</td>\n",
              "      <td>3.405544</td>\n",
              "      <td>3.157068</td>\n",
              "      <td>0.306982</td>\n",
              "      <td>0.101029</td>\n",
              "      <td>0.242267</td>\n",
              "      <td>04:23</td>\n",
              "    </tr>\n",
              "    <tr>\n",
              "      <td>25</td>\n",
              "      <td>3.376065</td>\n",
              "      <td>3.152247</td>\n",
              "      <td>0.304851</td>\n",
              "      <td>0.099900</td>\n",
              "      <td>0.240914</td>\n",
              "      <td>04:23</td>\n",
              "    </tr>\n",
              "    <tr>\n",
              "      <td>26</td>\n",
              "      <td>3.284539</td>\n",
              "      <td>3.147690</td>\n",
              "      <td>0.304451</td>\n",
              "      <td>0.098951</td>\n",
              "      <td>0.239212</td>\n",
              "      <td>04:22</td>\n",
              "    </tr>\n",
              "    <tr>\n",
              "      <td>27</td>\n",
              "      <td>3.341187</td>\n",
              "      <td>3.144046</td>\n",
              "      <td>0.308443</td>\n",
              "      <td>0.100619</td>\n",
              "      <td>0.241555</td>\n",
              "      <td>04:21</td>\n",
              "    </tr>\n",
              "    <tr>\n",
              "      <td>28</td>\n",
              "      <td>3.223320</td>\n",
              "      <td>3.139240</td>\n",
              "      <td>0.309355</td>\n",
              "      <td>0.101407</td>\n",
              "      <td>0.241524</td>\n",
              "      <td>04:22</td>\n",
              "    </tr>\n",
              "    <tr>\n",
              "      <td>29</td>\n",
              "      <td>3.339935</td>\n",
              "      <td>3.135610</td>\n",
              "      <td>0.311105</td>\n",
              "      <td>0.101918</td>\n",
              "      <td>0.242876</td>\n",
              "      <td>04:21</td>\n",
              "    </tr>\n",
              "    <tr>\n",
              "      <td>30</td>\n",
              "      <td>3.269939</td>\n",
              "      <td>3.132525</td>\n",
              "      <td>0.311349</td>\n",
              "      <td>0.104245</td>\n",
              "      <td>0.243069</td>\n",
              "      <td>04:20</td>\n",
              "    </tr>\n",
              "    <tr>\n",
              "      <td>31</td>\n",
              "      <td>3.368253</td>\n",
              "      <td>3.129319</td>\n",
              "      <td>0.309980</td>\n",
              "      <td>0.105534</td>\n",
              "      <td>0.241314</td>\n",
              "      <td>04:21</td>\n",
              "    </tr>\n",
              "    <tr>\n",
              "      <td>32</td>\n",
              "      <td>3.228303</td>\n",
              "      <td>3.125836</td>\n",
              "      <td>0.308476</td>\n",
              "      <td>0.104702</td>\n",
              "      <td>0.240493</td>\n",
              "      <td>04:20</td>\n",
              "    </tr>\n",
              "    <tr>\n",
              "      <td>33</td>\n",
              "      <td>3.222986</td>\n",
              "      <td>3.123219</td>\n",
              "      <td>0.309794</td>\n",
              "      <td>0.104644</td>\n",
              "      <td>0.239084</td>\n",
              "      <td>04:21</td>\n",
              "    </tr>\n",
              "    <tr>\n",
              "      <td>34</td>\n",
              "      <td>3.193722</td>\n",
              "      <td>3.120677</td>\n",
              "      <td>0.310705</td>\n",
              "      <td>0.103538</td>\n",
              "      <td>0.238397</td>\n",
              "      <td>04:21</td>\n",
              "    </tr>\n",
              "    <tr>\n",
              "      <td>35</td>\n",
              "      <td>3.184864</td>\n",
              "      <td>3.117423</td>\n",
              "      <td>0.308361</td>\n",
              "      <td>0.104154</td>\n",
              "      <td>0.238232</td>\n",
              "      <td>04:18</td>\n",
              "    </tr>\n",
              "    <tr>\n",
              "      <td>36</td>\n",
              "      <td>3.186703</td>\n",
              "      <td>3.114132</td>\n",
              "      <td>0.306234</td>\n",
              "      <td>0.102133</td>\n",
              "      <td>0.236731</td>\n",
              "      <td>04:19</td>\n",
              "    </tr>\n",
              "    <tr>\n",
              "      <td>37</td>\n",
              "      <td>3.259853</td>\n",
              "      <td>3.111607</td>\n",
              "      <td>0.304559</td>\n",
              "      <td>0.102300</td>\n",
              "      <td>0.237430</td>\n",
              "      <td>04:19</td>\n",
              "    </tr>\n",
              "    <tr>\n",
              "      <td>38</td>\n",
              "      <td>3.361087</td>\n",
              "      <td>3.109479</td>\n",
              "      <td>0.305697</td>\n",
              "      <td>0.102884</td>\n",
              "      <td>0.239060</td>\n",
              "      <td>04:20</td>\n",
              "    </tr>\n",
              "    <tr>\n",
              "      <td>39</td>\n",
              "      <td>3.022920</td>\n",
              "      <td>3.107191</td>\n",
              "      <td>0.303674</td>\n",
              "      <td>0.102976</td>\n",
              "      <td>0.238178</td>\n",
              "      <td>04:19</td>\n",
              "    </tr>\n",
              "    <tr>\n",
              "      <td>40</td>\n",
              "      <td>3.223952</td>\n",
              "      <td>3.104568</td>\n",
              "      <td>0.308894</td>\n",
              "      <td>0.102855</td>\n",
              "      <td>0.241092</td>\n",
              "      <td>04:18</td>\n",
              "    </tr>\n",
              "    <tr>\n",
              "      <td>41</td>\n",
              "      <td>3.144017</td>\n",
              "      <td>3.102408</td>\n",
              "      <td>0.308440</td>\n",
              "      <td>0.103089</td>\n",
              "      <td>0.240999</td>\n",
              "      <td>04:18</td>\n",
              "    </tr>\n",
              "    <tr>\n",
              "      <td>42</td>\n",
              "      <td>3.284512</td>\n",
              "      <td>3.100028</td>\n",
              "      <td>0.305679</td>\n",
              "      <td>0.101996</td>\n",
              "      <td>0.239447</td>\n",
              "      <td>04:18</td>\n",
              "    </tr>\n",
              "    <tr>\n",
              "      <td>43</td>\n",
              "      <td>3.110361</td>\n",
              "      <td>3.097753</td>\n",
              "      <td>0.306652</td>\n",
              "      <td>0.101605</td>\n",
              "      <td>0.237711</td>\n",
              "      <td>04:20</td>\n",
              "    </tr>\n",
              "    <tr>\n",
              "      <td>44</td>\n",
              "      <td>3.118552</td>\n",
              "      <td>3.095425</td>\n",
              "      <td>0.306096</td>\n",
              "      <td>0.100316</td>\n",
              "      <td>0.237610</td>\n",
              "      <td>04:18</td>\n",
              "    </tr>\n",
              "    <tr>\n",
              "      <td>45</td>\n",
              "      <td>3.145652</td>\n",
              "      <td>3.092288</td>\n",
              "      <td>0.306466</td>\n",
              "      <td>0.101490</td>\n",
              "      <td>0.238151</td>\n",
              "      <td>04:18</td>\n",
              "    </tr>\n",
              "    <tr>\n",
              "      <td>46</td>\n",
              "      <td>3.087636</td>\n",
              "      <td>3.088561</td>\n",
              "      <td>0.306939</td>\n",
              "      <td>0.101669</td>\n",
              "      <td>0.238037</td>\n",
              "      <td>04:19</td>\n",
              "    </tr>\n",
              "    <tr>\n",
              "      <td>47</td>\n",
              "      <td>3.202431</td>\n",
              "      <td>3.084595</td>\n",
              "      <td>0.307049</td>\n",
              "      <td>0.100211</td>\n",
              "      <td>0.236647</td>\n",
              "      <td>04:18</td>\n",
              "    </tr>\n",
              "    <tr>\n",
              "      <td>48</td>\n",
              "      <td>3.169595</td>\n",
              "      <td>3.080830</td>\n",
              "      <td>0.305150</td>\n",
              "      <td>0.099571</td>\n",
              "      <td>0.236183</td>\n",
              "      <td>04:18</td>\n",
              "    </tr>\n",
              "    <tr>\n",
              "      <td>49</td>\n",
              "      <td>3.044323</td>\n",
              "      <td>3.076345</td>\n",
              "      <td>0.305722</td>\n",
              "      <td>0.098125</td>\n",
              "      <td>0.235791</td>\n",
              "      <td>04:18</td>\n",
              "    </tr>\n",
              "    <tr>\n",
              "      <td>50</td>\n",
              "      <td>3.064401</td>\n",
              "      <td>3.072403</td>\n",
              "      <td>0.307007</td>\n",
              "      <td>0.098072</td>\n",
              "      <td>0.238028</td>\n",
              "      <td>04:18</td>\n",
              "    </tr>\n",
              "    <tr>\n",
              "      <td>51</td>\n",
              "      <td>3.186879</td>\n",
              "      <td>3.069618</td>\n",
              "      <td>0.305096</td>\n",
              "      <td>0.098686</td>\n",
              "      <td>0.237526</td>\n",
              "      <td>04:18</td>\n",
              "    </tr>\n",
              "    <tr>\n",
              "      <td>52</td>\n",
              "      <td>2.985713</td>\n",
              "      <td>3.067027</td>\n",
              "      <td>0.305667</td>\n",
              "      <td>0.098624</td>\n",
              "      <td>0.237326</td>\n",
              "      <td>04:18</td>\n",
              "    </tr>\n",
              "    <tr>\n",
              "      <td>53</td>\n",
              "      <td>3.037307</td>\n",
              "      <td>3.064981</td>\n",
              "      <td>0.305198</td>\n",
              "      <td>0.099049</td>\n",
              "      <td>0.236152</td>\n",
              "      <td>04:19</td>\n",
              "    </tr>\n",
              "    <tr>\n",
              "      <td>54</td>\n",
              "      <td>3.049568</td>\n",
              "      <td>3.063617</td>\n",
              "      <td>0.306298</td>\n",
              "      <td>0.097892</td>\n",
              "      <td>0.236502</td>\n",
              "      <td>04:18</td>\n",
              "    </tr>\n",
              "    <tr>\n",
              "      <td>55</td>\n",
              "      <td>3.122846</td>\n",
              "      <td>3.062722</td>\n",
              "      <td>0.304932</td>\n",
              "      <td>0.098056</td>\n",
              "      <td>0.235351</td>\n",
              "      <td>04:18</td>\n",
              "    </tr>\n",
              "    <tr>\n",
              "      <td>56</td>\n",
              "      <td>3.031876</td>\n",
              "      <td>3.061810</td>\n",
              "      <td>0.307469</td>\n",
              "      <td>0.099216</td>\n",
              "      <td>0.237589</td>\n",
              "      <td>04:17</td>\n",
              "    </tr>\n",
              "    <tr>\n",
              "      <td>57</td>\n",
              "      <td>3.082143</td>\n",
              "      <td>3.060192</td>\n",
              "      <td>0.307323</td>\n",
              "      <td>0.099661</td>\n",
              "      <td>0.238894</td>\n",
              "      <td>04:18</td>\n",
              "    </tr>\n",
              "    <tr>\n",
              "      <td>58</td>\n",
              "      <td>3.109713</td>\n",
              "      <td>3.059301</td>\n",
              "      <td>0.304582</td>\n",
              "      <td>0.098788</td>\n",
              "      <td>0.237461</td>\n",
              "      <td>04:18</td>\n",
              "    </tr>\n",
              "    <tr>\n",
              "      <td>59</td>\n",
              "      <td>3.110618</td>\n",
              "      <td>3.058650</td>\n",
              "      <td>0.304526</td>\n",
              "      <td>0.097496</td>\n",
              "      <td>0.235652</td>\n",
              "      <td>04:19</td>\n",
              "    </tr>\n",
              "    <tr>\n",
              "      <td>60</td>\n",
              "      <td>2.922187</td>\n",
              "      <td>3.058291</td>\n",
              "      <td>0.304663</td>\n",
              "      <td>0.097382</td>\n",
              "      <td>0.235974</td>\n",
              "      <td>04:19</td>\n",
              "    </tr>\n",
              "    <tr>\n",
              "      <td>61</td>\n",
              "      <td>3.006808</td>\n",
              "      <td>3.058139</td>\n",
              "      <td>0.303779</td>\n",
              "      <td>0.096982</td>\n",
              "      <td>0.234166</td>\n",
              "      <td>04:19</td>\n",
              "    </tr>\n",
              "    <tr>\n",
              "      <td>62</td>\n",
              "      <td>3.063678</td>\n",
              "      <td>3.057804</td>\n",
              "      <td>0.304862</td>\n",
              "      <td>0.098605</td>\n",
              "      <td>0.236868</td>\n",
              "      <td>04:19</td>\n",
              "    </tr>\n",
              "    <tr>\n",
              "      <td>63</td>\n",
              "      <td>3.059776</td>\n",
              "      <td>3.057412</td>\n",
              "      <td>0.305434</td>\n",
              "      <td>0.099000</td>\n",
              "      <td>0.236468</td>\n",
              "      <td>04:18</td>\n",
              "    </tr>\n",
              "    <tr>\n",
              "      <td>64</td>\n",
              "      <td>3.070746</td>\n",
              "      <td>3.056848</td>\n",
              "      <td>0.306012</td>\n",
              "      <td>0.099823</td>\n",
              "      <td>0.239268</td>\n",
              "      <td>04:19</td>\n",
              "    </tr>\n",
              "    <tr>\n",
              "      <td>65</td>\n",
              "      <td>3.025361</td>\n",
              "      <td>3.056350</td>\n",
              "      <td>0.306309</td>\n",
              "      <td>0.099825</td>\n",
              "      <td>0.237403</td>\n",
              "      <td>04:18</td>\n",
              "    </tr>\n",
              "    <tr>\n",
              "      <td>66</td>\n",
              "      <td>3.032786</td>\n",
              "      <td>3.056134</td>\n",
              "      <td>0.305672</td>\n",
              "      <td>0.099261</td>\n",
              "      <td>0.237049</td>\n",
              "      <td>04:18</td>\n",
              "    </tr>\n",
              "    <tr>\n",
              "      <td>67</td>\n",
              "      <td>3.006979</td>\n",
              "      <td>3.056029</td>\n",
              "      <td>0.305440</td>\n",
              "      <td>0.098538</td>\n",
              "      <td>0.237193</td>\n",
              "      <td>04:18</td>\n",
              "    </tr>\n",
              "    <tr>\n",
              "      <td>68</td>\n",
              "      <td>3.061084</td>\n",
              "      <td>3.055359</td>\n",
              "      <td>0.306898</td>\n",
              "      <td>0.100069</td>\n",
              "      <td>0.237698</td>\n",
              "      <td>04:18</td>\n",
              "    </tr>\n",
              "    <tr>\n",
              "      <td>69</td>\n",
              "      <td>2.933674</td>\n",
              "      <td>3.055344</td>\n",
              "      <td>0.305842</td>\n",
              "      <td>0.098217</td>\n",
              "      <td>0.236238</td>\n",
              "      <td>04:18</td>\n",
              "    </tr>\n",
              "    <tr>\n",
              "      <td>70</td>\n",
              "      <td>3.099261</td>\n",
              "      <td>3.055132</td>\n",
              "      <td>0.304690</td>\n",
              "      <td>0.098039</td>\n",
              "      <td>0.236206</td>\n",
              "      <td>04:18</td>\n",
              "    </tr>\n",
              "    <tr>\n",
              "      <td>71</td>\n",
              "      <td>2.891592</td>\n",
              "      <td>3.054957</td>\n",
              "      <td>0.304647</td>\n",
              "      <td>0.097247</td>\n",
              "      <td>0.236046</td>\n",
              "      <td>04:18</td>\n",
              "    </tr>\n",
              "    <tr>\n",
              "      <td>72</td>\n",
              "      <td>2.966131</td>\n",
              "      <td>3.054696</td>\n",
              "      <td>0.306638</td>\n",
              "      <td>0.098486</td>\n",
              "      <td>0.238426</td>\n",
              "      <td>04:18</td>\n",
              "    </tr>\n",
              "    <tr>\n",
              "      <td>73</td>\n",
              "      <td>3.061902</td>\n",
              "      <td>3.054602</td>\n",
              "      <td>0.306888</td>\n",
              "      <td>0.097588</td>\n",
              "      <td>0.237849</td>\n",
              "      <td>04:18</td>\n",
              "    </tr>\n",
              "    <tr>\n",
              "      <td>74</td>\n",
              "      <td>3.124338</td>\n",
              "      <td>3.054425</td>\n",
              "      <td>0.305986</td>\n",
              "      <td>0.097232</td>\n",
              "      <td>0.237268</td>\n",
              "      <td>04:18</td>\n",
              "    </tr>\n",
              "    <tr>\n",
              "      <td>75</td>\n",
              "      <td>2.946301</td>\n",
              "      <td>3.054013</td>\n",
              "      <td>0.305250</td>\n",
              "      <td>0.097512</td>\n",
              "      <td>0.236269</td>\n",
              "      <td>04:18</td>\n",
              "    </tr>\n",
              "    <tr>\n",
              "      <td>76</td>\n",
              "      <td>2.990491</td>\n",
              "      <td>3.054011</td>\n",
              "      <td>0.306211</td>\n",
              "      <td>0.098068</td>\n",
              "      <td>0.236614</td>\n",
              "      <td>04:18</td>\n",
              "    </tr>\n",
              "    <tr>\n",
              "      <td>77</td>\n",
              "      <td>3.073127</td>\n",
              "      <td>3.053914</td>\n",
              "      <td>0.307481</td>\n",
              "      <td>0.100324</td>\n",
              "      <td>0.237518</td>\n",
              "      <td>04:18</td>\n",
              "    </tr>\n",
              "    <tr>\n",
              "      <td>78</td>\n",
              "      <td>3.039612</td>\n",
              "      <td>3.053810</td>\n",
              "      <td>0.308409</td>\n",
              "      <td>0.100540</td>\n",
              "      <td>0.238247</td>\n",
              "      <td>04:18</td>\n",
              "    </tr>\n",
              "    <tr>\n",
              "      <td>79</td>\n",
              "      <td>2.933837</td>\n",
              "      <td>3.053699</td>\n",
              "      <td>0.307836</td>\n",
              "      <td>0.098938</td>\n",
              "      <td>0.237997</td>\n",
              "      <td>04:18</td>\n",
              "    </tr>\n",
              "    <tr>\n",
              "      <td>80</td>\n",
              "      <td>2.944145</td>\n",
              "      <td>3.053493</td>\n",
              "      <td>0.308909</td>\n",
              "      <td>0.099505</td>\n",
              "      <td>0.239370</td>\n",
              "      <td>04:19</td>\n",
              "    </tr>\n",
              "    <tr>\n",
              "      <td>81</td>\n",
              "      <td>3.002522</td>\n",
              "      <td>3.053490</td>\n",
              "      <td>0.307432</td>\n",
              "      <td>0.098071</td>\n",
              "      <td>0.237213</td>\n",
              "      <td>04:18</td>\n",
              "    </tr>\n",
              "    <tr>\n",
              "      <td>82</td>\n",
              "      <td>3.014530</td>\n",
              "      <td>3.053472</td>\n",
              "      <td>0.307614</td>\n",
              "      <td>0.098219</td>\n",
              "      <td>0.237151</td>\n",
              "      <td>04:19</td>\n",
              "    </tr>\n",
              "    <tr>\n",
              "      <td>83</td>\n",
              "      <td>2.938415</td>\n",
              "      <td>3.053461</td>\n",
              "      <td>0.306871</td>\n",
              "      <td>0.099621</td>\n",
              "      <td>0.237541</td>\n",
              "      <td>04:19</td>\n",
              "    </tr>\n",
              "    <tr>\n",
              "      <td>84</td>\n",
              "      <td>2.881434</td>\n",
              "      <td>3.053436</td>\n",
              "      <td>0.306788</td>\n",
              "      <td>0.098297</td>\n",
              "      <td>0.237471</td>\n",
              "      <td>04:20</td>\n",
              "    </tr>\n",
              "    <tr>\n",
              "      <td>85</td>\n",
              "      <td>2.896693</td>\n",
              "      <td>3.053436</td>\n",
              "      <td>0.305895</td>\n",
              "      <td>0.098269</td>\n",
              "      <td>0.236249</td>\n",
              "      <td>04:19</td>\n",
              "    </tr>\n",
              "    <tr>\n",
              "      <td>86</td>\n",
              "      <td>3.003788</td>\n",
              "      <td>3.053418</td>\n",
              "      <td>0.305953</td>\n",
              "      <td>0.098140</td>\n",
              "      <td>0.236463</td>\n",
              "      <td>04:19</td>\n",
              "    </tr>\n",
              "    <tr>\n",
              "      <td>87</td>\n",
              "      <td>3.046383</td>\n",
              "      <td>3.053437</td>\n",
              "      <td>0.305548</td>\n",
              "      <td>0.097926</td>\n",
              "      <td>0.235975</td>\n",
              "      <td>04:18</td>\n",
              "    </tr>\n",
              "    <tr>\n",
              "      <td>88</td>\n",
              "      <td>3.084974</td>\n",
              "      <td>3.053434</td>\n",
              "      <td>0.305562</td>\n",
              "      <td>0.098033</td>\n",
              "      <td>0.236352</td>\n",
              "      <td>04:19</td>\n",
              "    </tr>\n",
              "    <tr>\n",
              "      <td>89</td>\n",
              "      <td>2.949821</td>\n",
              "      <td>3.053431</td>\n",
              "      <td>0.305111</td>\n",
              "      <td>0.097827</td>\n",
              "      <td>0.236727</td>\n",
              "      <td>04:21</td>\n",
              "    </tr>\n",
              "    <tr>\n",
              "      <td>90</td>\n",
              "      <td>3.030544</td>\n",
              "      <td>3.053413</td>\n",
              "      <td>0.305584</td>\n",
              "      <td>0.098669</td>\n",
              "      <td>0.236848</td>\n",
              "      <td>04:19</td>\n",
              "    </tr>\n",
              "    <tr>\n",
              "      <td>91</td>\n",
              "      <td>3.042419</td>\n",
              "      <td>3.053391</td>\n",
              "      <td>0.305431</td>\n",
              "      <td>0.098669</td>\n",
              "      <td>0.236718</td>\n",
              "      <td>04:19</td>\n",
              "    </tr>\n",
              "    <tr>\n",
              "      <td>92</td>\n",
              "      <td>3.036682</td>\n",
              "      <td>3.053381</td>\n",
              "      <td>0.306168</td>\n",
              "      <td>0.099291</td>\n",
              "      <td>0.237118</td>\n",
              "      <td>04:19</td>\n",
              "    </tr>\n",
              "    <tr>\n",
              "      <td>93</td>\n",
              "      <td>2.903848</td>\n",
              "      <td>3.053418</td>\n",
              "      <td>0.306145</td>\n",
              "      <td>0.099820</td>\n",
              "      <td>0.237001</td>\n",
              "      <td>04:19</td>\n",
              "    </tr>\n",
              "    <tr>\n",
              "      <td>94</td>\n",
              "      <td>3.029375</td>\n",
              "      <td>3.053422</td>\n",
              "      <td>0.305471</td>\n",
              "      <td>0.099970</td>\n",
              "      <td>0.237246</td>\n",
              "      <td>04:19</td>\n",
              "    </tr>\n",
              "    <tr>\n",
              "      <td>95</td>\n",
              "      <td>2.996008</td>\n",
              "      <td>3.053359</td>\n",
              "      <td>0.305593</td>\n",
              "      <td>0.099395</td>\n",
              "      <td>0.236989</td>\n",
              "      <td>04:19</td>\n",
              "    </tr>\n",
              "    <tr>\n",
              "      <td>96</td>\n",
              "      <td>2.863392</td>\n",
              "      <td>3.053465</td>\n",
              "      <td>0.305593</td>\n",
              "      <td>0.099395</td>\n",
              "      <td>0.236989</td>\n",
              "      <td>04:19</td>\n",
              "    </tr>\n",
              "    <tr>\n",
              "      <td>97</td>\n",
              "      <td>2.983497</td>\n",
              "      <td>3.053425</td>\n",
              "      <td>0.305637</td>\n",
              "      <td>0.099403</td>\n",
              "      <td>0.236994</td>\n",
              "      <td>04:19</td>\n",
              "    </tr>\n",
              "    <tr>\n",
              "      <td>98</td>\n",
              "      <td>2.961061</td>\n",
              "      <td>3.053388</td>\n",
              "      <td>0.305637</td>\n",
              "      <td>0.099403</td>\n",
              "      <td>0.236994</td>\n",
              "      <td>04:18</td>\n",
              "    </tr>\n",
              "    <tr>\n",
              "      <td>99</td>\n",
              "      <td>2.884165</td>\n",
              "      <td>3.053379</td>\n",
              "      <td>0.305637</td>\n",
              "      <td>0.099403</td>\n",
              "      <td>0.236994</td>\n",
              "      <td>04:18</td>\n",
              "    </tr>\n",
              "  </tbody>\n",
              "</table>"
            ],
            "text/plain": [
              "<IPython.core.display.HTML object>"
            ]
          },
          "metadata": {
            "tags": []
          }
        }
      ]
    },
    {
      "cell_type": "code",
      "metadata": {
        "colab": {
          "base_uri": "https://localhost:8080/",
          "height": 401
        },
        "id": "2QJSkuoP2kyo",
        "outputId": "593fea2f-a695-41b5-88b4-b1992ec3ff2b"
      },
      "source": [
        "learn.show_results(learner=learn, max_n=2)"
      ],
      "execution_count": null,
      "outputs": [
        {
          "output_type": "display_data",
          "data": {
            "text/html": [
              ""
            ],
            "text/plain": [
              "<IPython.core.display.HTML object>"
            ]
          },
          "metadata": {
            "tags": []
          }
        },
        {
          "output_type": "display_data",
          "data": {
            "text/html": [
              "<table border=\"1\" class=\"dataframe\">\n",
              "  <thead>\n",
              "    <tr style=\"text-align: right;\">\n",
              "      <th></th>\n",
              "      <th>text</th>\n",
              "      <th>target</th>\n",
              "      <th>prediction</th>\n",
              "    </tr>\n",
              "  </thead>\n",
              "  <tbody>\n",
              "    <tr>\n",
              "      <th>0</th>\n",
              "      <td>hi, i'm x-posting this here because i'm not sure where else to go with it, this is a big sub and if it's ever going to gain momentum i think this is the place to do it, i haven't quite fucked up yet but i could well be heading towards disaster with this, the woman in question in the following text is pure evil and not to be messed with. at the moment it's harmless but i'm pretty sure that will change tonight. mmmkay, reddit, this is my first throwaway post here and this is the most recent, relevant post i can find given that there is no sub for catfish this is happening now and it started yesterday. i'm a young, fairly good looking male, i recently became single and have been dating online, yesterday i had a friend request from an exceptionally hot girl (already questionable, i don't get many of those) my profile is private so i know she must have typed my name in to find me so i sent a message before accepting her request to try figure out if it was my ex girlfriend trying to troll somehow. after an hour or so of friendly chat with this stranger which was harmless enough, i was pretty well convinced she was not</td>\n",
              "      <td>; my friends ex is trying to catfish me but i know its her and she doesn't know i know it's her.</td>\n",
              "      <td>i accepted a friend request from an extremely hot girl thinking it was my ex girlfriend trying to troll me. turns out it was just a random stranger trying to find me.</td>\n",
              "    </tr>\n",
              "    <tr>\n",
              "      <th>1</th>\n",
              "      <td>first off, sorry for the wall of text. we were out all afternoon, visiting my inlaws. it was a good day, we raided their basement for party supplies and had pasties for lunch. for the uninformed, a pasty is a bready pocket of deliciousness filled with meat and vegetables. like i said, delicious, but sort of a gut bomb. it was an hour drive home and by the time we pulled into the driveway i could feel some serious business brewing. i run in the door and made for the downstairs bathroom. as i enter, i peripherally note a kind of \"gloop-gloop\" coming from somewhere in the wall. in my haste to sink the bismarck, i ignore this and start doing my thing. ahhh, sweet relief. i read a few pages of my book, then finish up and flush. as i'm leaving the bathroom, i hear that gloop-gloop again, and then a steady whoosh. suddenly my toilet is a swirling maelstrom of brown, and it's up and over the rim before i can say, \"oh, shee-\". i yell to the wife, \"fuck, the toilet's overflowing!\" god love her, she springs into</td>\n",
              "      <td>delicious pocket snack inadvertently triggers a tsunami of shit that wrecks up our house wife and i clean up with comically ineffectual tools.</td>\n",
              "      <td>ate a ton of pasty's and shit all over the floor of my inlaws house. toilet overflowed and i screamed at my wife.</td>\n",
              "    </tr>\n",
              "  </tbody>\n",
              "</table>"
            ],
            "text/plain": [
              "<IPython.core.display.HTML object>"
            ]
          },
          "metadata": {
            "tags": []
          }
        }
      ]
    },
    {
      "cell_type": "code",
      "metadata": {
        "id": "anyiy-4trX5L"
      },
      "source": [
        ""
      ],
      "execution_count": null,
      "outputs": []
    }
  ]
}